{
 "cells": [
  {
   "cell_type": "markdown",
   "metadata": {},
   "source": [
    "### Import libraries"
   ]
  },
  {
   "cell_type": "code",
   "execution_count": 2,
   "metadata": {},
   "outputs": [],
   "source": [
    "import pandas as pd\n",
    "import numpy as np\n",
    "import nltk\n",
    "import matplotlib.pyplot as plt\n",
    "%matplotlib inline\n",
    "import seaborn as sns\n",
    "from nltk.stem import PorterStemmer\n",
    "from nltk.tokenize import word_tokenize\n",
    "from nltk.corpus import stopwords\n",
    "import os\n",
    "import re\n",
    "from nltk.corpus import wordnet as wn\n",
    "from nltk.stem.wordnet import WordNetLemmatizer\n",
    "from nltk import word_tokenize, pos_tag\n",
    "from collections import defaultdict\n",
    "from sklearn.ensemble import RandomForestClassifier\n",
    "from sklearn.model_selection import GridSearchCV\n",
    "from sklearn.model_selection import train_test_split\n",
    "from sklearn.feature_extraction.text import CountVectorizer\n",
    "from sklearn import svm\n",
    "from sklearn import metrics\n",
    "from sklearn.model_selection import cross_val_score\n",
    "import time\n",
    "from sklearn.tree import DecisionTreeClassifier"
   ]
  },
  {
   "cell_type": "markdown",
   "metadata": {},
   "source": [
    "### Data cleaning"
   ]
  },
  {
   "cell_type": "code",
   "execution_count": 3,
   "metadata": {},
   "outputs": [
    {
     "name": "stderr",
     "output_type": "stream",
     "text": [
      "[nltk_data] Downloading package punkt to C:\\Users\\Wei\n",
      "[nltk_data]     Ling\\AppData\\Roaming\\nltk_data...\n",
      "[nltk_data]   Package punkt is already up-to-date!\n",
      "[nltk_data] Downloading package stopwords to C:\\Users\\Wei\n",
      "[nltk_data]     Ling\\AppData\\Roaming\\nltk_data...\n",
      "[nltk_data]   Package stopwords is already up-to-date!\n",
      "[nltk_data] Downloading package wordnet to C:\\Users\\Wei\n",
      "[nltk_data]     Ling\\AppData\\Roaming\\nltk_data...\n",
      "[nltk_data]   Package wordnet is already up-to-date!\n",
      "[nltk_data] Downloading package averaged_perceptron_tagger to\n",
      "[nltk_data]     C:\\Users\\Wei Ling\\AppData\\Roaming\\nltk_data...\n",
      "[nltk_data]   Package averaged_perceptron_tagger is already up-to-\n",
      "[nltk_data]       date!\n"
     ]
    }
   ],
   "source": [
    "nltk.download('punkt')\n",
    "nltk.download('stopwords')\n",
    "nltk.download('wordnet')\n",
    "nltk.download('averaged_perceptron_tagger')\n",
    "tag_map = defaultdict(lambda : wn.NOUN)\n",
    "tag_map['J'] = wn.ADJ\n",
    "tag_map['V'] = wn.VERB\n",
    "tag_map['R'] = wn.ADV"
   ]
  },
  {
   "cell_type": "code",
   "execution_count": 4,
   "metadata": {},
   "outputs": [
    {
     "data": {
      "text/html": [
       "<div>\n",
       "<style scoped>\n",
       "    .dataframe tbody tr th:only-of-type {\n",
       "        vertical-align: middle;\n",
       "    }\n",
       "\n",
       "    .dataframe tbody tr th {\n",
       "        vertical-align: top;\n",
       "    }\n",
       "\n",
       "    .dataframe thead th {\n",
       "        text-align: right;\n",
       "    }\n",
       "</style>\n",
       "<table border=\"1\" class=\"dataframe\">\n",
       "  <thead>\n",
       "    <tr style=\"text-align: right;\">\n",
       "      <th></th>\n",
       "      <th>post_id</th>\n",
       "      <th>comment_text</th>\n",
       "      <th>author</th>\n",
       "      <th>created_utc</th>\n",
       "      <th>sentiment</th>\n",
       "      <th>manual_label</th>\n",
       "      <th>user_sentiment</th>\n",
       "      <th>Unnamed: 6</th>\n",
       "      <th>Manual Label</th>\n",
       "    </tr>\n",
       "  </thead>\n",
       "  <tbody>\n",
       "    <tr>\n",
       "      <th>0</th>\n",
       "      <td>iz0gss</td>\n",
       "      <td>I feel like the much much better version of th...</td>\n",
       "      <td>Waker_of_Winds2003</td>\n",
       "      <td>2020-09-24 17:34:24</td>\n",
       "      <td>0</td>\n",
       "      <td>0.0</td>\n",
       "      <td>NaN</td>\n",
       "      <td>NaN</td>\n",
       "      <td>NaN</td>\n",
       "    </tr>\n",
       "    <tr>\n",
       "      <th>1</th>\n",
       "      <td>iz0gss</td>\n",
       "      <td>Totally agree. Ender's game is one of the best...</td>\n",
       "      <td>Atreides16</td>\n",
       "      <td>2020-09-24 17:42:34</td>\n",
       "      <td>1</td>\n",
       "      <td>0.0</td>\n",
       "      <td>NaN</td>\n",
       "      <td>NaN</td>\n",
       "      <td>NaN</td>\n",
       "    </tr>\n",
       "    <tr>\n",
       "      <th>2</th>\n",
       "      <td>k51srz</td>\n",
       "      <td>The Maze Runner trilogy left me wholly dissati...</td>\n",
       "      <td>No-Seaweed-4456</td>\n",
       "      <td>2020-12-02 18:51:24</td>\n",
       "      <td>0</td>\n",
       "      <td>0.0</td>\n",
       "      <td>NaN</td>\n",
       "      <td>NaN</td>\n",
       "      <td>NaN</td>\n",
       "    </tr>\n",
       "    <tr>\n",
       "      <th>3</th>\n",
       "      <td>k51srz</td>\n",
       "      <td>the book itself was good and all and I just fi...</td>\n",
       "      <td>patric5</td>\n",
       "      <td>2020-12-02 22:04:17</td>\n",
       "      <td>1</td>\n",
       "      <td>1.0</td>\n",
       "      <td>NaN</td>\n",
       "      <td>NaN</td>\n",
       "      <td>NaN</td>\n",
       "    </tr>\n",
       "    <tr>\n",
       "      <th>4</th>\n",
       "      <td>k51srz</td>\n",
       "      <td>James Dashner is an idea guy, but fails misera...</td>\n",
       "      <td>NefarioussNess</td>\n",
       "      <td>2020-12-02 18:57:47</td>\n",
       "      <td>0</td>\n",
       "      <td>0.0</td>\n",
       "      <td>NaN</td>\n",
       "      <td>NaN</td>\n",
       "      <td>NaN</td>\n",
       "    </tr>\n",
       "  </tbody>\n",
       "</table>\n",
       "</div>"
      ],
      "text/plain": [
       "  post_id                                       comment_text  \\\n",
       "0  iz0gss  I feel like the much much better version of th...   \n",
       "1  iz0gss  Totally agree. Ender's game is one of the best...   \n",
       "2  k51srz  The Maze Runner trilogy left me wholly dissati...   \n",
       "3  k51srz  the book itself was good and all and I just fi...   \n",
       "4  k51srz  James Dashner is an idea guy, but fails misera...   \n",
       "\n",
       "               author          created_utc  sentiment  manual_label  \\\n",
       "0  Waker_of_Winds2003  2020-09-24 17:34:24          0           0.0   \n",
       "1          Atreides16  2020-09-24 17:42:34          1           0.0   \n",
       "2     No-Seaweed-4456  2020-12-02 18:51:24          0           0.0   \n",
       "3             patric5  2020-12-02 22:04:17          1           1.0   \n",
       "4      NefarioussNess  2020-12-02 18:57:47          0           0.0   \n",
       "\n",
       "   user_sentiment  Unnamed: 6  Manual Label  \n",
       "0             NaN         NaN           NaN  \n",
       "1             NaN         NaN           NaN  \n",
       "2             NaN         NaN           NaN  \n",
       "3             NaN         NaN           NaN  \n",
       "4             NaN         NaN           NaN  "
      ]
     },
     "execution_count": 4,
     "metadata": {},
     "output_type": "execute_result"
    }
   ],
   "source": [
    "# Load data\n",
    "books = {'Action' : ['The Maze Runner', 'Dune', 'Jurassic Park', 'Ready Player One', 'The Hunger Games'],\n",
    "           'Comedy' : ['Confed of Dunces', 'Catch-22', 'Good Omens', 'The Catcher in the Rye', 'The Idiot'],\n",
    "           'Fantasy' : ['Eragon', 'Narnia', 'The Hobbit', 'The Last Wish', 'The Royal Ranger'],\n",
    "           'Horror' : ['Dracula', 'Frankenstein', 'THe Exorcist', 'The Housemaid', 'The Shining'],\n",
    "           'Mystery' : ['Gone Girl', 'Rebecca', 'The Maid', 'The Secret History', 'Devil in the White City']}\n",
    "\n",
    "books_df = pd.DataFrame()\n",
    "\n",
    "for genre, genre_books in books.items():\n",
    "    for book in genre_books:\n",
    "        excel_file_path = os.path.join(f\"labelled_data/{genre.lower()}/{genre}_{book}_analyzed_reviews.xlsx\")\n",
    "        df = pd.read_excel(excel_file_path)\n",
    "        books_df = pd.concat([books_df, df], ignore_index=True)\n",
    "\n",
    "books_df.head()"
   ]
  },
  {
   "cell_type": "code",
   "execution_count": 5,
   "metadata": {},
   "outputs": [
    {
     "data": {
      "text/plain": [
       "post_id            object\n",
       "comment_text       object\n",
       "author             object\n",
       "created_utc        object\n",
       "sentiment           int64\n",
       "manual_label      float64\n",
       "user_sentiment    float64\n",
       "Unnamed: 6        float64\n",
       "Manual Label      float64\n",
       "dtype: object"
      ]
     },
     "execution_count": 5,
     "metadata": {},
     "output_type": "execute_result"
    }
   ],
   "source": [
    "# Check that sentimt is of integer\n",
    "books_df.dtypes"
   ]
  },
  {
   "cell_type": "code",
   "execution_count": 6,
   "metadata": {},
   "outputs": [],
   "source": [
    "comment_df = books_df[['comment_text', 'sentiment']]"
   ]
  },
  {
   "cell_type": "code",
   "execution_count": 7,
   "metadata": {},
   "outputs": [
    {
     "data": {
      "text/plain": [
       "array([0, 1], dtype=int64)"
      ]
     },
     "execution_count": 7,
     "metadata": {},
     "output_type": "execute_result"
    }
   ],
   "source": [
    "# drop 2 and 3\n",
    "comment_df = comment_df[comment_df.sentiment != 2]\n",
    "comment_df = comment_df[comment_df.sentiment != 3]\n",
    "comment_df['sentiment'].unique()"
   ]
  },
  {
   "cell_type": "code",
   "execution_count": 8,
   "metadata": {},
   "outputs": [],
   "source": [
    "def data_cleaning(x):\n",
    "    x = str(x)\n",
    "    pattern = '[^a-zA-Z0-9\\ ]'\n",
    "    x = re.sub(pattern,'',x)\n",
    "    x = x.lower()\n",
    "    x = x.strip()\n",
    "    # Convert more than 2 letter repetitions to 2 letter\n",
    "    # funnnnny --> funny\n",
    "    x = re.sub(r'(.)\\1+', r'\\1\\1', x)\n",
    "    # Remove - & '\n",
    "    x = re.sub(r'(-|\\')', ' ', x)\n",
    "    return x"
   ]
  },
  {
   "cell_type": "code",
   "execution_count": 9,
   "metadata": {},
   "outputs": [],
   "source": [
    "def remove_links_funny_words(x):\n",
    "    x = re.sub('(https?://[\\S]+)', ' URL ', str(x))\n",
    "    x = x.replace(\"xmass\", \"christmas\")\n",
    "    x = x.replace(\"...\", \" \")\n",
    "    x = x.replace(\"'ll\", \"will\")\n",
    "    x = x.replace(\"tewwible\", \"terrible\")\n",
    "    x = x.replace(\"frekking\", \"freaking\")\n",
    "    return x"
   ]
  },
  {
   "cell_type": "code",
   "execution_count": 10,
   "metadata": {},
   "outputs": [
    {
     "data": {
      "text/html": [
       "<div>\n",
       "<style scoped>\n",
       "    .dataframe tbody tr th:only-of-type {\n",
       "        vertical-align: middle;\n",
       "    }\n",
       "\n",
       "    .dataframe tbody tr th {\n",
       "        vertical-align: top;\n",
       "    }\n",
       "\n",
       "    .dataframe thead th {\n",
       "        text-align: right;\n",
       "    }\n",
       "</style>\n",
       "<table border=\"1\" class=\"dataframe\">\n",
       "  <thead>\n",
       "    <tr style=\"text-align: right;\">\n",
       "      <th></th>\n",
       "      <th>comment_text</th>\n",
       "      <th>sentiment</th>\n",
       "      <th>content</th>\n",
       "    </tr>\n",
       "  </thead>\n",
       "  <tbody>\n",
       "    <tr>\n",
       "      <th>0</th>\n",
       "      <td>I feel like the much much better version of th...</td>\n",
       "      <td>0</td>\n",
       "      <td>i feel like the much much better version of th...</td>\n",
       "    </tr>\n",
       "    <tr>\n",
       "      <th>1</th>\n",
       "      <td>Totally agree. Ender's game is one of the best...</td>\n",
       "      <td>1</td>\n",
       "      <td>totally agree enders game is one of the best s...</td>\n",
       "    </tr>\n",
       "    <tr>\n",
       "      <th>2</th>\n",
       "      <td>The Maze Runner trilogy left me wholly dissati...</td>\n",
       "      <td>0</td>\n",
       "      <td>the maze runner trilogy left me wholly dissati...</td>\n",
       "    </tr>\n",
       "    <tr>\n",
       "      <th>3</th>\n",
       "      <td>the book itself was good and all and I just fi...</td>\n",
       "      <td>1</td>\n",
       "      <td>the book itself was good and all and i just fi...</td>\n",
       "    </tr>\n",
       "    <tr>\n",
       "      <th>4</th>\n",
       "      <td>James Dashner is an idea guy, but fails misera...</td>\n",
       "      <td>0</td>\n",
       "      <td>james dashner is an idea guy but fails miserab...</td>\n",
       "    </tr>\n",
       "  </tbody>\n",
       "</table>\n",
       "</div>"
      ],
      "text/plain": [
       "                                        comment_text  sentiment  \\\n",
       "0  I feel like the much much better version of th...          0   \n",
       "1  Totally agree. Ender's game is one of the best...          1   \n",
       "2  The Maze Runner trilogy left me wholly dissati...          0   \n",
       "3  the book itself was good and all and I just fi...          1   \n",
       "4  James Dashner is an idea guy, but fails misera...          0   \n",
       "\n",
       "                                             content  \n",
       "0  i feel like the much much better version of th...  \n",
       "1  totally agree enders game is one of the best s...  \n",
       "2  the maze runner trilogy left me wholly dissati...  \n",
       "3  the book itself was good and all and i just fi...  \n",
       "4  james dashner is an idea guy but fails miserab...  "
      ]
     },
     "execution_count": 10,
     "metadata": {},
     "output_type": "execute_result"
    }
   ],
   "source": [
    "comment_df = comment_df[comment_df['comment_text'] != '']\n",
    "comment_df['content'] = comment_df['comment_text'].apply(remove_links_funny_words).apply(data_cleaning)\n",
    "comment_df.head()"
   ]
  },
  {
   "cell_type": "code",
   "execution_count": 11,
   "metadata": {},
   "outputs": [
    {
     "data": {
      "text/html": [
       "<div>\n",
       "<style scoped>\n",
       "    .dataframe tbody tr th:only-of-type {\n",
       "        vertical-align: middle;\n",
       "    }\n",
       "\n",
       "    .dataframe tbody tr th {\n",
       "        vertical-align: top;\n",
       "    }\n",
       "\n",
       "    .dataframe thead th {\n",
       "        text-align: right;\n",
       "    }\n",
       "</style>\n",
       "<table border=\"1\" class=\"dataframe\">\n",
       "  <thead>\n",
       "    <tr style=\"text-align: right;\">\n",
       "      <th></th>\n",
       "      <th>comment_text</th>\n",
       "      <th>sentiment</th>\n",
       "      <th>content</th>\n",
       "    </tr>\n",
       "  </thead>\n",
       "  <tbody>\n",
       "    <tr>\n",
       "      <th>0</th>\n",
       "      <td>I feel like the much much better version of th...</td>\n",
       "      <td>0</td>\n",
       "      <td>i feel like the much much better version of th...</td>\n",
       "    </tr>\n",
       "    <tr>\n",
       "      <th>1</th>\n",
       "      <td>Totally agree. Ender's game is one of the best...</td>\n",
       "      <td>1</td>\n",
       "      <td>totally agree enders game is one of the best s...</td>\n",
       "    </tr>\n",
       "    <tr>\n",
       "      <th>2</th>\n",
       "      <td>The Maze Runner trilogy left me wholly dissati...</td>\n",
       "      <td>0</td>\n",
       "      <td>the maze runner trilogy left me wholly dissati...</td>\n",
       "    </tr>\n",
       "    <tr>\n",
       "      <th>3</th>\n",
       "      <td>the book itself was good and all and I just fi...</td>\n",
       "      <td>1</td>\n",
       "      <td>the book itself was good and all and i just fi...</td>\n",
       "    </tr>\n",
       "    <tr>\n",
       "      <th>4</th>\n",
       "      <td>James Dashner is an idea guy, but fails misera...</td>\n",
       "      <td>0</td>\n",
       "      <td>james dashner is an idea guy but fails miserab...</td>\n",
       "    </tr>\n",
       "  </tbody>\n",
       "</table>\n",
       "</div>"
      ],
      "text/plain": [
       "                                        comment_text  sentiment  \\\n",
       "0  I feel like the much much better version of th...          0   \n",
       "1  Totally agree. Ender's game is one of the best...          1   \n",
       "2  The Maze Runner trilogy left me wholly dissati...          0   \n",
       "3  the book itself was good and all and I just fi...          1   \n",
       "4  James Dashner is an idea guy, but fails misera...          0   \n",
       "\n",
       "                                             content  \n",
       "0  i feel like the much much better version of th...  \n",
       "1  totally agree enders game is one of the best s...  \n",
       "2  the maze runner trilogy left me wholly dissati...  \n",
       "3  the book itself was good and all and i just fi...  \n",
       "4  james dashner is an idea guy but fails miserab...  "
      ]
     },
     "execution_count": 11,
     "metadata": {},
     "output_type": "execute_result"
    }
   ],
   "source": [
    "# deal with empty values\n",
    "comment_df['comment_text'] = comment_df['comment_text'].fillna('').apply(str)\n",
    "comment_df.head()"
   ]
  },
  {
   "cell_type": "code",
   "execution_count": 12,
   "metadata": {},
   "outputs": [],
   "source": [
    "# Stemming\n",
    "def word_pre(x):\n",
    "    stemmer = PorterStemmer()\n",
    "    x = word_tokenize(x)\n",
    "    store = ''\n",
    "\n",
    "    for i in x:\n",
    "        store += stemmer.stem(i) + ' '\n",
    "\n",
    "    return store\n",
    "\n",
    "# Stopwords\n",
    "stop = stopwords.words('english')\n",
    "additional_stopwords = [\"'s\",\"...\",\"'ve\",\"``\",\"''\",\"'m\",'--',\"'ll\",\"'d\"]\n",
    "stop = set(stop + additional_stopwords)\n",
    "def remove_stop(x):\n",
    "    x = word_tokenize(x)\n",
    "    store = ''\n",
    "\n",
    "    for i in x:\n",
    "        if i not in stop:\n",
    "            store += i + ' '\n",
    "\n",
    "    return store\n",
    "\n",
    "def lemmatize(text):\n",
    "  store = ''\n",
    "  tokens = word_tokenize(text)\n",
    "  lemma_function = WordNetLemmatizer()\n",
    "  for token, tag in pos_tag(tokens):\n",
    "    store += lemma_function.lemmatize(token, tag_map[tag[0]]) + ' '\n",
    "  return str(store)"
   ]
  },
  {
   "cell_type": "code",
   "execution_count": 13,
   "metadata": {},
   "outputs": [],
   "source": [
    "comment_df['comment_cleaned'] = comment_df['comment_text'].apply(remove_stop)"
   ]
  },
  {
   "cell_type": "markdown",
   "metadata": {},
   "source": [
    "### Split data"
   ]
  },
  {
   "cell_type": "code",
   "execution_count": 14,
   "metadata": {},
   "outputs": [],
   "source": [
    "x_train, x_test, y_train, y_test = train_test_split(comment_df[['comment_cleaned']],\n",
    "                                                    comment_df['sentiment'],\n",
    "                                                    test_size=0.2,\n",
    "                                                    random_state=0)"
   ]
  },
  {
   "cell_type": "code",
   "execution_count": 15,
   "metadata": {},
   "outputs": [],
   "source": [
    "vectorizer = CountVectorizer(ngram_range=(1,2))\n",
    "comment_matrix = vectorizer.fit_transform(x_train['comment_cleaned'])"
   ]
  },
  {
   "cell_type": "markdown",
   "metadata": {},
   "source": [
    "### Random Forest"
   ]
  },
  {
   "cell_type": "code",
   "execution_count": 16,
   "metadata": {},
   "outputs": [
    {
     "data": {
      "text/plain": [
       "array([[  51,  545],\n",
       "       [   5, 1796]], dtype=int64)"
      ]
     },
     "execution_count": 16,
     "metadata": {},
     "output_type": "execute_result"
    }
   ],
   "source": [
    "random_forest =RandomForestClassifier(bootstrap=False,max_features='sqrt',n_estimators=800)\n",
    "\n",
    "comment_classifier = random_forest.fit(comment_matrix, y_train)\n",
    "\n",
    "test_vector = vectorizer.transform(x_test['comment_cleaned'])\n",
    "result = comment_classifier.predict(test_vector)\n",
    "confuse = metrics.confusion_matrix(y_test, result)\n",
    "confuse"
   ]
  },
  {
   "cell_type": "code",
   "execution_count": 17,
   "metadata": {},
   "outputs": [
    {
     "data": {
      "image/png": "[encoded data removed]",
      "text/plain": [
       "<Figure size 640x480 with 2 Axes>"
      ]
     },
     "metadata": {},
     "output_type": "display_data"
    }
   ],
   "source": [
    "fig = plt.figure()\n",
    "sns.heatmap(confuse, annot = True, fmt='d')\n",
    "plt.title(\"Confusion matrix of Random Forest of comment_cleaned\")\n",
    "plt.xlabel('Predicted')\n",
    "plt.ylabel('Actual')\n",
    "plt.show()"
   ]
  },
  {
   "cell_type": "code",
   "execution_count": 18,
   "metadata": {},
   "outputs": [
    {
     "name": "stdout",
     "output_type": "stream",
     "text": [
      "F1 score: 0.867\n",
      "Precision score: 0.767\n",
      "Recall score: 0.997\n",
      "Average precision-recall score: 0.767\n",
      "Accuracy score: 0.771\n"
     ]
    }
   ],
   "source": [
    "rf_F1_score = metrics.f1_score(y_test, result)\n",
    "rf_average_precision = metrics.average_precision_score(y_test, result)\n",
    "rf_precision_score= metrics.precision_score(y_test, result)\n",
    "rf_recall_score = metrics.recall_score(y_test, result)\n",
    "rf_accuracy = metrics.accuracy_score(y_test, result)\n",
    "\n",
    "print('F1 score: {0:0.3f}'.format(rf_F1_score))\n",
    "print('Precision score: {0:0.3f}'.format(rf_precision_score))\n",
    "print('Recall score: {0:0.3f}'.format(rf_recall_score))\n",
    "print('Average precision-recall score: {0:0.3f}'.format(rf_average_precision))\n",
    "print('Accuracy score: {0:0.3f}'.format(rf_accuracy))"
   ]
  },
  {
   "cell_type": "markdown",
   "metadata": {},
   "source": [
    "### Enhanced Random Forest - Grid Search [3-folds]"
   ]
  },
  {
   "cell_type": "code",
   "execution_count": 19,
   "metadata": {},
   "outputs": [
    {
     "name": "stderr",
     "output_type": "stream",
     "text": [
      "C:\\Users\\Wei Ling\\AppData\\Local\\Packages\\PythonSoftwareFoundation.Python.3.11_qbz5n2kfra8p0\\LocalCache\\local-packages\\Python311\\site-packages\\sklearn\\model_selection\\_validation.py:547: FitFailedWarning: \n",
      "12 fits failed out of a total of 36.\n",
      "The score on these train-test partitions for these parameters will be set to nan.\n",
      "If these failures are not expected, you can try to debug them by setting error_score='raise'.\n",
      "\n",
      "Below are more details about the failures:\n",
      "--------------------------------------------------------------------------------\n",
      "12 fits failed with the following error:\n",
      "Traceback (most recent call last):\n",
      "  File \"C:\\Users\\Wei Ling\\AppData\\Local\\Packages\\PythonSoftwareFoundation.Python.3.11_qbz5n2kfra8p0\\LocalCache\\local-packages\\Python311\\site-packages\\sklearn\\model_selection\\_validation.py\", line 895, in _fit_and_score\n",
      "    estimator.fit(X_train, y_train, **fit_params)\n",
      "  File \"C:\\Users\\Wei Ling\\AppData\\Local\\Packages\\PythonSoftwareFoundation.Python.3.11_qbz5n2kfra8p0\\LocalCache\\local-packages\\Python311\\site-packages\\sklearn\\base.py\", line 1467, in wrapper\n",
      "    estimator._validate_params()\n",
      "  File \"C:\\Users\\Wei Ling\\AppData\\Local\\Packages\\PythonSoftwareFoundation.Python.3.11_qbz5n2kfra8p0\\LocalCache\\local-packages\\Python311\\site-packages\\sklearn\\base.py\", line 666, in _validate_params\n",
      "    validate_parameter_constraints(\n",
      "  File \"C:\\Users\\Wei Ling\\AppData\\Local\\Packages\\PythonSoftwareFoundation.Python.3.11_qbz5n2kfra8p0\\LocalCache\\local-packages\\Python311\\site-packages\\sklearn\\utils\\_param_validation.py\", line 95, in validate_parameter_constraints\n",
      "    raise InvalidParameterError(\n",
      "sklearn.utils._param_validation.InvalidParameterError: The 'max_features' parameter of RandomForestClassifier must be an int in the range [1, inf), a float in the range (0.0, 1.0], a str among {'sqrt', 'log2'} or None. Got 'auto' instead.\n",
      "\n",
      "  warnings.warn(some_fits_failed_message, FitFailedWarning)\n",
      "C:\\Users\\Wei Ling\\AppData\\Local\\Packages\\PythonSoftwareFoundation.Python.3.11_qbz5n2kfra8p0\\LocalCache\\local-packages\\Python311\\site-packages\\sklearn\\model_selection\\_search.py:1051: UserWarning: One or more of the test scores are non-finite: [       nan        nan 0.75969962 0.75761368 0.75385899 0.75219024\n",
      "        nan        nan 0.76595745 0.76554026 0.75427618 0.75427618]\n",
      "  warnings.warn(\n"
     ]
    },
    {
     "data": {
      "text/plain": [
       "{'bootstrap': False, 'max_features': 'sqrt', 'n_estimators': 100}"
      ]
     },
     "execution_count": 19,
     "metadata": {},
     "output_type": "execute_result"
    }
   ],
   "source": [
    "param_grid = { \n",
    "    'n_estimators': [100, 800],\n",
    "    'max_features': ['auto', 'sqrt', 'log2'],\n",
    "    'bootstrap': [True, False]\n",
    "}\n",
    "\n",
    "grid_search = GridSearchCV(RandomForestClassifier(), param_grid, cv= 3)\n",
    "grid_search.fit(test_vector, y_test)\n",
    "grid_search.best_params_"
   ]
  },
  {
   "cell_type": "code",
   "execution_count": 20,
   "metadata": {},
   "outputs": [
    {
     "data": {
      "text/plain": [
       "array([[  52,  544],\n",
       "       [   7, 1794]], dtype=int64)"
      ]
     },
     "execution_count": 20,
     "metadata": {},
     "output_type": "execute_result"
    }
   ],
   "source": [
    "random_forest =RandomForestClassifier(bootstrap=False,max_features='sqrt',n_estimators=100)\n",
    "\n",
    "comment_classifier = random_forest.fit(comment_matrix, y_train)\n",
    "\n",
    "test_vector = vectorizer.transform(x_test['comment_cleaned'])\n",
    "result = comment_classifier.predict(test_vector)\n",
    "confuse = metrics.confusion_matrix(y_test, result)\n",
    "confuse"
   ]
  },
  {
   "cell_type": "code",
   "execution_count": 21,
   "metadata": {},
   "outputs": [
    {
     "data": {
      "image/png": "[encoded data removed]",
      "text/plain": [
       "<Figure size 640x480 with 2 Axes>"
      ]
     },
     "metadata": {},
     "output_type": "display_data"
    }
   ],
   "source": [
    "fig = plt.figure()\n",
    "sns.heatmap(confuse, annot = True, fmt='d')\n",
    "plt.title(\"Confusion matrix of Random Forest of comment_cleaned\")\n",
    "plt.xlabel('Predicted')\n",
    "plt.ylabel('Actual')\n",
    "plt.show()"
   ]
  },
  {
   "cell_type": "code",
   "execution_count": 22,
   "metadata": {},
   "outputs": [
    {
     "name": "stdout",
     "output_type": "stream",
     "text": [
      "F1 score: 0.867\n",
      "Precision score: 0.767\n",
      "Recall score: 0.996\n",
      "Average precision-recall score: 0.767\n",
      "Accuracy score: 0.770\n"
     ]
    }
   ],
   "source": [
    "rf_3fold_F1_score = metrics.f1_score(y_test, result)\n",
    "rf_3fold_average_precision = metrics.average_precision_score(y_test, result)\n",
    "rf_3fold_precision_score= metrics.precision_score(y_test, result)\n",
    "rf_3fold_recall_score = metrics.recall_score(y_test, result)\n",
    "rf_3fold_accuracy = metrics.accuracy_score(y_test, result)\n",
    "\n",
    "print('F1 score: {0:0.3f}'.format(rf_3fold_F1_score))\n",
    "print('Precision score: {0:0.3f}'.format(rf_3fold_precision_score))\n",
    "print('Recall score: {0:0.3f}'.format(rf_3fold_recall_score))\n",
    "print('Average precision-recall score: {0:0.3f}'.format(rf_3fold_average_precision))\n",
    "print('Accuracy score: {0:0.3f}'.format(rf_3fold_accuracy))"
   ]
  },
  {
   "cell_type": "markdown",
   "metadata": {},
   "source": [
    "### Enhanced Random Forest - Grid Search [5-folds]"
   ]
  },
  {
   "cell_type": "code",
   "execution_count": 23,
   "metadata": {},
   "outputs": [],
   "source": [
    "param_grid = { \n",
    "    'n_estimators': [100, 800],\n",
    "    'max_features': ['auto', 'sqrt', 'log2'],\n",
    "    'bootstrap': [True, False]\n",
    "}\n",
    "\n",
    "grid_search = GridSearchCV(RandomForestClassifier(), param_grid, cv= 5)\n",
    "grid_search.fit(test_vector, y_test)\n",
    "grid_search.best_params_"
   ]
  },
  {
   "cell_type": "code",
   "execution_count": null,
   "metadata": {},
   "outputs": [],
   "source": [
    "random_forest =RandomForestClassifier(bootstrap=False,max_features='sqrt',n_estimators=800)\n",
    "\n",
    "comment_classifier = random_forest.fit(comment_matrix, y_train)\n",
    "\n",
    "test_vector = vectorizer.transform(x_test['comment_cleaned'])\n",
    "result = comment_classifier.predict(test_vector)\n",
    "confuse = metrics.confusion_matrix(y_test, result)\n",
    "confuse"
   ]
  },
  {
   "cell_type": "code",
   "execution_count": null,
   "metadata": {},
   "outputs": [],
   "source": [
    "fig = plt.figure()\n",
    "sns.heatmap(confuse, annot = True, fmt='d')\n",
    "plt.title(\"Confusion matrix of Random Forest of comment_cleaned\")\n",
    "plt.xlabel('Predicted')\n",
    "plt.ylabel('Actual')\n",
    "plt.show()"
   ]
  },
  {
   "cell_type": "code",
   "execution_count": null,
   "metadata": {},
   "outputs": [],
   "source": [
    "rf_5fold_F1_score = metrics.f1_score(y_test, result)\n",
    "rf_5fold_average_precision = metrics.average_precision_score(y_test, result)\n",
    "rf_5fold_precision_score= metrics.precision_score(y_test, result)\n",
    "rf_5fold_recall_score = metrics.recall_score(y_test, result)\n",
    "rf_5fold_accuracy = metrics.accuracy_score(y_test, result)\n",
    "\n",
    "print('F1 score: {0:0.3f}'.format(rf_5fold_F1_score))\n",
    "print('Precision score: {0:0.3f}'.format(rf_5fold_precision_score))\n",
    "print('Recall score: {0:0.3f}'.format(rf_5fold_recall_score))\n",
    "print('Average precision-recall score: {0:0.3f}'.format(rf_5fold_average_precision))\n",
    "print('Accuracy score: {0:0.3f}'.format(rf_5fold_accuracy))"
   ]
  }
 ],
 "metadata": {
  "kernelspec": {
   "display_name": "Python 3",
   "language": "python",
   "name": "python3"
  },
  "language_info": {
   "codemirror_mode": {
    "name": "ipython",
    "version": 3
   },
   "file_extension": ".py",
   "mimetype": "text/x-python",
   "name": "python",
   "nbconvert_exporter": "python",
   "pygments_lexer": "ipython3",
   "version": "3.11.9"
  }
 },
 "nbformat": 4,
 "nbformat_minor": 2
}
