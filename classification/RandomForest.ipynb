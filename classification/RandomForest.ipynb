{
 "cells": [
  {
   "cell_type": "markdown",
   "metadata": {},
   "source": [
    "### Import libraries"
   ]
  },
  {
   "cell_type": "code",
   "execution_count": 1,
   "metadata": {},
   "outputs": [],
   "source": [
    "import pandas as pd\n",
    "import numpy as np\n",
    "import nltk\n",
    "import matplotlib.pyplot as plt\n",
    "%matplotlib inline\n",
    "import seaborn as sns\n",
    "from nltk.stem import PorterStemmer\n",
    "from nltk.tokenize import word_tokenize\n",
    "from nltk.corpus import stopwords\n",
    "import os\n",
    "import re\n",
    "from nltk.corpus import wordnet as wn\n",
    "from nltk.stem.wordnet import WordNetLemmatizer\n",
    "from nltk import word_tokenize, pos_tag\n",
    "from collections import defaultdict\n",
    "from sklearn.ensemble import RandomForestClassifier\n",
    "from sklearn.model_selection import GridSearchCV\n",
    "from sklearn.model_selection import train_test_split\n",
    "from sklearn.feature_extraction.text import CountVectorizer\n",
    "from sklearn import svm\n",
    "from sklearn import metrics\n",
    "from sklearn.model_selection import cross_val_score\n",
    "import time\n",
    "from sklearn.tree import DecisionTreeClassifier"
   ]
  },
  {
   "cell_type": "markdown",
   "metadata": {},
   "source": [
    "### Data cleaning"
   ]
  },
  {
   "cell_type": "code",
   "execution_count": 2,
   "metadata": {},
   "outputs": [
    {
     "name": "stderr",
     "output_type": "stream",
     "text": [
      "[nltk_data] Downloading package punkt to C:\\Users\\Wei\n",
      "[nltk_data]     Ling\\AppData\\Roaming\\nltk_data...\n",
      "[nltk_data]   Package punkt is already up-to-date!\n",
      "[nltk_data] Downloading package stopwords to C:\\Users\\Wei\n",
      "[nltk_data]     Ling\\AppData\\Roaming\\nltk_data...\n",
      "[nltk_data]   Package stopwords is already up-to-date!\n",
      "[nltk_data] Downloading package wordnet to C:\\Users\\Wei\n",
      "[nltk_data]     Ling\\AppData\\Roaming\\nltk_data...\n",
      "[nltk_data]   Package wordnet is already up-to-date!\n",
      "[nltk_data] Downloading package averaged_perceptron_tagger to\n",
      "[nltk_data]     C:\\Users\\Wei Ling\\AppData\\Roaming\\nltk_data...\n",
      "[nltk_data]   Package averaged_perceptron_tagger is already up-to-\n",
      "[nltk_data]       date!\n"
     ]
    }
   ],
   "source": [
    "nltk.download('punkt')\n",
    "nltk.download('stopwords')\n",
    "nltk.download('wordnet')\n",
    "nltk.download('averaged_perceptron_tagger')\n",
    "tag_map = defaultdict(lambda : wn.NOUN)\n",
    "tag_map['J'] = wn.ADJ\n",
    "tag_map['V'] = wn.VERB\n",
    "tag_map['R'] = wn.ADV"
   ]
  },
  {
   "cell_type": "code",
   "execution_count": 3,
   "metadata": {},
   "outputs": [],
   "source": [
    "# Load data\n",
    "books_df = pd.read_csv('Book_data.csv')"
   ]
  },
  {
   "cell_type": "code",
   "execution_count": 4,
   "metadata": {},
   "outputs": [
    {
     "data": {
      "text/plain": [
       "comment_text    object\n",
       "sentiment        int64\n",
       "dtype: object"
      ]
     },
     "execution_count": 4,
     "metadata": {},
     "output_type": "execute_result"
    }
   ],
   "source": [
    "# Check that sentimt is of integer\n",
    "books_df.dtypes"
   ]
  },
  {
   "cell_type": "code",
   "execution_count": 5,
   "metadata": {},
   "outputs": [],
   "source": [
    "comment_df = books_df[['comment_text', 'sentiment']]"
   ]
  },
  {
   "cell_type": "code",
   "execution_count": 6,
   "metadata": {},
   "outputs": [
    {
     "data": {
      "text/plain": [
       "array([1, 0], dtype=int64)"
      ]
     },
     "execution_count": 6,
     "metadata": {},
     "output_type": "execute_result"
    }
   ],
   "source": [
    "# drop 2 and 3\n",
    "comment_df = comment_df[comment_df.sentiment != 2]\n",
    "comment_df = comment_df[comment_df.sentiment != 3]\n",
    "comment_df['sentiment'].unique()"
   ]
  },
  {
   "cell_type": "code",
   "execution_count": 7,
   "metadata": {},
   "outputs": [],
   "source": [
    "def data_cleaning(x):\n",
    "    x = str(x)\n",
    "    pattern = '[^a-zA-Z0-9\\ ]'\n",
    "    x = re.sub(pattern,'',x)\n",
    "    x = x.lower()\n",
    "    x = x.strip()\n",
    "    # Convert more than 2 letter repetitions to 2 letter\n",
    "    # funnnnny --> funny\n",
    "    x = re.sub(r'(.)\\1+', r'\\1\\1', x)\n",
    "    # Remove - & '\n",
    "    x = re.sub(r'(-|\\')', ' ', x)\n",
    "    return x"
   ]
  },
  {
   "cell_type": "code",
   "execution_count": 8,
   "metadata": {},
   "outputs": [],
   "source": [
    "def remove_links_funny_words(x):\n",
    "    x = re.sub('(https?://[\\S]+)', ' URL ', str(x))\n",
    "    x = x.replace(\"xmass\", \"christmas\")\n",
    "    x = x.replace(\"...\", \" \")\n",
    "    x = x.replace(\"'ll\", \"will\")\n",
    "    x = x.replace(\"tewwible\", \"terrible\")\n",
    "    x = x.replace(\"frekking\", \"freaking\")\n",
    "    return x"
   ]
  },
  {
   "cell_type": "code",
   "execution_count": 9,
   "metadata": {},
   "outputs": [
    {
     "data": {
      "text/html": [
       "<div>\n",
       "<style scoped>\n",
       "    .dataframe tbody tr th:only-of-type {\n",
       "        vertical-align: middle;\n",
       "    }\n",
       "\n",
       "    .dataframe tbody tr th {\n",
       "        vertical-align: top;\n",
       "    }\n",
       "\n",
       "    .dataframe thead th {\n",
       "        text-align: right;\n",
       "    }\n",
       "</style>\n",
       "<table border=\"1\" class=\"dataframe\">\n",
       "  <thead>\n",
       "    <tr style=\"text-align: right;\">\n",
       "      <th></th>\n",
       "      <th>comment_text</th>\n",
       "      <th>sentiment</th>\n",
       "    </tr>\n",
       "  </thead>\n",
       "  <tbody>\n",
       "    <tr>\n",
       "      <th>0</th>\n",
       "      <td>started reading catch22 but year read consider...</td>\n",
       "      <td>1</td>\n",
       "    </tr>\n",
       "    <tr>\n",
       "      <th>1</th>\n",
       "      <td>way dune written might favorite canticle leibo...</td>\n",
       "      <td>1</td>\n",
       "    </tr>\n",
       "    <tr>\n",
       "      <th>3</th>\n",
       "      <td>here thought reading first twothis series defi...</td>\n",
       "      <td>1</td>\n",
       "    </tr>\n",
       "    <tr>\n",
       "      <th>5</th>\n",
       "      <td>one favourite lsi think everything scifi setti...</td>\n",
       "      <td>1</td>\n",
       "    </tr>\n",
       "    <tr>\n",
       "      <th>6</th>\n",
       "      <td>never loved read beyond elementary school slow...</td>\n",
       "      <td>1</td>\n",
       "    </tr>\n",
       "  </tbody>\n",
       "</table>\n",
       "</div>"
      ],
      "text/plain": [
       "                                        comment_text  sentiment\n",
       "0  started reading catch22 but year read consider...          1\n",
       "1  way dune written might favorite canticle leibo...          1\n",
       "3  here thought reading first twothis series defi...          1\n",
       "5  one favourite lsi think everything scifi setti...          1\n",
       "6  never loved read beyond elementary school slow...          1"
      ]
     },
     "execution_count": 9,
     "metadata": {},
     "output_type": "execute_result"
    }
   ],
   "source": [
    "comment_df = comment_df[comment_df['comment_text'] != '']\n",
    "comment_df['comment_text'] = comment_df['comment_text'].apply(remove_links_funny_words).apply(data_cleaning)\n",
    "comment_df.head()"
   ]
  },
  {
   "cell_type": "code",
   "execution_count": 10,
   "metadata": {},
   "outputs": [
    {
     "data": {
      "text/html": [
       "<div>\n",
       "<style scoped>\n",
       "    .dataframe tbody tr th:only-of-type {\n",
       "        vertical-align: middle;\n",
       "    }\n",
       "\n",
       "    .dataframe tbody tr th {\n",
       "        vertical-align: top;\n",
       "    }\n",
       "\n",
       "    .dataframe thead th {\n",
       "        text-align: right;\n",
       "    }\n",
       "</style>\n",
       "<table border=\"1\" class=\"dataframe\">\n",
       "  <thead>\n",
       "    <tr style=\"text-align: right;\">\n",
       "      <th></th>\n",
       "      <th>comment_text</th>\n",
       "      <th>sentiment</th>\n",
       "    </tr>\n",
       "  </thead>\n",
       "  <tbody>\n",
       "    <tr>\n",
       "      <th>0</th>\n",
       "      <td>started reading catch22 but year read consider...</td>\n",
       "      <td>1</td>\n",
       "    </tr>\n",
       "    <tr>\n",
       "      <th>1</th>\n",
       "      <td>way dune written might favorite canticle leibo...</td>\n",
       "      <td>1</td>\n",
       "    </tr>\n",
       "    <tr>\n",
       "      <th>3</th>\n",
       "      <td>here thought reading first twothis series defi...</td>\n",
       "      <td>1</td>\n",
       "    </tr>\n",
       "    <tr>\n",
       "      <th>5</th>\n",
       "      <td>one favourite lsi think everything scifi setti...</td>\n",
       "      <td>1</td>\n",
       "    </tr>\n",
       "    <tr>\n",
       "      <th>6</th>\n",
       "      <td>never loved read beyond elementary school slow...</td>\n",
       "      <td>1</td>\n",
       "    </tr>\n",
       "  </tbody>\n",
       "</table>\n",
       "</div>"
      ],
      "text/plain": [
       "                                        comment_text  sentiment\n",
       "0  started reading catch22 but year read consider...          1\n",
       "1  way dune written might favorite canticle leibo...          1\n",
       "3  here thought reading first twothis series defi...          1\n",
       "5  one favourite lsi think everything scifi setti...          1\n",
       "6  never loved read beyond elementary school slow...          1"
      ]
     },
     "execution_count": 10,
     "metadata": {},
     "output_type": "execute_result"
    }
   ],
   "source": [
    "# deal with empty values\n",
    "comment_df['comment_text'] = comment_df['comment_text'].fillna('').apply(str)\n",
    "comment_df.head()"
   ]
  },
  {
   "cell_type": "code",
   "execution_count": 11,
   "metadata": {},
   "outputs": [],
   "source": [
    "# Stemming\n",
    "def word_pre(x):\n",
    "    stemmer = PorterStemmer()\n",
    "    x = word_tokenize(x)\n",
    "    store = ''\n",
    "\n",
    "    for i in x:\n",
    "        store += stemmer.stem(i) + ' '\n",
    "\n",
    "    return store\n",
    "\n",
    "# Stopwords\n",
    "stop = stopwords.words('english')\n",
    "additional_stopwords = [\"'s\",\"...\",\"'ve\",\"``\",\"''\",\"'m\",'--',\"'ll\",\"'d\"]\n",
    "stop = set(stop + additional_stopwords)\n",
    "def remove_stop(x):\n",
    "    x = word_tokenize(x)\n",
    "    store = ''\n",
    "\n",
    "    for i in x:\n",
    "        if i not in stop:\n",
    "            store += i + ' '\n",
    "\n",
    "    return store\n",
    "\n",
    "def lemmatize(text):\n",
    "  store = ''\n",
    "  tokens = word_tokenize(text)\n",
    "  lemma_function = WordNetLemmatizer()\n",
    "  for token, tag in pos_tag(tokens):\n",
    "    store += lemma_function.lemmatize(token, tag_map[tag[0]]) + ' '\n",
    "  return str(store)"
   ]
  },
  {
   "cell_type": "code",
   "execution_count": 12,
   "metadata": {},
   "outputs": [],
   "source": [
    "comment_df['comment_cleaned'] = comment_df['comment_text'].apply(remove_stop)"
   ]
  },
  {
   "cell_type": "markdown",
   "metadata": {},
   "source": [
    "### Split data"
   ]
  },
  {
   "cell_type": "code",
   "execution_count": 13,
   "metadata": {},
   "outputs": [],
   "source": [
    "x_train, x_test, y_train, y_test = train_test_split(comment_df[['comment_cleaned']],\n",
    "                                                    comment_df['sentiment'],\n",
    "                                                    test_size=0.2,\n",
    "                                                    random_state=0)"
   ]
  },
  {
   "cell_type": "code",
   "execution_count": 14,
   "metadata": {},
   "outputs": [],
   "source": [
    "vectorizer = CountVectorizer(ngram_range=(1,2))\n",
    "comment_matrix = vectorizer.fit_transform(x_train['comment_cleaned'])"
   ]
  },
  {
   "cell_type": "markdown",
   "metadata": {},
   "source": [
    "### Random Forest"
   ]
  },
  {
   "cell_type": "code",
   "execution_count": 15,
   "metadata": {},
   "outputs": [
    {
     "data": {
      "text/plain": [
       "array([[ 961,  280],\n",
       "       [  18, 2368]], dtype=int64)"
      ]
     },
     "execution_count": 15,
     "metadata": {},
     "output_type": "execute_result"
    }
   ],
   "source": [
    "random_forest =RandomForestClassifier(bootstrap=False,max_features='sqrt',n_estimators=800)\n",
    "\n",
    "comment_classifier = random_forest.fit(comment_matrix, y_train)\n",
    "\n",
    "test_vector = vectorizer.transform(x_test['comment_cleaned'])\n",
    "result = comment_classifier.predict(test_vector)\n",
    "confuse = metrics.confusion_matrix(y_test, result)\n",
    "confuse"
   ]
  },
  {
   "cell_type": "code",
   "execution_count": 16,
   "metadata": {},
   "outputs": [
    {
     "data": {
      "image/png": "[encoded data removed]",
      "text/plain": [
       "<Figure size 640x480 with 2 Axes>"
      ]
     },
     "metadata": {},
     "output_type": "display_data"
    }
   ],
   "source": [
    "fig = plt.figure()\n",
    "sns.heatmap(confuse, annot = True, fmt='d')\n",
    "plt.title(\"Confusion matrix of Random Forest of comment_cleaned\")\n",
    "plt.xlabel('Predicted')\n",
    "plt.ylabel('Actual')\n",
    "plt.show()"
   ]
  },
  {
   "cell_type": "code",
   "execution_count": 17,
   "metadata": {},
   "outputs": [
    {
     "name": "stdout",
     "output_type": "stream",
     "text": [
      "F1 score: 0.941\n",
      "Precision score: 0.894\n",
      "Recall score: 0.992\n",
      "Average precision-recall score: 0.892\n",
      "Accuracy score: 0.918\n"
     ]
    }
   ],
   "source": [
    "rf_F1_score = metrics.f1_score(y_test, result)\n",
    "rf_average_precision = metrics.average_precision_score(y_test, result)\n",
    "rf_precision_score= metrics.precision_score(y_test, result)\n",
    "rf_recall_score = metrics.recall_score(y_test, result)\n",
    "rf_accuracy = metrics.accuracy_score(y_test, result)\n",
    "\n",
    "print('F1 score: {0:0.3f}'.format(rf_F1_score))\n",
    "print('Precision score: {0:0.3f}'.format(rf_precision_score))\n",
    "print('Recall score: {0:0.3f}'.format(rf_recall_score))\n",
    "print('Average precision-recall score: {0:0.3f}'.format(rf_average_precision))\n",
    "print('Accuracy score: {0:0.3f}'.format(rf_accuracy))"
   ]
  },
  {
   "cell_type": "markdown",
   "metadata": {},
   "source": [
    "### Enhanced Random Forest - Grid Search [3-folds]"
   ]
  },
  {
   "cell_type": "code",
   "execution_count": 18,
   "metadata": {},
   "outputs": [
    {
     "name": "stderr",
     "output_type": "stream",
     "text": [
      "C:\\Users\\Wei Ling\\AppData\\Local\\Packages\\PythonSoftwareFoundation.Python.3.11_qbz5n2kfra8p0\\LocalCache\\local-packages\\Python311\\site-packages\\sklearn\\model_selection\\_validation.py:547: FitFailedWarning: \n",
      "12 fits failed out of a total of 36.\n",
      "The score on these train-test partitions for these parameters will be set to nan.\n",
      "If these failures are not expected, you can try to debug them by setting error_score='raise'.\n",
      "\n",
      "Below are more details about the failures:\n",
      "--------------------------------------------------------------------------------\n",
      "12 fits failed with the following error:\n",
      "Traceback (most recent call last):\n",
      "  File \"C:\\Users\\Wei Ling\\AppData\\Local\\Packages\\PythonSoftwareFoundation.Python.3.11_qbz5n2kfra8p0\\LocalCache\\local-packages\\Python311\\site-packages\\sklearn\\model_selection\\_validation.py\", line 895, in _fit_and_score\n",
      "    estimator.fit(X_train, y_train, **fit_params)\n",
      "  File \"C:\\Users\\Wei Ling\\AppData\\Local\\Packages\\PythonSoftwareFoundation.Python.3.11_qbz5n2kfra8p0\\LocalCache\\local-packages\\Python311\\site-packages\\sklearn\\base.py\", line 1467, in wrapper\n",
      "    estimator._validate_params()\n",
      "  File \"C:\\Users\\Wei Ling\\AppData\\Local\\Packages\\PythonSoftwareFoundation.Python.3.11_qbz5n2kfra8p0\\LocalCache\\local-packages\\Python311\\site-packages\\sklearn\\base.py\", line 666, in _validate_params\n",
      "    validate_parameter_constraints(\n",
      "  File \"C:\\Users\\Wei Ling\\AppData\\Local\\Packages\\PythonSoftwareFoundation.Python.3.11_qbz5n2kfra8p0\\LocalCache\\local-packages\\Python311\\site-packages\\sklearn\\utils\\_param_validation.py\", line 95, in validate_parameter_constraints\n",
      "    raise InvalidParameterError(\n",
      "sklearn.utils._param_validation.InvalidParameterError: The 'max_features' parameter of RandomForestClassifier must be an int in the range [1, inf), a float in the range (0.0, 1.0], a str among {'log2', 'sqrt'} or None. Got 'auto' instead.\n",
      "\n",
      "  warnings.warn(some_fits_failed_message, FitFailedWarning)\n",
      "C:\\Users\\Wei Ling\\AppData\\Local\\Packages\\PythonSoftwareFoundation.Python.3.11_qbz5n2kfra8p0\\LocalCache\\local-packages\\Python311\\site-packages\\sklearn\\model_selection\\_search.py:1051: UserWarning: One or more of the test scores are non-finite: [       nan        nan 0.72153295 0.72263579 0.71050455 0.70885029\n",
      "        nan        nan 0.7397298  0.73890267 0.7173973  0.7118831 ]\n",
      "  warnings.warn(\n"
     ]
    },
    {
     "data": {
      "text/plain": [
       "{'bootstrap': False, 'max_features': 'sqrt', 'n_estimators': 100}"
      ]
     },
     "execution_count": 18,
     "metadata": {},
     "output_type": "execute_result"
    }
   ],
   "source": [
    "param_grid = { \n",
    "    'n_estimators': [100, 800],\n",
    "    'max_features': ['auto', 'sqrt', 'log2'],\n",
    "    'bootstrap': [True, False]\n",
    "}\n",
    "\n",
    "grid_search = GridSearchCV(RandomForestClassifier(), param_grid, cv= 3)\n",
    "grid_search.fit(test_vector, y_test)\n",
    "grid_search.best_params_"
   ]
  },
  {
   "cell_type": "code",
   "execution_count": 19,
   "metadata": {},
   "outputs": [
    {
     "data": {
      "text/plain": [
       "array([[ 964,  277],\n",
       "       [  25, 2361]], dtype=int64)"
      ]
     },
     "execution_count": 19,
     "metadata": {},
     "output_type": "execute_result"
    }
   ],
   "source": [
    "random_forest =RandomForestClassifier(bootstrap=False,max_features='sqrt',n_estimators=100)\n",
    "\n",
    "comment_classifier = random_forest.fit(comment_matrix, y_train)\n",
    "\n",
    "test_vector = vectorizer.transform(x_test['comment_cleaned'])\n",
    "result = comment_classifier.predict(test_vector)\n",
    "confuse = metrics.confusion_matrix(y_test, result)\n",
    "confuse"
   ]
  },
  {
   "cell_type": "code",
   "execution_count": 20,
   "metadata": {},
   "outputs": [
    {
     "data": {
      "image/png": "[encoded data removed]",
      "text/plain": [
       "<Figure size 640x480 with 2 Axes>"
      ]
     },
     "metadata": {},
     "output_type": "display_data"
    }
   ],
   "source": [
    "fig = plt.figure()\n",
    "sns.heatmap(confuse, annot = True, fmt='d')\n",
    "plt.title(\"Confusion matrix of Random Forest of comment_cleaned\")\n",
    "plt.xlabel('Predicted')\n",
    "plt.ylabel('Actual')\n",
    "plt.show()"
   ]
  },
  {
   "cell_type": "code",
   "execution_count": 21,
   "metadata": {},
   "outputs": [
    {
     "name": "stdout",
     "output_type": "stream",
     "text": [
      "F1 score: 0.940\n",
      "Precision score: 0.895\n",
      "Recall score: 0.990\n",
      "Average precision-recall score: 0.893\n",
      "Accuracy score: 0.917\n"
     ]
    }
   ],
   "source": [
    "rf_3fold_F1_score = metrics.f1_score(y_test, result)\n",
    "rf_3fold_average_precision = metrics.average_precision_score(y_test, result)\n",
    "rf_3fold_precision_score= metrics.precision_score(y_test, result)\n",
    "rf_3fold_recall_score = metrics.recall_score(y_test, result)\n",
    "rf_3fold_accuracy = metrics.accuracy_score(y_test, result)\n",
    "\n",
    "print('F1 score: {0:0.3f}'.format(rf_3fold_F1_score))\n",
    "print('Precision score: {0:0.3f}'.format(rf_3fold_precision_score))\n",
    "print('Recall score: {0:0.3f}'.format(rf_3fold_recall_score))\n",
    "print('Average precision-recall score: {0:0.3f}'.format(rf_3fold_average_precision))\n",
    "print('Accuracy score: {0:0.3f}'.format(rf_3fold_accuracy))"
   ]
  },
  {
   "cell_type": "markdown",
   "metadata": {},
   "source": [
    "### Enhanced Random Forest - Grid Search [5-folds]"
   ]
  },
  {
   "cell_type": "code",
   "execution_count": 22,
   "metadata": {},
   "outputs": [],
   "source": [
    "param_grid = { \n",
    "    'n_estimators': [100, 800],\n",
    "    'max_features': ['auto', 'sqrt', 'log2'],\n",
    "    'bootstrap': [True, False]\n",
    "}\n",
    "\n",
    "grid_search = GridSearchCV(RandomForestClassifier(), param_grid, cv= 5)\n",
    "grid_search.fit(test_vector, y_test)\n",
    "grid_search.best_params_"
   ]
  },
  {
   "cell_type": "code",
   "execution_count": null,
   "metadata": {},
   "outputs": [
    {
     "data": {
      "text/plain": [
       "array([[  51,  545],\n",
       "       [   5, 1796]], dtype=int64)"
      ]
     },
     "execution_count": 24,
     "metadata": {},
     "output_type": "execute_result"
    }
   ],
   "source": [
    "random_forest =RandomForestClassifier(bootstrap=False,max_features='sqrt',n_estimators=800)\n",
    "\n",
    "comment_classifier = random_forest.fit(comment_matrix, y_train)\n",
    "\n",
    "test_vector = vectorizer.transform(x_test['comment_cleaned'])\n",
    "result = comment_classifier.predict(test_vector)\n",
    "confuse = metrics.confusion_matrix(y_test, result)\n",
    "confuse"
   ]
  },
  {
   "cell_type": "code",
   "execution_count": null,
   "metadata": {},
   "outputs": [
    {
     "data": {
      "image/png": "[encoded data removed]",
      "text/plain": [
       "<Figure size 640x480 with 2 Axes>"
      ]
     },
     "metadata": {},
     "output_type": "display_data"
    }
   ],
   "source": [
    "fig = plt.figure()\n",
    "sns.heatmap(confuse, annot = True, fmt='d')\n",
    "plt.title(\"Confusion matrix of Random Forest of comment_cleaned\")\n",
    "plt.xlabel('Predicted')\n",
    "plt.ylabel('Actual')\n",
    "plt.show()"
   ]
  },
  {
   "cell_type": "code",
   "execution_count": null,
   "metadata": {},
   "outputs": [
    {
     "name": "stdout",
     "output_type": "stream",
     "text": [
      "F1 score: 0.867\n",
      "Precision score: 0.767\n",
      "Recall score: 0.997\n",
      "Average precision-recall score: 0.767\n",
      "Accuracy score: 0.771\n"
     ]
    },
    {
     "ename": "",
     "evalue": "",
     "output_type": "error",
     "traceback": [
      "\u001b[1;31mThe Kernel crashed while executing code in the current cell or a previous cell. \n",
      "\u001b[1;31mPlease review the code in the cell(s) to identify a possible cause of the failure. \n",
      "\u001b[1;31mClick <a href='https://aka.ms/vscodeJupyterKernelCrash'>here</a> for more info. \n",
      "\u001b[1;31mView Jupyter <a href='command:jupyter.viewOutput'>log</a> for further details."
     ]
    }
   ],
   "source": [
    "rf_5fold_F1_score = metrics.f1_score(y_test, result)\n",
    "rf_5fold_average_precision = metrics.average_precision_score(y_test, result)\n",
    "rf_5fold_precision_score= metrics.precision_score(y_test, result)\n",
    "rf_5fold_recall_score = metrics.recall_score(y_test, result)\n",
    "rf_5fold_accuracy = metrics.accuracy_score(y_test, result)\n",
    "\n",
    "print('F1 score: {0:0.3f}'.format(rf_5fold_F1_score))\n",
    "print('Precision score: {0:0.3f}'.format(rf_5fold_precision_score))\n",
    "print('Recall score: {0:0.3f}'.format(rf_5fold_recall_score))\n",
    "print('Average precision-recall score: {0:0.3f}'.format(rf_5fold_average_precision))\n",
    "print('Accuracy score: {0:0.3f}'.format(rf_5fold_accuracy))"
   ]
  },
  {
   "cell_type": "code",
   "execution_count": null,
   "metadata": {},
   "outputs": [],
   "source": [
    "print(\"Random Forest\")\n",
    "print('Accuracy score: {0:0.3f}'.format(rf_accuracy))\n",
    "print()\n",
    "print(\"Decision Tree - Grid Search\")\n",
    "print('Accuracy score: {0:0.3f}'.format(rf_3fold_accuracy))\n",
    "print()\n",
    "print(\"DEcision Tree - Grid Search - 5-folds\")\n",
    "print('Accuracy score: {0:0.3f}'.format(rf_5fold_accuracy))"
   ]
  }
 ],
 "metadata": {
  "kernelspec": {
   "display_name": "Python 3",
   "language": "python",
   "name": "python3"
  },
  "language_info": {
   "codemirror_mode": {
    "name": "ipython",
    "version": 3
   },
   "file_extension": ".py",
   "mimetype": "text/x-python",
   "name": "python",
   "nbconvert_exporter": "python",
   "pygments_lexer": "ipython3",
   "version": "3.11.9"
  }
 },
 "nbformat": 4,
 "nbformat_minor": 2
}
