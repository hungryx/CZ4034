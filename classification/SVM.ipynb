{
 "cells": [
  {
   "cell_type": "markdown",
   "metadata": {},
   "source": [
    "### Import libraries"
   ]
  },
  {
   "cell_type": "code",
   "execution_count": 1,
   "metadata": {},
   "outputs": [],
   "source": [
    "import pandas as pd\n",
    "import numpy as np\n",
    "import nltk\n",
    "import matplotlib.pyplot as plt\n",
    "%matplotlib inline\n",
    "import seaborn as sns\n",
    "from nltk.stem import PorterStemmer\n",
    "from nltk.tokenize import word_tokenize\n",
    "from nltk.corpus import stopwords\n",
    "import os\n",
    "import re\n",
    "from nltk.corpus import wordnet as wn\n",
    "from nltk.stem.wordnet import WordNetLemmatizer\n",
    "from nltk import word_tokenize, pos_tag\n",
    "from collections import defaultdict\n",
    "from sklearn.ensemble import RandomForestClassifier\n",
    "from sklearn.model_selection import GridSearchCV\n",
    "from sklearn.model_selection import train_test_split\n",
    "from sklearn.feature_extraction.text import CountVectorizer\n",
    "from sklearn import svm\n",
    "from sklearn import metrics\n",
    "from sklearn.model_selection import cross_val_score\n",
    "import time\n",
    "from sklearn.tree import DecisionTreeClassifier"
   ]
  },
  {
   "cell_type": "markdown",
   "metadata": {},
   "source": [
    "### Data cleaning"
   ]
  },
  {
   "cell_type": "code",
   "execution_count": 2,
   "metadata": {},
   "outputs": [
    {
     "name": "stderr",
     "output_type": "stream",
     "text": [
      "[nltk_data] Downloading package punkt to C:\\Users\\Wei\n",
      "[nltk_data]     Ling\\AppData\\Roaming\\nltk_data...\n",
      "[nltk_data]   Package punkt is already up-to-date!\n",
      "[nltk_data] Downloading package stopwords to C:\\Users\\Wei\n",
      "[nltk_data]     Ling\\AppData\\Roaming\\nltk_data...\n",
      "[nltk_data]   Package stopwords is already up-to-date!\n",
      "[nltk_data] Downloading package wordnet to C:\\Users\\Wei\n",
      "[nltk_data]     Ling\\AppData\\Roaming\\nltk_data...\n",
      "[nltk_data]   Package wordnet is already up-to-date!\n",
      "[nltk_data] Downloading package averaged_perceptron_tagger to\n",
      "[nltk_data]     C:\\Users\\Wei Ling\\AppData\\Roaming\\nltk_data...\n",
      "[nltk_data]   Package averaged_perceptron_tagger is already up-to-\n",
      "[nltk_data]       date!\n"
     ]
    }
   ],
   "source": [
    "nltk.download('punkt')\n",
    "nltk.download('stopwords')\n",
    "nltk.download('wordnet')\n",
    "nltk.download('averaged_perceptron_tagger')\n",
    "tag_map = defaultdict(lambda : wn.NOUN)\n",
    "tag_map['J'] = wn.ADJ\n",
    "tag_map['V'] = wn.VERB\n",
    "tag_map['R'] = wn.ADV"
   ]
  },
  {
   "cell_type": "code",
   "execution_count": 3,
   "metadata": {},
   "outputs": [],
   "source": [
    "# Load data\n",
    "books_df = pd.read_csv('Book_data.csv')\n"
   ]
  },
  {
   "cell_type": "code",
   "execution_count": 4,
   "metadata": {},
   "outputs": [
    {
     "data": {
      "text/plain": [
       "comment_text    object\n",
       "sentiment        int64\n",
       "dtype: object"
      ]
     },
     "execution_count": 4,
     "metadata": {},
     "output_type": "execute_result"
    }
   ],
   "source": [
    "# Check that sentimt is of integer\n",
    "books_df.dtypes"
   ]
  },
  {
   "cell_type": "code",
   "execution_count": 5,
   "metadata": {},
   "outputs": [],
   "source": [
    "comment_df = books_df[['comment_text', 'sentiment']]"
   ]
  },
  {
   "cell_type": "code",
   "execution_count": 6,
   "metadata": {},
   "outputs": [
    {
     "data": {
      "text/plain": [
       "array([1, 0], dtype=int64)"
      ]
     },
     "execution_count": 6,
     "metadata": {},
     "output_type": "execute_result"
    }
   ],
   "source": [
    "# drop 2 and 3\n",
    "comment_df = comment_df[comment_df.sentiment != 2]\n",
    "comment_df = comment_df[comment_df.sentiment != 3]\n",
    "comment_df['sentiment'].unique()"
   ]
  },
  {
   "cell_type": "code",
   "execution_count": 7,
   "metadata": {},
   "outputs": [],
   "source": [
    "def data_cleaning(x):\n",
    "    x = str(x)\n",
    "    pattern = '[^a-zA-Z0-9\\ ]'\n",
    "    x = re.sub(pattern,'',x)\n",
    "    x = x.lower()\n",
    "    x = x.strip()\n",
    "    # Convert more than 2 letter repetitions to 2 letter\n",
    "    # funnnnny --> funny\n",
    "    x = re.sub(r'(.)\\1+', r'\\1\\1', x)\n",
    "    # Remove - & '\n",
    "    x = re.sub(r'(-|\\')', ' ', x)\n",
    "    return x"
   ]
  },
  {
   "cell_type": "code",
   "execution_count": 8,
   "metadata": {},
   "outputs": [],
   "source": [
    "def remove_links_funny_words(x):\n",
    "    x = re.sub('(https?://[\\S]+)', ' URL ', str(x))\n",
    "    x = x.replace(\"xmass\", \"christmas\")\n",
    "    x = x.replace(\"...\", \" \")\n",
    "    x = x.replace(\"'ll\", \"will\")\n",
    "    x = x.replace(\"tewwible\", \"terrible\")\n",
    "    x = x.replace(\"frekking\", \"freaking\")\n",
    "    return x"
   ]
  },
  {
   "cell_type": "code",
   "execution_count": 9,
   "metadata": {},
   "outputs": [
    {
     "data": {
      "text/html": [
       "<div>\n",
       "<style scoped>\n",
       "    .dataframe tbody tr th:only-of-type {\n",
       "        vertical-align: middle;\n",
       "    }\n",
       "\n",
       "    .dataframe tbody tr th {\n",
       "        vertical-align: top;\n",
       "    }\n",
       "\n",
       "    .dataframe thead th {\n",
       "        text-align: right;\n",
       "    }\n",
       "</style>\n",
       "<table border=\"1\" class=\"dataframe\">\n",
       "  <thead>\n",
       "    <tr style=\"text-align: right;\">\n",
       "      <th></th>\n",
       "      <th>comment_text</th>\n",
       "      <th>sentiment</th>\n",
       "    </tr>\n",
       "  </thead>\n",
       "  <tbody>\n",
       "    <tr>\n",
       "      <th>0</th>\n",
       "      <td>started reading catch22 but year read consider...</td>\n",
       "      <td>1</td>\n",
       "    </tr>\n",
       "    <tr>\n",
       "      <th>1</th>\n",
       "      <td>way dune written might favorite canticle leibo...</td>\n",
       "      <td>1</td>\n",
       "    </tr>\n",
       "    <tr>\n",
       "      <th>3</th>\n",
       "      <td>here thought reading first twothis series defi...</td>\n",
       "      <td>1</td>\n",
       "    </tr>\n",
       "    <tr>\n",
       "      <th>5</th>\n",
       "      <td>one favourite lsi think everything scifi setti...</td>\n",
       "      <td>1</td>\n",
       "    </tr>\n",
       "    <tr>\n",
       "      <th>6</th>\n",
       "      <td>never loved read beyond elementary school slow...</td>\n",
       "      <td>1</td>\n",
       "    </tr>\n",
       "  </tbody>\n",
       "</table>\n",
       "</div>"
      ],
      "text/plain": [
       "                                        comment_text  sentiment\n",
       "0  started reading catch22 but year read consider...          1\n",
       "1  way dune written might favorite canticle leibo...          1\n",
       "3  here thought reading first twothis series defi...          1\n",
       "5  one favourite lsi think everything scifi setti...          1\n",
       "6  never loved read beyond elementary school slow...          1"
      ]
     },
     "execution_count": 9,
     "metadata": {},
     "output_type": "execute_result"
    }
   ],
   "source": [
    "comment_df = comment_df[comment_df['comment_text'] != '']\n",
    "comment_df['comment_text'] = comment_df['comment_text'].apply(remove_links_funny_words).apply(data_cleaning)\n",
    "comment_df.head()"
   ]
  },
  {
   "cell_type": "code",
   "execution_count": 10,
   "metadata": {},
   "outputs": [
    {
     "data": {
      "text/html": [
       "<div>\n",
       "<style scoped>\n",
       "    .dataframe tbody tr th:only-of-type {\n",
       "        vertical-align: middle;\n",
       "    }\n",
       "\n",
       "    .dataframe tbody tr th {\n",
       "        vertical-align: top;\n",
       "    }\n",
       "\n",
       "    .dataframe thead th {\n",
       "        text-align: right;\n",
       "    }\n",
       "</style>\n",
       "<table border=\"1\" class=\"dataframe\">\n",
       "  <thead>\n",
       "    <tr style=\"text-align: right;\">\n",
       "      <th></th>\n",
       "      <th>comment_text</th>\n",
       "      <th>sentiment</th>\n",
       "    </tr>\n",
       "  </thead>\n",
       "  <tbody>\n",
       "    <tr>\n",
       "      <th>0</th>\n",
       "      <td>started reading catch22 but year read consider...</td>\n",
       "      <td>1</td>\n",
       "    </tr>\n",
       "    <tr>\n",
       "      <th>1</th>\n",
       "      <td>way dune written might favorite canticle leibo...</td>\n",
       "      <td>1</td>\n",
       "    </tr>\n",
       "    <tr>\n",
       "      <th>3</th>\n",
       "      <td>here thought reading first twothis series defi...</td>\n",
       "      <td>1</td>\n",
       "    </tr>\n",
       "    <tr>\n",
       "      <th>5</th>\n",
       "      <td>one favourite lsi think everything scifi setti...</td>\n",
       "      <td>1</td>\n",
       "    </tr>\n",
       "    <tr>\n",
       "      <th>6</th>\n",
       "      <td>never loved read beyond elementary school slow...</td>\n",
       "      <td>1</td>\n",
       "    </tr>\n",
       "  </tbody>\n",
       "</table>\n",
       "</div>"
      ],
      "text/plain": [
       "                                        comment_text  sentiment\n",
       "0  started reading catch22 but year read consider...          1\n",
       "1  way dune written might favorite canticle leibo...          1\n",
       "3  here thought reading first twothis series defi...          1\n",
       "5  one favourite lsi think everything scifi setti...          1\n",
       "6  never loved read beyond elementary school slow...          1"
      ]
     },
     "execution_count": 10,
     "metadata": {},
     "output_type": "execute_result"
    }
   ],
   "source": [
    "# deal with empty values\n",
    "comment_df['comment_text'] = comment_df['comment_text'].fillna('').apply(str)\n",
    "comment_df.head()"
   ]
  },
  {
   "cell_type": "code",
   "execution_count": 11,
   "metadata": {},
   "outputs": [],
   "source": [
    "# Stemming\n",
    "def word_pre(x):\n",
    "    stemmer = PorterStemmer()\n",
    "    x = word_tokenize(x)\n",
    "    store = ''\n",
    "\n",
    "    for i in x:\n",
    "        store += stemmer.stem(i) + ' '\n",
    "\n",
    "    return store\n",
    "\n",
    "# Stopwords\n",
    "stop = stopwords.words('english')\n",
    "additional_stopwords = [\"'s\",\"...\",\"'ve\",\"``\",\"''\",\"'m\",'--',\"'ll\",\"'d\"]\n",
    "stop = set(stop + additional_stopwords)\n",
    "def remove_stop(x):\n",
    "    x = word_tokenize(x)\n",
    "    store = ''\n",
    "\n",
    "    for i in x:\n",
    "        if i not in stop:\n",
    "            store += i + ' '\n",
    "\n",
    "    return store\n",
    "\n",
    "def lemmatize(text):\n",
    "  store = ''\n",
    "  tokens = word_tokenize(text)\n",
    "  lemma_function = WordNetLemmatizer()\n",
    "  for token, tag in pos_tag(tokens):\n",
    "    store += lemma_function.lemmatize(token, tag_map[tag[0]]) + ' '\n",
    "  return str(store)"
   ]
  },
  {
   "cell_type": "code",
   "execution_count": 12,
   "metadata": {},
   "outputs": [],
   "source": [
    "comment_df['comment_cleaned'] = comment_df['comment_text'].apply(remove_stop)"
   ]
  },
  {
   "cell_type": "markdown",
   "metadata": {},
   "source": [
    "### Split data"
   ]
  },
  {
   "cell_type": "code",
   "execution_count": 13,
   "metadata": {},
   "outputs": [],
   "source": [
    "x_train, x_test, y_train, y_test = train_test_split(comment_df[['comment_cleaned']],\n",
    "                                                    comment_df['sentiment'],\n",
    "                                                    test_size=0.2,\n",
    "                                                    random_state=0)"
   ]
  },
  {
   "cell_type": "code",
   "execution_count": 14,
   "metadata": {},
   "outputs": [],
   "source": [
    "vectorizer = CountVectorizer(ngram_range=(1,2))\n",
    "comment_matrix = vectorizer.fit_transform(x_train['comment_cleaned'])"
   ]
  },
  {
   "cell_type": "markdown",
   "metadata": {},
   "source": [
    "### SVM"
   ]
  },
  {
   "cell_type": "code",
   "execution_count": 15,
   "metadata": {},
   "outputs": [],
   "source": [
    "SVM = svm.SVC(C=1, kernel='poly', gamma=0.1, degree=1).fit(comment_matrix, y_train)"
   ]
  },
  {
   "cell_type": "code",
   "execution_count": 16,
   "metadata": {},
   "outputs": [
    {
     "data": {
      "text/plain": [
       "array([[1077,  164],\n",
       "       [ 135, 2251]], dtype=int64)"
      ]
     },
     "execution_count": 16,
     "metadata": {},
     "output_type": "execute_result"
    }
   ],
   "source": [
    "test_vector = vectorizer.transform(x_test['comment_cleaned'])\n",
    "result = SVM.predict(test_vector)\n",
    "confuse = metrics.confusion_matrix(y_test, result)\n",
    "confuse"
   ]
  },
  {
   "cell_type": "code",
   "execution_count": 17,
   "metadata": {},
   "outputs": [
    {
     "data": {
      "image/png": "[encoded data removed]",
      "text/plain": [
       "<Figure size 640x480 with 2 Axes>"
      ]
     },
     "metadata": {},
     "output_type": "display_data"
    }
   ],
   "source": [
    "fig = plt.figure()\n",
    "sns.heatmap(confuse, annot = True, fmt='d')\n",
    "plt.title(\"Confusion matrix of SVM on comment_cleaned\")\n",
    "plt.xlabel('Predicted')\n",
    "plt.ylabel('Actual')\n",
    "plt.show()"
   ]
  },
  {
   "cell_type": "code",
   "execution_count": 18,
   "metadata": {},
   "outputs": [
    {
     "name": "stdout",
     "output_type": "stream",
     "text": [
      "F1 score: 0.938\n",
      "Precision score: 0.932\n",
      "Recall score: 0.943\n",
      "Average precision-recall score: 0.917\n",
      "Accuracy score: 0.918\n"
     ]
    }
   ],
   "source": [
    "svm_F1_score = metrics.f1_score(y_test, result)\n",
    "svm_average_precision = metrics.average_precision_score(y_test, result)\n",
    "svm_precision_score= metrics.precision_score(y_test, result)\n",
    "svm_recall_score = metrics.recall_score(y_test, result)\n",
    "svm_accuracy = metrics.accuracy_score(y_test, result)\n",
    "\n",
    "print('F1 score: {0:0.3f}'.format(svm_F1_score))\n",
    "print('Precision score: {0:0.3f}'.format(svm_precision_score))\n",
    "print('Recall score: {0:0.3f}'.format(svm_recall_score))\n",
    "print('Average precision-recall score: {0:0.3f}'.format(svm_average_precision))\n",
    "print('Accuracy score: {0:0.3f}'.format(svm_accuracy))"
   ]
  },
  {
   "cell_type": "markdown",
   "metadata": {},
   "source": [
    "### Enhanced SVM - Grid Search [3-folds]"
   ]
  },
  {
   "cell_type": "code",
   "execution_count": 19,
   "metadata": {},
   "outputs": [
    {
     "data": {
      "text/plain": [
       "{'C': 1, 'degree': 1, 'gamma': 0.15, 'kernel': 'poly'}"
      ]
     },
     "execution_count": 19,
     "metadata": {},
     "output_type": "execute_result"
    }
   ],
   "source": [
    "nfolds=3\n",
    "\n",
    "Cs = [0.001, 0.01, 0.1, 1, 10]\n",
    "gammas = [0.05, 0.1, 0.15, 0.20, 0.25]\n",
    "degrees = [0, 1, 2, 3, 4, 5, 6]\n",
    "kernels = ['rbf', 'linear', 'poly']\n",
    "param_grid = {'C': Cs, 'gamma' : gammas, 'degree' : degrees, 'kernel' : kernels}\n",
    "\n",
    "grid_search = GridSearchCV(svm.SVC(), param_grid, cv = nfolds)\n",
    "grid_search.fit(test_vector, y_test)\n",
    "grid_search.best_params_"
   ]
  },
  {
   "cell_type": "code",
   "execution_count": 20,
   "metadata": {},
   "outputs": [],
   "source": [
    "SVM = svm.SVC(C=10, kernel='poly', gamma=0.05, degree=1).fit(comment_matrix, y_train)"
   ]
  },
  {
   "cell_type": "code",
   "execution_count": 21,
   "metadata": {},
   "outputs": [
    {
     "data": {
      "text/plain": [
       "array([[1092,  149],\n",
       "       [ 144, 2242]], dtype=int64)"
      ]
     },
     "execution_count": 21,
     "metadata": {},
     "output_type": "execute_result"
    }
   ],
   "source": [
    "test_vector = vectorizer.transform(x_test['comment_cleaned'])\n",
    "result = SVM.predict(test_vector)\n",
    "confuse = metrics.confusion_matrix(y_test, result)\n",
    "confuse"
   ]
  },
  {
   "cell_type": "code",
   "execution_count": 22,
   "metadata": {},
   "outputs": [
    {
     "data": {
      "image/png": "[encoded data removed]",
      "text/plain": [
       "<Figure size 640x480 with 2 Axes>"
      ]
     },
     "metadata": {},
     "output_type": "display_data"
    }
   ],
   "source": [
    "fig = plt.figure()\n",
    "sns.heatmap(confuse, annot = True, fmt='d')\n",
    "plt.title(\"Confusion matrix of enhanced SVM on comment_cleaned\")\n",
    "plt.xlabel('Predicted')\n",
    "plt.ylabel('Actual')\n",
    "plt.show()"
   ]
  },
  {
   "cell_type": "code",
   "execution_count": 23,
   "metadata": {},
   "outputs": [
    {
     "name": "stdout",
     "output_type": "stream",
     "text": [
      "F1 score: 0.939\n",
      "Precision score: 0.938\n",
      "Recall score: 0.940\n",
      "Average precision-recall score: 0.921\n",
      "Accuracy score: 0.919\n"
     ]
    }
   ],
   "source": [
    "svm_3fold_F1_score = metrics.f1_score(y_test, result)\n",
    "svm_3fold_average_precision = metrics.average_precision_score(y_test, result)\n",
    "svm_3fold_precision_score= metrics.precision_score(y_test, result)\n",
    "svm_3fold_recall_score = metrics.recall_score(y_test, result)\n",
    "svm_3fold_accuracy = metrics.accuracy_score(y_test, result)\n",
    "\n",
    "print('F1 score: {0:0.3f}'.format(svm_3fold_F1_score))\n",
    "print('Precision score: {0:0.3f}'.format(svm_3fold_precision_score))\n",
    "print('Recall score: {0:0.3f}'.format(svm_3fold_recall_score))\n",
    "print('Average precision-recall score: {0:0.3f}'.format(svm_3fold_average_precision))\n",
    "print('Accuracy score: {0:0.3f}'.format(svm_3fold_accuracy))"
   ]
  },
  {
   "cell_type": "markdown",
   "metadata": {},
   "source": [
    "### Enhanced SVM - Grid Search [5-folds]"
   ]
  },
  {
   "cell_type": "code",
   "execution_count": 24,
   "metadata": {},
   "outputs": [
    {
     "data": {
      "text/plain": [
       "{'C': 1, 'degree': 1, 'gamma': 0.2, 'kernel': 'poly'}"
      ]
     },
     "execution_count": 24,
     "metadata": {},
     "output_type": "execute_result"
    }
   ],
   "source": [
    "nfolds=5\n",
    "\n",
    "Cs = [0.001, 0.01, 0.1, 1, 10]\n",
    "gammas = [0.05, 0.1, 0.15, 0.20, 0.25]\n",
    "degrees = [0, 1, 2, 3, 4, 5, 6]\n",
    "kernels = ['rbf', 'linear', 'poly']\n",
    "param_grid = {'C': Cs, 'gamma' : gammas, 'degree' : degrees, 'kernel' : kernels}\n",
    "\n",
    "grid_search = GridSearchCV(svm.SVC(), param_grid, cv = nfolds)\n",
    "grid_search.fit(test_vector, y_test)\n",
    "grid_search.best_params_"
   ]
  },
  {
   "cell_type": "code",
   "execution_count": 25,
   "metadata": {},
   "outputs": [
    {
     "data": {
      "text/plain": [
       "array([[1077,  164],\n",
       "       [ 135, 2251]], dtype=int64)"
      ]
     },
     "execution_count": 25,
     "metadata": {},
     "output_type": "execute_result"
    }
   ],
   "source": [
    "SVM = svm.SVC(C=0.1, kernel='linear', gamma=0.05, degree=0).fit(comment_matrix, y_train)\n",
    "\n",
    "test_vector = vectorizer.transform(x_test['comment_cleaned'])\n",
    "result = SVM.predict(test_vector)\n",
    "confuse = metrics.confusion_matrix(y_test, result)\n",
    "confuse"
   ]
  },
  {
   "cell_type": "code",
   "execution_count": 26,
   "metadata": {},
   "outputs": [
    {
     "data": {
      "image/png": "[encoded data removed]",
      "text/plain": [
       "<Figure size 640x480 with 2 Axes>"
      ]
     },
     "metadata": {},
     "output_type": "display_data"
    }
   ],
   "source": [
    "fig = plt.figure()\n",
    "sns.heatmap(confuse, annot = True, fmt='d')\n",
    "plt.title(\"Confusion matrix of enhanced SVM on comment_cleaned\")\n",
    "plt.xlabel('Predicted')\n",
    "plt.ylabel('Actual')\n",
    "plt.show()"
   ]
  },
  {
   "cell_type": "code",
   "execution_count": 27,
   "metadata": {},
   "outputs": [
    {
     "name": "stdout",
     "output_type": "stream",
     "text": [
      "F1 score: 0.938\n",
      "Precision score: 0.932\n",
      "Recall score: 0.943\n",
      "Average precision-recall score: 0.917\n",
      "Accuracy score: 0.918\n"
     ]
    }
   ],
   "source": [
    "svm_5fold_F1_score = metrics.f1_score(y_test, result)\n",
    "svm_5fold_average_precision = metrics.average_precision_score(y_test, result)\n",
    "svm_5fold_precision_score= metrics.precision_score(y_test, result)\n",
    "svm_5fold_recall_score = metrics.recall_score(y_test, result)\n",
    "svm_5fold_accuracy = metrics.accuracy_score(y_test, result)\n",
    "\n",
    "print('F1 score: {0:0.3f}'.format(svm_5fold_F1_score))\n",
    "print('Precision score: {0:0.3f}'.format(svm_5fold_precision_score))\n",
    "print('Recall score: {0:0.3f}'.format(svm_5fold_recall_score))\n",
    "print('Average precision-recall score: {0:0.3f}'.format(svm_5fold_average_precision))\n",
    "print('Accuracy score: {0:0.3f}'.format(svm_5fold_accuracy))"
   ]
  },
  {
   "cell_type": "code",
   "execution_count": 28,
   "metadata": {},
   "outputs": [
    {
     "name": "stdout",
     "output_type": "stream",
     "text": [
      "Support Vector Machine\n",
      "Accuracy score: 0.918\n",
      "\n",
      "Support Vector Machine - Grid Search - 3-folds\n",
      "Accuracy score: 0.919\n",
      "\n",
      "Support Vector Machine - Grid Search - 5-folds\n",
      "Accuracy score: 0.918\n"
     ]
    }
   ],
   "source": [
    "print(\"Support Vector Machine\")\n",
    "print('Accuracy score: {0:0.3f}'.format(svm_accuracy))\n",
    "print()\n",
    "print(\"Support Vector Machine - Grid Search - 3-folds\")\n",
    "print('Accuracy score: {0:0.3f}'.format(svm_3fold_accuracy))\n",
    "print()\n",
    "print(\"Support Vector Machine - Grid Search - 5-folds\")\n",
    "print('Accuracy score: {0:0.3f}'.format(svm_5fold_accuracy))"
   ]
  }
 ],
 "metadata": {
  "kernelspec": {
   "display_name": "Python 3",
   "language": "python",
   "name": "python3"
  },
  "language_info": {
   "codemirror_mode": {
    "name": "ipython",
    "version": 3
   },
   "file_extension": ".py",
   "mimetype": "text/x-python",
   "name": "python",
   "nbconvert_exporter": "python",
   "pygments_lexer": "ipython3",
   "version": "3.11.9"
  }
 },
 "nbformat": 4,
 "nbformat_minor": 2
}
