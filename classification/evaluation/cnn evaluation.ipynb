{
 "cells": [
  {
   "cell_type": "code",
   "execution_count": 1,
   "id": "jzplWz6d6_WU",
   "metadata": {
    "colab": {
     "base_uri": "https://localhost:8080/"
    },
    "executionInfo": {
     "elapsed": 138532,
     "status": "ok",
     "timestamp": 1713082285413,
     "user": {
      "displayName": "Aarushi Nema",
      "userId": "09721552114392618513"
     },
     "user_tz": -480
    },
    "id": "jzplWz6d6_WU",
    "outputId": "4d3c204e-0a8a-4872-ad02-a88eb5467b0e"
   },
   "outputs": [
    {
     "name": "stdout",
     "output_type": "stream",
     "text": [
      "Mounted at /content/drive\n"
     ]
    }
   ],
   "source": [
    "from google.colab import drive\n",
    "drive.mount('/content/drive')"
   ]
  },
  {
   "cell_type": "code",
   "execution_count": 1,
   "id": "39a4b515-ca82-492c-9f8f-a3225375cbf1",
   "metadata": {
    "executionInfo": {
     "elapsed": 426,
     "status": "ok",
     "timestamp": 1713082402297,
     "user": {
      "displayName": "Aarushi Nema",
      "userId": "09721552114392618513"
     },
     "user_tz": -480
    },
    "id": "39a4b515-ca82-492c-9f8f-a3225375cbf1"
   },
   "outputs": [],
   "source": [
    "import pandas as pd\n",
    "import numpy as np\n",
    "import seaborn as sns\n",
    "import re\n",
    "import os\n",
    "import string\n",
    "\n",
    "import nltk\n",
    "\n",
    "import matplotlib.pyplot as plt\n",
    "from sklearn.model_selection import train_test_split\n",
    "from sklearn.feature_extraction.text import CountVectorizer\n",
    "from sklearn.feature_extraction.text import TfidfTransformer\n",
    "from sklearn.metrics import classification_report,confusion_matrix\n",
    "import tensorflow as tf\n",
    "\n",
    "from tensorflow.keras.models import Sequential\n",
    "from tensorflow.keras.layers import Dense, Activation, Dropout\n",
    "from tensorflow.keras.callbacks import EarlyStopping"
   ]
  },
  {
   "cell_type": "code",
   "execution_count": 5,
   "id": "8386b643-6178-4afa-944b-dabec9a7e5af",
   "metadata": {
    "colab": {
     "base_uri": "https://localhost:8080/",
     "height": 206
    },
    "executionInfo": {
     "elapsed": 4,
     "status": "ok",
     "timestamp": 1713082405220,
     "user": {
      "displayName": "Aarushi Nema",
      "userId": "09721552114392618513"
     },
     "user_tz": -480
    },
    "id": "8386b643-6178-4afa-944b-dabec9a7e5af",
    "outputId": "2a8f9a02-7a5d-4466-ae3c-e9a6dda6e19c"
   },
   "outputs": [
    {
     "data": {
      "text/html": [
       "<div>\n",
       "<style scoped>\n",
       "    .dataframe tbody tr th:only-of-type {\n",
       "        vertical-align: middle;\n",
       "    }\n",
       "\n",
       "    .dataframe tbody tr th {\n",
       "        vertical-align: top;\n",
       "    }\n",
       "\n",
       "    .dataframe thead th {\n",
       "        text-align: right;\n",
       "    }\n",
       "</style>\n",
       "<table border=\"1\" class=\"dataframe\">\n",
       "  <thead>\n",
       "    <tr style=\"text-align: right;\">\n",
       "      <th></th>\n",
       "      <th>comment_text</th>\n",
       "      <th>sentiment</th>\n",
       "    </tr>\n",
       "  </thead>\n",
       "  <tbody>\n",
       "    <tr>\n",
       "      <th>0</th>\n",
       "      <td>started reading catch22 but year read consider...</td>\n",
       "      <td>1</td>\n",
       "    </tr>\n",
       "    <tr>\n",
       "      <th>1</th>\n",
       "      <td>way dune written might favorite canticle leibo...</td>\n",
       "      <td>1</td>\n",
       "    </tr>\n",
       "    <tr>\n",
       "      <th>2</th>\n",
       "      <td>talked school year ago told class creation hid...</td>\n",
       "      <td>2</td>\n",
       "    </tr>\n",
       "    <tr>\n",
       "      <th>3</th>\n",
       "      <td>here thought reading first twothis series defi...</td>\n",
       "      <td>1</td>\n",
       "    </tr>\n",
       "    <tr>\n",
       "      <th>4</th>\n",
       "      <td>liked exactly dislikedthats would probably pre...</td>\n",
       "      <td>2</td>\n",
       "    </tr>\n",
       "  </tbody>\n",
       "</table>\n",
       "</div>"
      ],
      "text/plain": [
       "                                        comment_text  sentiment\n",
       "0  started reading catch22 but year read consider...          1\n",
       "1  way dune written might favorite canticle leibo...          1\n",
       "2  talked school year ago told class creation hid...          2\n",
       "3  here thought reading first twothis series defi...          1\n",
       "4  liked exactly dislikedthats would probably pre...          2"
      ]
     },
     "execution_count": 5,
     "metadata": {},
     "output_type": "execute_result"
    }
   ],
   "source": [
    "# Load data\n",
    "books_data = pd.read_csv(r\"C:\\Users\\wu02x\\Downloads\\SC4021\\pre_processed_data.csv\")\n",
    "books_data.head()"
   ]
  },
  {
   "cell_type": "code",
   "execution_count": 6,
   "id": "404538fb-acf8-4d46-a0f0-8d270aba2752",
   "metadata": {
    "colab": {
     "base_uri": "https://localhost:8080/"
    },
    "executionInfo": {
     "elapsed": 432,
     "status": "ok",
     "timestamp": 1713082662759,
     "user": {
      "displayName": "Aarushi Nema",
      "userId": "09721552114392618513"
     },
     "user_tz": -480
    },
    "id": "404538fb-acf8-4d46-a0f0-8d270aba2752",
    "outputId": "05f7fe20-e91b-45e9-abab-a5ebd7a8a393"
   },
   "outputs": [
    {
     "data": {
      "text/plain": [
       "sentiment\n",
       "1    3077\n",
       "2    3077\n",
       "0    3077\n",
       "Name: count, dtype: int64"
      ]
     },
     "execution_count": 6,
     "metadata": {},
     "output_type": "execute_result"
    }
   ],
   "source": [
    "books_data.sentiment.value_counts()"
   ]
  },
  {
   "cell_type": "code",
   "execution_count": 7,
   "id": "0e2f27be-8ff1-490d-82ce-c6e83fbc63d4",
   "metadata": {
    "executionInfo": {
     "elapsed": 2,
     "status": "ok",
     "timestamp": 1713082664463,
     "user": {
      "displayName": "Aarushi Nema",
      "userId": "09721552114392618513"
     },
     "user_tz": -480
    },
    "id": "0e2f27be-8ff1-490d-82ce-c6e83fbc63d4"
   },
   "outputs": [],
   "source": [
    "books_data = books_data[(books_data['sentiment'] == 0) | (books_data['sentiment'] == 1)]"
   ]
  },
  {
   "cell_type": "code",
   "execution_count": 8,
   "id": "5e655add-dfd0-41b3-af2b-53a0e900fb76",
   "metadata": {
    "executionInfo": {
     "elapsed": 2,
     "status": "ok",
     "timestamp": 1713082667080,
     "user": {
      "displayName": "Aarushi Nema",
      "userId": "09721552114392618513"
     },
     "user_tz": -480
    },
    "id": "5e655add-dfd0-41b3-af2b-53a0e900fb76"
   },
   "outputs": [],
   "source": [
    "# Separating the 80% data for training data and 20% for testing data and maintain equal ratio of classes in the train and test sample\n",
    "X_train, X_test, y_train, y_test = train_test_split(books_data['comment_text'], books_data['sentiment'], test_size=0.2, stratify=books_data['sentiment'], random_state=42)"
   ]
  },
  {
   "cell_type": "code",
   "execution_count": 9,
   "id": "7d1f2c43-8c8e-4949-a33e-6dff1a209f41",
   "metadata": {
    "executionInfo": {
     "elapsed": 715,
     "status": "ok",
     "timestamp": 1713082668829,
     "user": {
      "displayName": "Aarushi Nema",
      "userId": "09721552114392618513"
     },
     "user_tz": -480
    },
    "id": "7d1f2c43-8c8e-4949-a33e-6dff1a209f41"
   },
   "outputs": [],
   "source": [
    "# vectorization\n",
    "vect = CountVectorizer()\n",
    "X_train = vect.fit_transform(X_train)\n",
    "X_test = vect.transform(X_test)"
   ]
  },
  {
   "cell_type": "code",
   "execution_count": 10,
   "id": "40445975-4b97-4889-bacb-6d17aebc6a53",
   "metadata": {
    "executionInfo": {
     "elapsed": 936,
     "status": "ok",
     "timestamp": 1713082670211,
     "user": {
      "displayName": "Aarushi Nema",
      "userId": "09721552114392618513"
     },
     "user_tz": -480
    },
    "id": "40445975-4b97-4889-bacb-6d17aebc6a53"
   },
   "outputs": [],
   "source": [
    "# frequency, inverse document frequency\n",
    "tfidf = TfidfTransformer()\n",
    "X_train = tfidf.fit_transform(X_train)\n",
    "X_test = tfidf.transform(X_test)\n",
    "X_train = X_train.toarray()\n",
    "X_test = X_test.toarray()"
   ]
  },
  {
   "cell_type": "code",
   "execution_count": 13,
   "id": "e0be12f7-77ba-4310-86e9-8c67130dcde1",
   "metadata": {
    "executionInfo": {
     "elapsed": 1,
     "status": "ok",
     "timestamp": 1713082678974,
     "user": {
      "displayName": "Aarushi Nema",
      "userId": "09721552114392618513"
     },
     "user_tz": -480
    },
    "id": "e0be12f7-77ba-4310-86e9-8c67130dcde1"
   },
   "outputs": [],
   "source": [
    "model = Sequential()\n",
    "model.add(Dense(units=1000, activation=\"relu\"))\n",
    "model.add(Dropout(0.3))\n",
    "model.add(Dense(units=250, activation=\"relu\"))\n",
    "model.add(Dropout(0.3))\n",
    "model.add(Dense(units=100, activation=\"relu\"))\n",
    "model.add(Dropout(0.3))\n",
    "# Output layer\n",
    "model.add(Dense(1, activation='sigmoid'))\n",
    "\n",
    "# Compile the model\n",
    "opt = tf.keras.optimizers.Adam(learning_rate=0.001)\n",
    "model.compile(loss='binary_crossentropy', optimizer=opt, metrics=['accuracy'])\n",
    "early_stop = EarlyStopping(monitor=\"val_loss\", mode=\"min\", verbose=1, patience=3)"
   ]
  },
  {
   "cell_type": "code",
   "execution_count": 14,
   "id": "6a4b13e3-00f3-4ac3-bc8c-4b048ee6d7bf",
   "metadata": {
    "colab": {
     "base_uri": "https://localhost:8080/"
    },
    "executionInfo": {
     "elapsed": 286329,
     "status": "ok",
     "timestamp": 1713082971664,
     "user": {
      "displayName": "Aarushi Nema",
      "userId": "09721552114392618513"
     },
     "user_tz": -480
    },
    "id": "6a4b13e3-00f3-4ac3-bc8c-4b048ee6d7bf",
    "outputId": "37742151-efbe-4407-c30c-fb6581145d54"
   },
   "outputs": [
    {
     "name": "stdout",
     "output_type": "stream",
     "text": [
      "Epoch 1/100\n",
      "\u001b[1m154/154\u001b[0m \u001b[32m━━━━━━━━━━━━━━━━━━━━\u001b[0m\u001b[37m\u001b[0m \u001b[1m29s\u001b[0m 166ms/step - accuracy: 0.6348 - loss: 0.6286 - val_accuracy: 0.7571 - val_loss: 0.4963\n",
      "Epoch 2/100\n",
      "\u001b[1m154/154\u001b[0m \u001b[32m━━━━━━━━━━━━━━━━━━━━\u001b[0m\u001b[37m\u001b[0m \u001b[1m22s\u001b[0m 143ms/step - accuracy: 0.9193 - loss: 0.2187 - val_accuracy: 0.7425 - val_loss: 0.5817\n",
      "Epoch 3/100\n",
      "\u001b[1m154/154\u001b[0m \u001b[32m━━━━━━━━━━━━━━━━━━━━\u001b[0m\u001b[37m\u001b[0m \u001b[1m25s\u001b[0m 163ms/step - accuracy: 0.9808 - loss: 0.0649 - val_accuracy: 0.7344 - val_loss: 0.9781\n",
      "Epoch 4/100\n",
      "\u001b[1m154/154\u001b[0m \u001b[32m━━━━━━━━━━━━━━━━━━━━\u001b[0m\u001b[37m\u001b[0m \u001b[1m25s\u001b[0m 164ms/step - accuracy: 0.9960 - loss: 0.0155 - val_accuracy: 0.7335 - val_loss: 1.3376\n",
      "Epoch 4: early stopping\n"
     ]
    }
   ],
   "source": [
    "history = model.fit(\n",
    "    x=X_train,\n",
    "    y=y_train,\n",
    "    epochs=100,\n",
    "    validation_data=(X_test, y_test),\n",
    "    verbose=1,\n",
    "    callbacks=early_stop,\n",
    ")"
   ]
  },
  {
   "cell_type": "code",
   "execution_count": 20,
   "id": "3bff6794-db21-4faa-a37c-7171c85dce59",
   "metadata": {
    "colab": {
     "base_uri": "https://localhost:8080/",
     "height": 1000
    },
    "executionInfo": {
     "elapsed": 1032,
     "status": "error",
     "timestamp": 1713083466972,
     "user": {
      "displayName": "Aarushi Nema",
      "userId": "09721552114392618513"
     },
     "user_tz": -480
    },
    "id": "3bff6794-db21-4faa-a37c-7171c85dce59",
    "outputId": "926d2937-96b0-42a8-d3e0-a5c4b29bd659"
   },
   "outputs": [
    {
     "name": "stdout",
     "output_type": "stream",
     "text": [
      "\u001b[1m39/39\u001b[0m \u001b[32m━━━━━━━━━━━━━━━━━━━━\u001b[0m\u001b[37m\u001b[0m \u001b[1m1s\u001b[0m 16ms/step\n",
      "F1 score: 0.750\n",
      "Precision score: 0.706\n",
      "Recall score: 0.798\n",
      "Accuracy score: 0.734\n"
     ]
    }
   ],
   "source": [
    "from sklearn.metrics import f1_score,average_precision_score, precision_score, recall_score, accuracy_score\n",
    "\n",
    "# Make predictions on the test set\n",
    "result = model.predict(X_test)\n",
    "\n",
    "# For example, you might round probabilities to the nearest integer\n",
    "y_pred_binary = [1 if p > 0.5 else 0 for p in result]\n",
    "\n",
    "# Compute F1 score\n",
    "F1_score = f1_score(y_test, y_pred_binary)\n",
    "\n",
    "# Calculate average precision\n",
    "average_precision = average_precision_score(y_test, y_pred_binary)\n",
    "\n",
    "# Calculate precision\n",
    "precision = precision_score(y_test, y_pred_binary)\n",
    "\n",
    "# Calculate recall\n",
    "recall_score = recall_score(y_test, y_pred_binary)\n",
    "\n",
    "# Calculate accuracy\n",
    "accuracy = accuracy_score(y_test, y_pred_binary)\n",
    "\n",
    "print('F1 score: {0:0.3f}'.format(F1_score))\n",
    "print('Precision score: {0:0.3f}'.format(precision))\n",
    "print('Recall score: {0:0.3f}'.format(recall_score))\n",
    "# print('Average precision-recall score: {0:0.3f}'.format(average_precision))\n",
    "print('Accuracy score: {0:0.3f}'.format(accuracy))"
   ]
  },
  {
   "cell_type": "markdown",
   "id": "8TK7pEr9t2r2",
   "metadata": {
    "id": "8TK7pEr9t2r2"
   },
   "source": [
    "## Evaluation"
   ]
  },
  {
   "cell_type": "code",
   "execution_count": 15,
   "id": "kN_iXDtNttwm",
   "metadata": {
    "executionInfo": {
     "elapsed": 630,
     "status": "ok",
     "timestamp": 1713083228207,
     "user": {
      "displayName": "Aarushi Nema",
      "userId": "09721552114392618513"
     },
     "user_tz": -480
    },
    "id": "kN_iXDtNttwm"
   },
   "outputs": [],
   "source": [
    "# Load evaluation dataset\n",
    "eval_filepath = r\"C:\\Users\\wu02x\\Downloads\\SC4021\\evaluation_preprocessed_data.csv\"\n",
    "eval_data = pd.read_csv(eval_filepath)"
   ]
  },
  {
   "cell_type": "code",
   "execution_count": 16,
   "id": "ErtHYtX7t9qX",
   "metadata": {
    "executionInfo": {
     "elapsed": 431,
     "status": "ok",
     "timestamp": 1713083245716,
     "user": {
      "displayName": "Aarushi Nema",
      "userId": "09721552114392618513"
     },
     "user_tz": -480
    },
    "id": "ErtHYtX7t9qX"
   },
   "outputs": [],
   "source": [
    "# Convert the column from float to int\n",
    "eval_data['manual_label'] = eval_data['manual_label'].astype(int)"
   ]
  },
  {
   "cell_type": "code",
   "execution_count": 17,
   "id": "ow9X4z5huK4W",
   "metadata": {
    "executionInfo": {
     "elapsed": 424,
     "status": "ok",
     "timestamp": 1713085021312,
     "user": {
      "displayName": "Aarushi Nema",
      "userId": "09721552114392618513"
     },
     "user_tz": -480
    },
    "id": "ow9X4z5huK4W"
   },
   "outputs": [],
   "source": [
    "X_eval = eval_data.comment_text\n",
    "y_eval = eval_data.manual_label"
   ]
  },
  {
   "cell_type": "code",
   "execution_count": 18,
   "id": "O3DnXkLFudG3",
   "metadata": {
    "executionInfo": {
     "elapsed": 452,
     "status": "ok",
     "timestamp": 1713085022824,
     "user": {
      "displayName": "Aarushi Nema",
      "userId": "09721552114392618513"
     },
     "user_tz": -480
    },
    "id": "O3DnXkLFudG3"
   },
   "outputs": [],
   "source": [
    "X_eval = vect.transform(X_eval)\n",
    "X_eval= tfidf.transform(X_eval)\n",
    "X_eval = X_eval.toarray()"
   ]
  },
  {
   "cell_type": "code",
   "execution_count": 33,
   "id": "222c3208-bd38-4687-a5f6-5c884a3d06fe",
   "metadata": {},
   "outputs": [
    {
     "name": "stdout",
     "output_type": "stream",
     "text": [
      "\u001b[1m25/25\u001b[0m \u001b[32m━━━━━━━━━━━━━━━━━━━━\u001b[0m\u001b[37m\u001b[0m \u001b[1m1s\u001b[0m 21ms/step\n",
      "Classification Time for 1000 records: 0.7544341087341309 seconds\n",
      "              precision    recall  f1-score   support\n",
      "\n",
      "           0     0.5209    0.8562    0.6478       160\n",
      "           1     0.9553    0.7961    0.8685       618\n",
      "\n",
      "    accuracy                         0.8085       778\n",
      "   macro avg     0.7381    0.8262    0.7581       778\n",
      "weighted avg     0.8660    0.8085    0.8231       778\n",
      "\n"
     ]
    }
   ],
   "source": [
    "import time\n",
    "import tensorflow as tf\n",
    "from tensorflow.keras.models import Sequential\n",
    "from sklearn.metrics import classification_report\n",
    "\n",
    "\n",
    "start_time = time.time()\n",
    "\n",
    "# Make predictions on the evaluation set\n",
    "result = model.predict(X_eval)\n",
    "\n",
    "y_pred_binary = [1 if p > 0.5 else 0 for p in result]\n",
    "\n",
    "end_time = time.time()\n",
    "classification_time = end_time - start_time\n",
    "\n",
    "print(\"Classification Time for 1000 records:\", classification_time, \"seconds\")\n",
    "\n",
    "print(classification_report(y_eval, y_pred_binary, digits=4))"
   ]
  },
  {
   "cell_type": "code",
   "execution_count": 34,
   "id": "2700669b-ba99-40b0-94be-b77ef2cfe690",
   "metadata": {},
   "outputs": [
    {
     "name": "stdout",
     "output_type": "stream",
     "text": [
      "F1 score: 0.868\n",
      "Precision score: 0.955\n",
      "Recall score: 0.796\n",
      "Average precision-recall score: 0.923\n",
      "Accuracy score: 0.808\n"
     ]
    }
   ],
   "source": [
    "from sklearn import metrics\n",
    "\n",
    "F1_score = metrics.f1_score(y_eval, y_pred_binary)\n",
    "average_precision = metrics.average_precision_score(y_eval, y_pred_binary)\n",
    "precision_score= metrics.precision_score(y_eval, y_pred_binary)\n",
    "recall_score = metrics.recall_score(y_eval, y_pred_binary)\n",
    "accuracy = metrics.accuracy_score(y_eval, y_pred_binary)\n",
    "\n",
    "print('F1 score: {0:0.3f}'.format(F1_score))\n",
    "print('Precision score: {0:0.3f}'.format(precision_score))\n",
    "print('Recall score: {0:0.3f}'.format(recall_score))\n",
    "print('Average precision-recall score: {0:0.3f}'.format(average_precision))\n",
    "print('Accuracy score: {0:0.3f}'.format(accuracy))"
   ]
  },
  {
   "cell_type": "code",
   "execution_count": null,
   "id": "4c6f769e-ecb0-4106-b231-832a507ed49f",
   "metadata": {
    "id": "4c6f769e-ecb0-4106-b231-832a507ed49f"
   },
   "outputs": [],
   "source": []
  }
 ],
 "metadata": {
  "colab": {
   "provenance": []
  },
  "kernelspec": {
   "display_name": "Python 3 (ipykernel)",
   "language": "python",
   "name": "python3"
  },
  "language_info": {
   "codemirror_mode": {
    "name": "ipython",
    "version": 3
   },
   "file_extension": ".py",
   "mimetype": "text/x-python",
   "name": "python",
   "nbconvert_exporter": "python",
   "pygments_lexer": "ipython3",
   "version": "3.11.7"
  }
 },
 "nbformat": 4,
 "nbformat_minor": 5
}
