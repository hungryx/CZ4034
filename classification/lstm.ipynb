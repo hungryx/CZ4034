{
  "cells": [
    {
      "cell_type": "code",
      "execution_count": null,
      "id": "5728283b-57d5-4fb5-8bcd-2bd28434b00d",
      "metadata": {
        "id": "5728283b-57d5-4fb5-8bcd-2bd28434b00d"
      },
      "outputs": [],
      "source": [
        "import os\n",
        "import re\n",
        "import string\n",
        "\n",
        "import numpy as np\n",
        "import pandas as pd\n",
        "import seaborn as sns\n",
        "import matplotlib.pyplot as plt\n",
        "\n",
        "from collections import Counter\n",
        "\n",
        "import tensorflow as tf\n",
        "from sklearn.model_selection import train_test_split\n",
        "from sklearn.feature_extraction.text import CountVectorizer, TfidfTransformer, TfidfVectorizer\n",
        "from sklearn.metrics import classification_report, confusion_matrix\n",
        "from sklearn.naive_bayes import BernoulliNB\n",
        "\n",
        "from tensorflow.keras.preprocessing.text import Tokenizer\n",
        "from keras.preprocessing.sequence import pad_sequences\n",
        "from keras.models import Sequential\n",
        "from keras.layers import Dense, Activation, Dropout, Embedding, LSTM, SpatialDropout1D\n",
        "\n",
        "tf.config.run_functions_eagerly(True)\n",
        "\n",
        "from tensorflow.keras.callbacks import EarlyStopping\n",
        "from tensorflow.keras.layers import Embedding\n",
        "from tensorflow.keras.models import Sequential\n",
        "import keras"
      ]
    },
    {
      "cell_type": "code",
      "execution_count": null,
      "id": "73e5b96f-01f3-4d39-a657-3006b0e6ec5c",
      "metadata": {
        "id": "73e5b96f-01f3-4d39-a657-3006b0e6ec5c",
        "outputId": "f33b590e-4831-4342-a31c-8539b574c534"
      },
      "outputs": [
        {
          "data": {
            "text/html": [
              "<div>\n",
              "<style scoped>\n",
              "    .dataframe tbody tr th:only-of-type {\n",
              "        vertical-align: middle;\n",
              "    }\n",
              "\n",
              "    .dataframe tbody tr th {\n",
              "        vertical-align: top;\n",
              "    }\n",
              "\n",
              "    .dataframe thead th {\n",
              "        text-align: right;\n",
              "    }\n",
              "</style>\n",
              "<table border=\"1\" class=\"dataframe\">\n",
              "  <thead>\n",
              "    <tr style=\"text-align: right;\">\n",
              "      <th></th>\n",
              "      <th>comment_text</th>\n",
              "      <th>sentiment</th>\n",
              "    </tr>\n",
              "  </thead>\n",
              "  <tbody>\n",
              "    <tr>\n",
              "      <th>0</th>\n",
              "      <td>commenttext</td>\n",
              "      <td>2</td>\n",
              "    </tr>\n",
              "    <tr>\n",
              "      <th>1</th>\n",
              "      <td>ded get call cthulhu weird tale vintage classi...</td>\n",
              "      <td>3</td>\n",
              "    </tr>\n",
              "    <tr>\n",
              "      <th>2</th>\n",
              "      <td>love lovecraft agree call cthulhu not best wor...</td>\n",
              "      <td>3</td>\n",
              "    </tr>\n",
              "    <tr>\n",
              "      <th>3</th>\n",
              "      <td>call cthulhu never best work simply popular we...</td>\n",
              "      <td>2</td>\n",
              "    </tr>\n",
              "    <tr>\n",
              "      <th>4</th>\n",
              "      <td>shadow over innsmouth second popular work righ...</td>\n",
              "      <td>2</td>\n",
              "    </tr>\n",
              "  </tbody>\n",
              "</table>\n",
              "</div>"
            ],
            "text/plain": [
              "                                        comment_text  sentiment\n",
              "0                                        commenttext          2\n",
              "1  ded get call cthulhu weird tale vintage classi...          3\n",
              "2  love lovecraft agree call cthulhu not best wor...          3\n",
              "3  call cthulhu never best work simply popular we...          2\n",
              "4  shadow over innsmouth second popular work righ...          2"
            ]
          },
          "execution_count": 2,
          "metadata": {},
          "output_type": "execute_result"
        }
      ],
      "source": [
        "# Load data\n",
        "books_data = pd.read_csv(r\"C:\\Users\\wu02x\\Downloads\\SC4021\\new_pre_processed_data.csv\")\n",
        "books_data.head()"
      ]
    },
    {
      "cell_type": "code",
      "execution_count": null,
      "id": "29101fcf-5e86-4361-ad05-6cc71003f0e9",
      "metadata": {
        "id": "29101fcf-5e86-4361-ad05-6cc71003f0e9",
        "outputId": "f8fe606a-8393-4481-f04e-bea77ddde932"
      },
      "outputs": [
        {
          "data": {
            "text/plain": [
              "sentiment\n",
              "1    13906\n",
              "2     9258\n",
              "3     6448\n",
              "0     4354\n",
              "Name: count, dtype: int64"
            ]
          },
          "execution_count": 3,
          "metadata": {},
          "output_type": "execute_result"
        }
      ],
      "source": [
        "books_data.sentiment.value_counts()"
      ]
    },
    {
      "cell_type": "code",
      "execution_count": null,
      "id": "bf9d78f0-cdf8-4961-ad07-20eefd91fa71",
      "metadata": {
        "id": "bf9d78f0-cdf8-4961-ad07-20eefd91fa71"
      },
      "outputs": [],
      "source": [
        "books_data = books_data[(books_data['sentiment'] == 0) | (books_data['sentiment'] == 1)]"
      ]
    },
    {
      "cell_type": "code",
      "execution_count": null,
      "id": "d9d59f66-f8de-4310-9b54-885eabef22d3",
      "metadata": {
        "id": "d9d59f66-f8de-4310-9b54-885eabef22d3",
        "outputId": "04f477a1-1f84-43bf-f3a3-7477ceb5f83e"
      },
      "outputs": [
        {
          "data": {
            "text/plain": [
              "sentiment\n",
              "1    4354\n",
              "0    4354\n",
              "Name: count, dtype: int64"
            ]
          },
          "execution_count": 5,
          "metadata": {},
          "output_type": "execute_result"
        }
      ],
      "source": [
        "# downsample the data due to impbalance in positive and negative data\n",
        "positive_class_samples = books_data[books_data['sentiment'] == 1].sample(n=len(books_data[books_data['sentiment'] == 0]), random_state=42)\n",
        "negative_class_samples = books_data[books_data['sentiment'] == 0]\n",
        "# Concatenate minority and majority class samples\n",
        "books_data = pd.concat([positive_class_samples, negative_class_samples])\n",
        "\n",
        "# Shuffle the dataset\n",
        "books_data = books_data.sample(frac=1, random_state=42)\n",
        "books_data.sentiment.value_counts()"
      ]
    },
    {
      "cell_type": "code",
      "execution_count": null,
      "id": "aa6f50e5-2bd0-47b2-beee-d5ec8ce792a8",
      "metadata": {
        "id": "aa6f50e5-2bd0-47b2-beee-d5ec8ce792a8"
      },
      "outputs": [],
      "source": [
        "# Separating the 80% data for training data and 20% for testing data and maintain equal ratio of classes in the train and test sample\n",
        "X_train, X_test, y_train, y_test = train_test_split(books_data['comment_text'], books_data['sentiment'], test_size=0.2, stratify=books_data['sentiment'], random_state=42)"
      ]
    },
    {
      "cell_type": "code",
      "execution_count": null,
      "id": "33c06c2f-9677-45b7-b305-49192c6a2785",
      "metadata": {
        "id": "33c06c2f-9677-45b7-b305-49192c6a2785",
        "outputId": "af65b5d1-ac96-4974-cbbf-ee5ddccfa6a4"
      },
      "outputs": [
        {
          "name": "stdout",
          "output_type": "stream",
          "text": [
            "Average length of each review :  42.25861276986679\n"
          ]
        }
      ],
      "source": [
        "s = 0.0\n",
        "for i in books_data ['comment_text']:\n",
        "    word_list = i.split()\n",
        "    s = s + len(word_list)\n",
        "print(\"Average length of each review : \",s/books_data .shape[0])"
      ]
    },
    {
      "cell_type": "code",
      "execution_count": null,
      "id": "6dede3d9-845b-42d8-a486-5fcbef830357",
      "metadata": {
        "id": "6dede3d9-845b-42d8-a486-5fcbef830357",
        "outputId": "ce5a62d7-a7bb-4ffd-bdcc-a26b691dd9ef"
      },
      "outputs": [
        {
          "name": "stdout",
          "output_type": "stream",
          "text": [
            "Vocabulary size: 26685\n"
          ]
        }
      ],
      "source": [
        "# Find vocab size\n",
        "# Concatenate all the text in the 'comment_text' column into a single string\n",
        "all_text = ' '.join(books_data ['comment_text'])\n",
        "\n",
        "# Tokenize the string into individual words\n",
        "words = all_text.split()\n",
        "\n",
        "# Create a set from the tokenized words to remove duplicates\n",
        "vocab = set(words)\n",
        "\n",
        "# Find the length of the set, which will give you the vocabulary size\n",
        "vocab_size = len(vocab)\n",
        "#\n",
        "print(\"Vocabulary size:\", vocab_size)"
      ]
    },
    {
      "cell_type": "code",
      "execution_count": null,
      "id": "b3d978ba-088e-4ada-947a-89c77fa27d75",
      "metadata": {
        "id": "b3d978ba-088e-4ada-947a-89c77fa27d75"
      },
      "outputs": [],
      "source": [
        "# # Hyperparameters of the model\n",
        "vocab_size = 28000\n",
        "oov_tok = ''\n",
        "embedding_dim = 50\n",
        "max_length = 80\n",
        "# tokenize sentences\n",
        "tokenizer = Tokenizer(num_words = vocab_size, oov_token=oov_tok)\n",
        "tokenizer.fit_on_texts(X_train)\n",
        "word_index = tokenizer.word_index\n",
        "# convert train dataset to sequence and pad sequences\n",
        "train_sequences = tokenizer.texts_to_sequences(X_train)\n",
        "train_padded = pad_sequences(train_sequences, maxlen=max_length)\n",
        "# convert Test dataset to sequence and pad sequences\n",
        "test_sequences = tokenizer.texts_to_sequences(X_test)\n",
        "test_padded = pad_sequences(test_sequences, maxlen=max_length)"
      ]
    },
    {
      "cell_type": "code",
      "execution_count": null,
      "id": "33fcbc73-8cc9-4be8-b583-7e06e69ee10b",
      "metadata": {
        "id": "33fcbc73-8cc9-4be8-b583-7e06e69ee10b",
        "outputId": "9e6b4e41-5c93-4e02-f07c-933e81899260"
      },
      "outputs": [
        {
          "name": "stdout",
          "output_type": "stream",
          "text": [
            "Epoch 1/100\n"
          ]
        },
        {
          "name": "stderr",
          "output_type": "stream",
          "text": [
            "C:\\Users\\wu02x\\anaconda3\\Lib\\site-packages\\tensorflow\\python\\data\\ops\\structured_function.py:258: UserWarning: Even though the `tf.config.experimental_run_functions_eagerly` option is set, this option does not apply to tf.data functions. To force eager execution of tf.data functions, please use `tf.data.experimental.enable_debug_mode()`.\n",
            "  warnings.warn(\n"
          ]
        },
        {
          "name": "stdout",
          "output_type": "stream",
          "text": [
            "\u001b[1m218/218\u001b[0m \u001b[32m━━━━━━━━━━━━━━━━━━━━\u001b[0m\u001b[37m\u001b[0m \u001b[1m173s\u001b[0m 793ms/step - accuracy: 0.5727 - loss: 0.6738 - val_accuracy: 0.7107 - val_loss: 0.5667\n",
            "Epoch 2/100\n",
            "\u001b[1m218/218\u001b[0m \u001b[32m━━━━━━━━━━━━━━━━━━━━\u001b[0m\u001b[37m\u001b[0m \u001b[1m173s\u001b[0m 798ms/step - accuracy: 0.8112 - loss: 0.4415 - val_accuracy: 0.7532 - val_loss: 0.5117\n",
            "Epoch 3/100\n",
            "\u001b[1m218/218\u001b[0m \u001b[32m━━━━━━━━━━━━━━━━━━━━\u001b[0m\u001b[37m\u001b[0m \u001b[1m170s\u001b[0m 782ms/step - accuracy: 0.9021 - loss: 0.2506 - val_accuracy: 0.7480 - val_loss: 0.6141\n",
            "Epoch 4/100\n",
            "\u001b[1m218/218\u001b[0m \u001b[32m━━━━━━━━━━━━━━━━━━━━\u001b[0m\u001b[37m\u001b[0m \u001b[1m171s\u001b[0m 786ms/step - accuracy: 0.9418 - loss: 0.1644 - val_accuracy: 0.7440 - val_loss: 0.7056\n",
            "Epoch 5/100\n",
            "\u001b[1m218/218\u001b[0m \u001b[32m━━━━━━━━━━━━━━━━━━━━\u001b[0m\u001b[37m\u001b[0m \u001b[1m183s\u001b[0m 839ms/step - accuracy: 0.9644 - loss: 0.1044 - val_accuracy: 0.7480 - val_loss: 0.8838\n"
          ]
        }
      ],
      "source": [
        "# Define the number of epochs\n",
        "num_epochs = 100\n",
        "\n",
        "# Define early stopping callback\n",
        "early_stopping = EarlyStopping(monitor='val_loss', patience=3)\n",
        "\n",
        "# Define parameter\n",
        "n_lstm = 128\n",
        "drop_lstm = 0.2\n",
        "# Define LSTM Model\n",
        "model = Sequential()\n",
        "model.add(Embedding(vocab_size, embedding_dim, input_shape=(max_length,)))\n",
        "model.add(SpatialDropout1D(drop_lstm))\n",
        "model.add(LSTM(n_lstm, return_sequences=False))\n",
        "model.add(Dropout(drop_lstm))\n",
        "model.add(Dense(1, activation='sigmoid'))\n",
        "\n",
        "model.compile(loss='binary_crossentropy',optimizer='adam',metrics=['accuracy'])\n",
        "\n",
        "# Fit model with early stopping\n",
        "history = model.fit(train_padded, y_train,\n",
        "                    epochs=num_epochs, verbose=1,\n",
        "                    validation_data=(test_padded, y_test),\n",
        "                    callbacks=[early_stopping]\n",
        "                    )\n"
      ]
    },
    {
      "cell_type": "code",
      "execution_count": null,
      "id": "98815e1e-165a-4205-8a1d-a18a94ffcbfc",
      "metadata": {
        "scrolled": true,
        "id": "98815e1e-165a-4205-8a1d-a18a94ffcbfc",
        "outputId": "f873af44-dfe9-4677-bef2-e6665be41560"
      },
      "outputs": [
        {
          "name": "stdout",
          "output_type": "stream",
          "text": [
            "\u001b[1m55/55\u001b[0m \u001b[32m━━━━━━━━━━━━━━━━━━━━\u001b[0m\u001b[37m\u001b[0m \u001b[1m14s\u001b[0m 260ms/step\n",
            "F1 score: 0.748\n",
            "Precision score: 0.747\n",
            "Recall score: 0.750\n",
            "Accuracy score: 0.748\n"
          ]
        }
      ],
      "source": [
        "from sklearn.metrics import f1_score, average_precision_score, precision_score, recall_score, accuracy_score\n",
        "\n",
        "# Make predictions on the test set\n",
        "result = model.predict(test_padded)\n",
        "\n",
        "# For example, you might round probabilities to the nearest integer\n",
        "y_pred_binary = [1 if p > 0.5 else 0 for p in result]\n",
        "\n",
        "# Compute F1 score\n",
        "F1_score = f1_score(y_test, y_pred_binary)\n",
        "\n",
        "# Calculate average precision\n",
        "average_precision = average_precision_score(y_test, y_pred_binary)\n",
        "\n",
        "# Calculate precision\n",
        "precision = precision_score(y_test, y_pred_binary)\n",
        "\n",
        "# Calculate recall\n",
        "recall_score = recall_score(y_test, y_pred_binary)\n",
        "\n",
        "# Calculate accuracy\n",
        "accuracy = accuracy_score(y_test, y_pred_binary)\n",
        "\n",
        "print('F1 score: {0:0.3f}'.format(F1_score))\n",
        "print('Precision score: {0:0.3f}'.format(precision))\n",
        "print('Recall score: {0:0.3f}'.format(recall_score))\n",
        "# print('Average precision-recall score: {0:0.3f}'.format(average_precision))\n",
        "print('Accuracy score: {0:0.3f}'.format(accuracy))"
      ]
    },
    {
      "cell_type": "code",
      "execution_count": null,
      "id": "7e43daeb-1611-4eff-969b-2b917c00dea2",
      "metadata": {
        "id": "7e43daeb-1611-4eff-969b-2b917c00dea2"
      },
      "outputs": [],
      "source": []
    }
  ],
  "metadata": {
    "kernelspec": {
      "display_name": "Python 3 (ipykernel)",
      "language": "python",
      "name": "python3"
    },
    "language_info": {
      "codemirror_mode": {
        "name": "ipython",
        "version": 3
      },
      "file_extension": ".py",
      "mimetype": "text/x-python",
      "name": "python",
      "nbconvert_exporter": "python",
      "pygments_lexer": "ipython3",
      "version": "3.11.7"
    },
    "colab": {
      "provenance": []
    }
  },
  "nbformat": 4,
  "nbformat_minor": 5
}