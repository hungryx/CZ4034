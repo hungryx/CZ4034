{
 "cells": [
  {
   "cell_type": "code",
   "execution_count": 15,
   "id": "ec6596ee",
   "metadata": {},
   "outputs": [
    {
     "name": "stdout",
     "output_type": "stream",
     "text": [
      "Requirement already satisfied: openai in c:\\users\\aarushi\\anaconda3\\lib\\site-packages (1.12.0)\n",
      "Requirement already satisfied: distro<2,>=1.7.0 in c:\\users\\aarushi\\anaconda3\\lib\\site-packages (from openai) (1.9.0)\n",
      "Requirement already satisfied: typing-extensions<5,>=4.7 in c:\\users\\aarushi\\anaconda3\\lib\\site-packages (from openai) (4.9.0)\n",
      "Requirement already satisfied: pydantic<3,>=1.9.0 in c:\\users\\aarushi\\anaconda3\\lib\\site-packages (from openai) (2.6.1)\n",
      "Requirement already satisfied: httpx<1,>=0.23.0 in c:\\users\\aarushi\\anaconda3\\lib\\site-packages (from openai) (0.26.0)\n",
      "Requirement already satisfied: tqdm>4 in c:\\users\\aarushi\\anaconda3\\lib\\site-packages (from openai) (4.64.0)\n",
      "Requirement already satisfied: sniffio in c:\\users\\aarushi\\anaconda3\\lib\\site-packages (from openai) (1.2.0)\n",
      "Requirement already satisfied: anyio<5,>=3.5.0 in c:\\users\\aarushi\\anaconda3\\lib\\site-packages (from openai) (3.5.0)\n",
      "Requirement already satisfied: idna>=2.8 in c:\\users\\aarushi\\anaconda3\\lib\\site-packages (from anyio<5,>=3.5.0->openai) (3.3)\n",
      "Requirement already satisfied: httpcore==1.* in c:\\users\\aarushi\\anaconda3\\lib\\site-packages (from httpx<1,>=0.23.0->openai) (1.0.2)\n",
      "Requirement already satisfied: certifi in c:\\users\\aarushi\\anaconda3\\lib\\site-packages (from httpx<1,>=0.23.0->openai) (2022.12.7)\n",
      "Requirement already satisfied: h11<0.15,>=0.13 in c:\\users\\aarushi\\anaconda3\\lib\\site-packages (from httpcore==1.*->httpx<1,>=0.23.0->openai) (0.14.0)\n",
      "Requirement already satisfied: annotated-types>=0.4.0 in c:\\users\\aarushi\\anaconda3\\lib\\site-packages (from pydantic<3,>=1.9.0->openai) (0.6.0)\n",
      "Requirement already satisfied: pydantic-core==2.16.2 in c:\\users\\aarushi\\anaconda3\\lib\\site-packages (from pydantic<3,>=1.9.0->openai) (2.16.2)\n",
      "Requirement already satisfied: colorama in c:\\users\\aarushi\\anaconda3\\lib\\site-packages (from tqdm>4->openai) (0.4.4)\n"
     ]
    }
   ],
   "source": [
    "!pip install openai"
   ]
  },
  {
   "cell_type": "code",
   "execution_count": 1,
   "id": "eb1d82b1",
   "metadata": {},
   "outputs": [],
   "source": [
    "from openai import OpenAI\n",
    "import pandas as pd\n",
    "import os\n",
    "\n",
    "# Set up your OpenAI API key\n",
    "client = OpenAI(api_key=\"****\")"
   ]
  },
  {
   "cell_type": "code",
   "execution_count": 2,
   "id": "e3b351ab",
   "metadata": {},
   "outputs": [],
   "source": [
    "def analyze_review(review_text, book_name):\n",
    "    prompt = \"Classify this book review as Positive, Negative, Neutral, Not relevant for the book\" + book_name + \": \" + review_text\n",
    "    response = client.completions.create(\n",
    "        model=\"gpt-3.5-turbo-instruct\",\n",
    "        prompt=prompt,\n",
    "        max_tokens=100\n",
    "    )\n",
    "    sentiment = response.choices[0].text.strip()\n",
    "    if sentiment == \"Negative\":\n",
    "        return 0\n",
    "    elif sentiment == \"Positive\":\n",
    "        return 1\n",
    "    elif sentiment == \"Neutral\":\n",
    "        return 2\n",
    "    else:\n",
    "        return 3"
   ]
  },
  {
   "cell_type": "code",
   "execution_count": 3,
   "id": "c6267d6c",
   "metadata": {},
   "outputs": [],
   "source": [
    "def import_and_analyze_reviews(excel_file_path, sheet_name, book_name, output_path):\n",
    "    # Import data from Excel\n",
    "    df = pd.read_excel(excel_file_path, sheet_name=sheet_name)\n",
    "\n",
    "    # Create a column for sentiment analysis\n",
    "#     df['sentiment'] = df['comment_text'].apply(analyze_review)\n",
    "    df['sentiment'] = df['comment_text'].apply(lambda x: analyze_review(x, book_name=book_name))\n",
    "\n",
    "    # Save the results to a new Excel file\n",
    "    df.to_excel(output_path, index=False)\n",
    "    print(f\"Analysis completed. Results saved to {output_path}\")"
   ]
  },
  {
   "cell_type": "code",
   "execution_count": 6,
   "id": "a96d46b5",
   "metadata": {},
   "outputs": [
    {
     "name": "stdout",
     "output_type": "stream",
     "text": [
      "{'Action': ['Divergent', 'Da Vinci Conde', 'The Bourne Identity', 'City of Bones', 'The Martian', 'The Three Musketeers', 'Jaws', 'Last of the Mohicans', 'Fight Club', 'Starship Troopers'], 'Comedy': ['Bossypants', 'The Princess Bride', \"Hitchhiker's Guide\", 'Three Men in a Boat', 'Mort', 'The Eyre Affair', 'Don Quixote', 'Wee Free Men', 'Going Postal', 'Candide', 'Phantom Tollbooth'], 'Fantasy': ['The Final Empire', 'The Way of Kings', 'Neverwhere', 'Stardust', 'Shadow and Bone', 'The Cruel Prince', 'American Gods', 'The Silmarillion', 'Matilda', 'The Gunslinger', 'Artemis Fowl'], 'Horror': ['The Anubis Gates', 'Heart of Darkness', 'Apocalypse Now', 'Swan Song', 'Macbeth', \"Salem's Lot\", 'Misery', 'Carrie', 'World War Z', 'Cujo'], 'Mystery': ['The Godfather', 'Shutter Island', 'The Firm', 'The Thirteenth Tale', 'The Alienist', 'Red Dragon', 'Count of Monte Cristo', 'The Bone Collector', 'The Moonstone', 'Mystic River']}\n"
     ]
    }
   ],
   "source": [
    "import os\n",
    "import pandas as pd\n",
    "\n",
    "# Define the directory path\n",
    "directory_path = r\"C:\\Users\\Aarushi\\Desktop\\SC4021\\Book Data 2\"\n",
    "\n",
    "# Initialize an empty dictionary to store genre-book list\n",
    "books = {}\n",
    "\n",
    "# Loop through each folder in the directory\n",
    "for folder_name in os.listdir(directory_path):\n",
    "    folder_path = os.path.join(directory_path, folder_name)\n",
    "    if os.path.isdir(folder_path):\n",
    "        # Initialize an empty list to store sheet names\n",
    "        sheet_names = []\n",
    "        \n",
    "        # Loop through each file in the folder\n",
    "        for file_name in os.listdir(folder_path):\n",
    "            file_path = os.path.join(folder_path, file_name)\n",
    "            if file_name.endswith('.xlsx'):\n",
    "                # Read the excel file and extract sheet names ending with '(C)'\n",
    "                excel_data = pd.ExcelFile(file_path)\n",
    "                for sheet_name in excel_data.sheet_names:\n",
    "                    if sheet_name.endswith('(C)'):\n",
    "                        sheet_names.append(sheet_name[:-3])  # Remove the '(C)' from the name\n",
    "        \n",
    "        # If there are sheet names, add them to the genre in the dictionary\n",
    "        if sheet_names:\n",
    "            genre = folder_name.split('-')[0].strip()\n",
    "            books.setdefault(genre, []).extend(sheet_names)\n",
    "\n",
    "# Print the dictionary\n",
    "print(books)"
   ]
  },
  {
   "cell_type": "code",
   "execution_count": 11,
   "id": "e1a3fa60",
   "metadata": {},
   "outputs": [
    {
     "name": "stdout",
     "output_type": "stream",
     "text": [
      "Analysis completed. Results saved to C:/Users/Aarushi/Desktop/SC4021/labelled_book_data_2/Action/Action_Divergent_analyzed_reviews.xlsx\n",
      "Analysis completed. Results saved to C:/Users/Aarushi/Desktop/SC4021/labelled_book_data_2/Action/Action_Da Vinci Conde_analyzed_reviews.xlsx\n",
      "Analysis completed. Results saved to C:/Users/Aarushi/Desktop/SC4021/labelled_book_data_2/Action/Action_The Bourne Identity_analyzed_reviews.xlsx\n",
      "Analysis completed. Results saved to C:/Users/Aarushi/Desktop/SC4021/labelled_book_data_2/Action/Action_City of Bones_analyzed_reviews.xlsx\n",
      "Analysis completed. Results saved to C:/Users/Aarushi/Desktop/SC4021/labelled_book_data_2/Action/Action_The Martian_analyzed_reviews.xlsx\n",
      "Analysis completed. Results saved to C:/Users/Aarushi/Desktop/SC4021/labelled_book_data_2/Action/Action_The Three Musketeers_analyzed_reviews.xlsx\n",
      "Analysis completed. Results saved to C:/Users/Aarushi/Desktop/SC4021/labelled_book_data_2/Action/Action_Jaws_analyzed_reviews.xlsx\n",
      "Analysis completed. Results saved to C:/Users/Aarushi/Desktop/SC4021/labelled_book_data_2/Action/Action_Last of the Mohicans_analyzed_reviews.xlsx\n",
      "Analysis completed. Results saved to C:/Users/Aarushi/Desktop/SC4021/labelled_book_data_2/Action/Action_Fight Club_analyzed_reviews.xlsx\n",
      "Analysis completed. Results saved to C:/Users/Aarushi/Desktop/SC4021/labelled_book_data_2/Action/Action_Starship Troopers_analyzed_reviews.xlsx\n",
      "Analysis completed. Results saved to C:/Users/Aarushi/Desktop/SC4021/labelled_book_data_2/Comedy/Comedy_Bossypants_analyzed_reviews.xlsx\n",
      "Analysis completed. Results saved to C:/Users/Aarushi/Desktop/SC4021/labelled_book_data_2/Comedy/Comedy_The Princess Bride_analyzed_reviews.xlsx\n",
      "Analysis completed. Results saved to C:/Users/Aarushi/Desktop/SC4021/labelled_book_data_2/Comedy/Comedy_Hitchhiker's Guide_analyzed_reviews.xlsx\n",
      "Analysis completed. Results saved to C:/Users/Aarushi/Desktop/SC4021/labelled_book_data_2/Comedy/Comedy_Three Men in a Boat_analyzed_reviews.xlsx\n",
      "Analysis completed. Results saved to C:/Users/Aarushi/Desktop/SC4021/labelled_book_data_2/Comedy/Comedy_Mort_analyzed_reviews.xlsx\n",
      "Analysis completed. Results saved to C:/Users/Aarushi/Desktop/SC4021/labelled_book_data_2/Comedy/Comedy_The Eyre Affair_analyzed_reviews.xlsx\n",
      "Analysis completed. Results saved to C:/Users/Aarushi/Desktop/SC4021/labelled_book_data_2/Comedy/Comedy_Don Quixote_analyzed_reviews.xlsx\n",
      "Analysis completed. Results saved to C:/Users/Aarushi/Desktop/SC4021/labelled_book_data_2/Comedy/Comedy_Wee Free Men_analyzed_reviews.xlsx\n",
      "Analysis completed. Results saved to C:/Users/Aarushi/Desktop/SC4021/labelled_book_data_2/Comedy/Comedy_Going Postal_analyzed_reviews.xlsx\n",
      "Analysis completed. Results saved to C:/Users/Aarushi/Desktop/SC4021/labelled_book_data_2/Comedy/Comedy_Candide_analyzed_reviews.xlsx\n",
      "Analysis completed. Results saved to C:/Users/Aarushi/Desktop/SC4021/labelled_book_data_2/Comedy/Comedy_Phantom Tollbooth_analyzed_reviews.xlsx\n",
      "Analysis completed. Results saved to C:/Users/Aarushi/Desktop/SC4021/labelled_book_data_2/Fantasy/Fantasy_The Final Empire_analyzed_reviews.xlsx\n",
      "Analysis completed. Results saved to C:/Users/Aarushi/Desktop/SC4021/labelled_book_data_2/Fantasy/Fantasy_The Way of Kings_analyzed_reviews.xlsx\n",
      "Analysis completed. Results saved to C:/Users/Aarushi/Desktop/SC4021/labelled_book_data_2/Fantasy/Fantasy_Neverwhere_analyzed_reviews.xlsx\n",
      "Analysis completed. Results saved to C:/Users/Aarushi/Desktop/SC4021/labelled_book_data_2/Fantasy/Fantasy_Stardust_analyzed_reviews.xlsx\n",
      "Analysis completed. Results saved to C:/Users/Aarushi/Desktop/SC4021/labelled_book_data_2/Fantasy/Fantasy_Shadow and Bone_analyzed_reviews.xlsx\n",
      "Analysis completed. Results saved to C:/Users/Aarushi/Desktop/SC4021/labelled_book_data_2/Fantasy/Fantasy_The Cruel Prince_analyzed_reviews.xlsx\n",
      "Analysis completed. Results saved to C:/Users/Aarushi/Desktop/SC4021/labelled_book_data_2/Fantasy/Fantasy_American Gods_analyzed_reviews.xlsx\n",
      "Analysis completed. Results saved to C:/Users/Aarushi/Desktop/SC4021/labelled_book_data_2/Fantasy/Fantasy_The Silmarillion_analyzed_reviews.xlsx\n",
      "Analysis completed. Results saved to C:/Users/Aarushi/Desktop/SC4021/labelled_book_data_2/Fantasy/Fantasy_Matilda_analyzed_reviews.xlsx\n",
      "Analysis completed. Results saved to C:/Users/Aarushi/Desktop/SC4021/labelled_book_data_2/Fantasy/Fantasy_The Gunslinger_analyzed_reviews.xlsx\n",
      "Analysis completed. Results saved to C:/Users/Aarushi/Desktop/SC4021/labelled_book_data_2/Fantasy/Fantasy_Artemis Fowl_analyzed_reviews.xlsx\n",
      "Analysis completed. Results saved to C:/Users/Aarushi/Desktop/SC4021/labelled_book_data_2/Horror/Horror_The Anubis Gates_analyzed_reviews.xlsx\n",
      "Analysis completed. Results saved to C:/Users/Aarushi/Desktop/SC4021/labelled_book_data_2/Horror/Horror_Heart of Darkness_analyzed_reviews.xlsx\n",
      "Analysis completed. Results saved to C:/Users/Aarushi/Desktop/SC4021/labelled_book_data_2/Horror/Horror_Apocalypse Now_analyzed_reviews.xlsx\n",
      "Analysis completed. Results saved to C:/Users/Aarushi/Desktop/SC4021/labelled_book_data_2/Horror/Horror_Swan Song_analyzed_reviews.xlsx\n",
      "Analysis completed. Results saved to C:/Users/Aarushi/Desktop/SC4021/labelled_book_data_2/Horror/Horror_Macbeth_analyzed_reviews.xlsx\n",
      "Analysis completed. Results saved to C:/Users/Aarushi/Desktop/SC4021/labelled_book_data_2/Horror/Horror_Salem's Lot_analyzed_reviews.xlsx\n",
      "Analysis completed. Results saved to C:/Users/Aarushi/Desktop/SC4021/labelled_book_data_2/Horror/Horror_Misery_analyzed_reviews.xlsx\n",
      "Analysis completed. Results saved to C:/Users/Aarushi/Desktop/SC4021/labelled_book_data_2/Horror/Horror_Carrie_analyzed_reviews.xlsx\n",
      "Analysis completed. Results saved to C:/Users/Aarushi/Desktop/SC4021/labelled_book_data_2/Horror/Horror_World War Z_analyzed_reviews.xlsx\n",
      "Analysis completed. Results saved to C:/Users/Aarushi/Desktop/SC4021/labelled_book_data_2/Horror/Horror_Cujo_analyzed_reviews.xlsx\n",
      "Analysis completed. Results saved to C:/Users/Aarushi/Desktop/SC4021/labelled_book_data_2/Mystery/Mystery_The Godfather_analyzed_reviews.xlsx\n",
      "Analysis completed. Results saved to C:/Users/Aarushi/Desktop/SC4021/labelled_book_data_2/Mystery/Mystery_Shutter Island_analyzed_reviews.xlsx\n",
      "Analysis completed. Results saved to C:/Users/Aarushi/Desktop/SC4021/labelled_book_data_2/Mystery/Mystery_The Firm_analyzed_reviews.xlsx\n",
      "Analysis completed. Results saved to C:/Users/Aarushi/Desktop/SC4021/labelled_book_data_2/Mystery/Mystery_The Thirteenth Tale_analyzed_reviews.xlsx\n",
      "Analysis completed. Results saved to C:/Users/Aarushi/Desktop/SC4021/labelled_book_data_2/Mystery/Mystery_The Alienist_analyzed_reviews.xlsx\n",
      "Analysis completed. Results saved to C:/Users/Aarushi/Desktop/SC4021/labelled_book_data_2/Mystery/Mystery_Red Dragon_analyzed_reviews.xlsx\n",
      "Analysis completed. Results saved to C:/Users/Aarushi/Desktop/SC4021/labelled_book_data_2/Mystery/Mystery_Count of Monte Cristo_analyzed_reviews.xlsx\n",
      "Analysis completed. Results saved to C:/Users/Aarushi/Desktop/SC4021/labelled_book_data_2/Mystery/Mystery_The Bone Collector_analyzed_reviews.xlsx\n",
      "Analysis completed. Results saved to C:/Users/Aarushi/Desktop/SC4021/labelled_book_data_2/Mystery/Mystery_The Moonstone_analyzed_reviews.xlsx\n",
      "Analysis completed. Results saved to C:/Users/Aarushi/Desktop/SC4021/labelled_book_data_2/Mystery/Mystery_Mystic River_analyzed_reviews.xlsx\n"
     ]
    }
   ],
   "source": [
    "for genre, genre_books in books.items():\n",
    "    for book in genre_books:\n",
    "        excel_file_path = os.path.join(r\"C:\\Users\\Aarushi\\Desktop\\SC4021\\Book Data 2\", genre, f\"{genre} Books 2.xlsx\")\n",
    "        sheet_name = f\"{book}(C)\"\n",
    "        output_path = os.path.join(r\"C:/Users/Aarushi/Desktop/SC4021/labelled_book_data_2/\", f\"{genre}/{genre}_{book}_analyzed_reviews.xlsx\")\n",
    "        import_and_analyze_reviews(excel_file_path, sheet_name, book, output_path)"
   ]
  },
  {
   "cell_type": "code",
   "execution_count": null,
   "id": "7d1cf9d9",
   "metadata": {},
   "outputs": [],
   "source": []
  },
  {
   "cell_type": "code",
   "execution_count": null,
   "id": "13e1ab42",
   "metadata": {},
   "outputs": [],
   "source": []
  },
  {
   "cell_type": "code",
   "execution_count": null,
   "id": "3f2fc9f1",
   "metadata": {},
   "outputs": [],
   "source": []
  },
  {
   "cell_type": "code",
   "execution_count": null,
   "id": "625890af",
   "metadata": {},
   "outputs": [],
   "source": []
  },
  {
   "cell_type": "code",
   "execution_count": null,
   "id": "b1e2d9cb",
   "metadata": {},
   "outputs": [],
   "source": []
  }
 ],
 "metadata": {
  "kernelspec": {
   "display_name": "Python 3 (ipykernel)",
   "language": "python",
   "name": "python3"
  },
  "language_info": {
   "codemirror_mode": {
    "name": "ipython",
    "version": 3
   },
   "file_extension": ".py",
   "mimetype": "text/x-python",
   "name": "python",
   "nbconvert_exporter": "python",
   "pygments_lexer": "ipython3",
   "version": "3.9.7"
  }
 },
 "nbformat": 4,
 "nbformat_minor": 5
}
