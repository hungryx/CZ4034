{
 "cells": [
  {
   "cell_type": "code",
   "execution_count": 3,
   "metadata": {},
   "outputs": [],
   "source": [
    "import requests\n",
    "import pandas as pd\n",
    "import os"
   ]
  },
  {
   "cell_type": "code",
   "execution_count": 4,
   "metadata": {},
   "outputs": [],
   "source": [
    "# change if necessary\n",
    "port = 8983\n",
    "core_name = \"new_core\"\n",
    "main_data_dir = \".\\Data\""
   ]
  },
  {
   "cell_type": "code",
   "execution_count": 59,
   "metadata": {},
   "outputs": [
    {
     "name": "stdout",
     "output_type": "stream",
     "text": [
      "{'responseHeader': {'status': 0, 'QTime': 17}, 'suggest': {'mySuggester': {'Prejudice': {'numFound': 0, 'suggestions': []}}}}\n"
     ]
    }
   ],
   "source": [
    "url = \"http://localhost:8983/solr/new_core/suggest?suggest=true&suggest.dictionary=mySuggester&suggest.q=Prejudice\"\n",
    "response = requests.get(url)\n",
    "print(response.json())"
   ]
  },
  {
   "cell_type": "code",
   "execution_count": 5,
   "metadata": {},
   "outputs": [],
   "source": [
    "def ClearAllDocuments():\n",
    "    url = \"http://localhost:\" + str(port) + \"/solr/\" + core_name + \"/update?stream.body=<delete><query>*:*</query></delete>&commit=true\"\n",
    "    response = requests.get(url)\n",
    "    print(response)\n",
    "\n",
    "# Uploads all files in the directory that you pointed to\n",
    "def UploadDirectory(dir):\n",
    "    os.system(\"java -jar -Dc=new_core -Dauto solr-9.2.1\\example\\exampledocs\\post.jar \" + dir)\n",
    "    return"
   ]
  },
  {
   "cell_type": "code",
   "execution_count": 6,
   "metadata": {},
   "outputs": [
    {
     "name": "stdout",
     "output_type": "stream",
     "text": [
      "<Response [200]>\n"
     ]
    }
   ],
   "source": [
    "ClearAllDocuments()"
   ]
  },
  {
   "cell_type": "code",
   "execution_count": 16,
   "metadata": {},
   "outputs": [],
   "source": [
    "UploadDirectory(main_data_dir+\"\\*\")"
   ]
  },
  {
   "cell_type": "code",
   "execution_count": 11,
   "metadata": {},
   "outputs": [],
   "source": [
    "# experimental function\n",
    "def GetStats():\n",
    "    url = \"http://localhost:8983/solr/new_core/select?fq=TYPE%3APOST&indent=true&q.op=OR&q=category%3ARomance&useParams=&stats=true&stats.field=upvotes\"\n",
    "    response = requests.get(url)\n",
    "    print(response.json())"
   ]
  },
  {
   "cell_type": "code",
   "execution_count": 12,
   "metadata": {},
   "outputs": [
    {
     "name": "stdout",
     "output_type": "stream",
     "text": [
      "{'responseHeader': {'status': 0, 'QTime': 2, 'params': {'q': 'category:Romance', 'indent': 'true', 'stats': 'true', 'q.op': 'OR', 'fq': 'TYPE:POST', 'useParams': '', 'stats.field': 'upvotes'}}, 'response': {'numFound': 1957, 'start': 0, 'numFoundExact': True, 'docs': [{'id': '14vrpiu', 'title': ['Pride and Prejudice by you already know who'], 'selftext': \"SPOILERS!! THIS IS YOUR LAST WARNING!!\\n\\nWhen I tell you I am so glad to be freed from the shackles of this book. I enjoyed it, but it was so long to read I can't help but be glad it's over.\\n\\nI doubt I have much to be said on the book that hadn't already been said, so I think I'll give my opinions on the characters instead:\\n\\n> The Bennets\\n\\nMrs Bennet - Literally unhinged\\n\\nMr Bennet - Unbothered but probably should be\\n\\nJane - The least problematic person in this god forsaken family. Gossips with Lizzie about literally everything. I like how close the two are.\\n\\nLizzie - In her hot girl summer era throughout the entire book. Pulling men left and right. Go off, girlboss 💅\\n\\nMary - I feel bad for her. Literally got called clapped throughout the entire book. \\n\\nKitty - If your role model in life is Lydia, you have huge problems that need to be addressed\\n\\nLydia - Literally an embarrassment\\n\\n> The Bingleys / Hursts\\n\\nMr Bingley - Literally did nothing wrong the entire book. He just wanted to be loved \\U0001f979\\n\\nMiss Bingley - I ain't never seen a more down bad bitch in my life. Literally a pick me but had the audacity to call Lizzie one. Darcy doesn't want you, babe, pack it up!\\n\\nThe Hursts - Irrelivant and low key rude\\n\\n> The Darcy's\\n\\nMr Darcy - Self help king. We love a man who works on himself\\n\\nMiss Darcy - Adorable\\n\\n> Other\\n\\nMr Collins - Literally just die I hate you, you are so annoying\\n\\nMrs Collins - Your marriage was a mistake\\n\\nLady De Bourgh - I will dance on your grave\\n\\nWickham - Literally what is wrong with you. You are the biggest problem in the entire book.\\n\\nThe Gardiners - We love\\n\\nI can't think of anyone else right now...\\n\\nEdit: Not u/SchonFrauen giving me a gold! Thank you so much!😊\\U0001f979\\n\\nAlso thank you the anonymous person who gave me the rocket 💕\", 'url': 'https://www.reddit.com/r/RomanceBooks/comments/14vrpiu/pride_and_prejudice_by_you_already_know_who/', 'created_utc': '2023-07-10T11:44:50Z', 'num_comments': 135, 'upvotes': 265, 'subreddit': 'RomanceBooks', 'category': 'Romance', 'book': 'Pride and Prejudice', 'TYPE': 'POST', '_version_': 1796045871458025473}, {'id': '1bde91c', 'title': ['I was rewatching Pride and Prejudice, I wish there was a story about her.. '], 'url': 'https://i.redd.it/8rm5tdc330oc1.jpeg', 'created_utc': '2024-03-13T01:00:24Z', 'num_comments': 57, 'upvotes': 466, 'subreddit': 'RomanceBooks', 'category': 'Romance', 'book': 'Pride and Prejudice', 'TYPE': 'POST', '_version_': 1796045871459074048}, {'id': '1620j2f', 'title': ['The ultimate showdown - what’s your absolute favorite Pride and Prejudice retelling?'], 'selftext': 'Help, I’ve fallen down a hyperfixation hole and I don’t want to get out. Don’t send help, I just need more shovels, maybe a backhoe (😏). \\n\\nIt all started with the stuff your earbuds day… I took a chance on {Expecting His Propsal by P. O. Dixon}, which is part of a Pride and Prejudice  variations series… it was fun, but didn’t quite scratch the itch when it comes to my love of Pride and Prejudice. I’ve read a few other retellings in my time and have some on my TBR - one being {Pride and Prejudice and Planets by Renata McMann and Summer Hanford}, it looks intriguing but the reviews have me a little hesitant. The last one I read was {Power and Prestige by Sarah McConkie} - this was P&P with magic, which I enjoyed, but wanted more from.\\n\\nSo now I’m on a (side) quest to find the ultimate/best retelling. I’m not looking for a list of retellings, I want to know *your* absolute favorite! \\n\\nAll genres welcome, closed door or explicit, traditional or genderbent, any and all pairings - I just want your favorite and why! \\n\\nRules: I’m talking about books where you know it’s a P&P retelling; the plot points are similar, maybe the character names.', 'url': 'https://www.reddit.com/r/RomanceBooks/comments/1620j2f/the_ultimate_showdown_whats_your_absolute/', 'created_utc': '2023-08-26T17:02:23Z', 'num_comments': 67, 'upvotes': 54, 'subreddit': 'RomanceBooks', 'category': 'Romance', 'book': 'Pride and Prejudice', 'TYPE': 'POST', '_version_': 1796045871459074049}, {'id': 'nhb8ky', 'title': ['I just read Pride and Prejudice for the first time. I need more Mr. Darcy’s 💕💕💕'], 'selftext': \"Edit: Thank you all so so much for the amazing recommendations! I am so excited to try out new books, shows, and fanfictions. I did not expect to receive as much love as I have on this post--in fact, I was nervous making it because I felt bad for not reading this novel sooner. This again just reminds me of why I LOVE THIS SUB so much. Y'all are some of the most open, caring, and supportive people there are. Thanks so much <3 \\n\\nI have never read classic romance because I did not think I could enjoy it. BOY WAS I WRONG. I am in love with Mr. Darcy, most ardently (Yes I also watched the 2005 movie adaptation!! The hand flex. His smile. I’m deceased).\\n\\nI enjoyed the novel so much, and not just for Elizabeth and Darcy. I also loved Jane and her Mr. Bingly. I loved how dramatic Mrs. Bennet is, and how sarcastic Mr. Bennet can be. The drama, the letters, the setting... it was just such a beautiful read. I know I’m so so so late and so many people love and have read this book but hey, what can I say. At least I got to it eventually! \\n\\nWhat novel should I read next? I’d love something similar to this one where there’s a book plus an amazing movie adaptation to accompany it. Are there any modern retellings of Pride and Prejudice besides the zombies one?\", 'url': 'https://www.reddit.com/r/RomanceBooks/comments/nhb8ky/i_just_read_pride_and_prejudice_for_the_first/', 'created_utc': '2021-05-20T20:54:42Z', 'num_comments': 118, 'upvotes': 429, 'subreddit': 'RomanceBooks', 'category': 'Romance', 'book': 'Pride and Prejudice', 'TYPE': 'POST', '_version_': 1796045871459074050}, {'id': 'zb5b6b', 'title': ['I never knew I needed a Muppet Pride and Prejudice, but I would be first in line for this'], 'url': 'https://i.redd.it/ru2ufqtbym3a1.jpg', 'created_utc': '2022-12-03T02:30:12Z', 'num_comments': 37, 'upvotes': 612, 'subreddit': 'RomanceBooks', 'category': 'Romance', 'book': 'Pride and Prejudice', 'TYPE': 'POST', '_version_': 1796045871459074051}, {'id': 'qiyjss', 'title': ['Pride and Prejudice by Jane Austen'], 'selftext': \"Today I finished Pride and Prejudice. I had borrowed it from the local library for writing inspiration. I've heard about the book but I didn't know about it. I absolutely love it now. My library had an edition of a pocket size book of 200 pages. I want to keep it. I won't, of course. But, I want to keep it in my hands forever. \\n\\nThere are three things that made me love this book. \\n\\nIt is the **funniest** book I've read. I laughed so hard. Even in the last pages where I expected a sweet finale, I would laugh! Some things were ridiculous but after I finished it, it's all bound together very well. I didn't expect to laugh this much. \\n\\nIt is a **safe**, light book. It included no sexual assault, murders, stalkers etc. It was a refreshing change for me! I think it is my new comfort book. Really. Now having finished it, I appreciate it even more. While reading it, I expected something terrible to happen and shock me. A friend even messed with me and said I'd see something surprising in the end. And I read it thinking oh no, what if he dies. But, the book is lovely, lovely, lovely. \\n\\n**Mr. Darcy**. Sigh. Mr. Darcy, indeed. Now, I get it. He is the original grouch. Definition of heart that melt for the heroine. \\n\\nI haven't watched the movie yet. Should I or should I stay with this wonderful euphoria the book has given me?\", 'url': 'https://www.reddit.com/r/RomanceBooks/comments/qiyjss/pride_and_prejudice_by_jane_austen/', 'created_utc': '2021-10-30T10:13:43Z', 'num_comments': 48, 'upvotes': 112, 'subreddit': 'RomanceBooks', 'category': 'Romance', 'book': 'Pride and Prejudice', 'TYPE': 'POST', '_version_': 1796045871459074052}, {'id': '138v9wm', 'title': ['Favourite Pride and Prejudice Narration?'], 'selftext': \"I was about to begin a re-read of Pride and Prejudice, this time on audio. When I filtered the editions on The Storygraph to find the audio edition I first came across (Rosamund Pike), I saw that one of my favourite narrators of historical romance, Rosalyn Landor, had her own edition. Which one to choose?! Furthermore, there is a host of other narrators including:\\n\\n\\\\- Claire Foy (on 'The Jane Austen Collection' on Audible)\\n\\n\\\\- Kate Beckinsale (I think this one might be exclusive to Apple)\\n\\n\\\\- Kate Reading\\n\\n\\\\- Lindsay Duncan\\n\\n\\\\- Josephine Bailey\\n\\nDo you have a favourite? Or one you would recommend?\", 'url': 'https://www.reddit.com/r/RomanceBooks/comments/138v9wm/favourite_pride_and_prejudice_narration/', 'created_utc': '2023-05-05T17:19:29Z', 'num_comments': 14, 'upvotes': 24, 'subreddit': 'RomanceBooks', 'category': 'Romance', 'book': 'Pride and Prejudice', 'TYPE': 'POST', '_version_': 1796045871460122624}, {'id': '11brbmv', 'title': ['Pride and Prejudice variations on KU'], 'selftext': 'Hello there, I\\'m interested in PnP variations but I have no idea where to start. I just read Dangerous Magic and really liked the fantasy plot. I\\'d be interested in both more traditional plots and more \"out there\" ones. I\\'m only interested in books on kindle unlimited. Thank you.', 'url': 'https://www.reddit.com/r/RomanceBooks/comments/11brbmv/pride_and_prejudice_variations_on_ku/', 'created_utc': '2023-02-25T18:02:48Z', 'num_comments': 21, 'upvotes': 39, 'subreddit': 'RomanceBooks', 'category': 'Romance', 'book': 'Pride and Prejudice', 'TYPE': 'POST', '_version_': 1796045871460122625}, {'id': '13yej4v', 'title': ['Focus Friday: 🌈 Pride 🌈 and Prejudice 🏳️\\u200d🌈 🏳️\\u200d⚧️'], 'selftext': \"Happy Pride everyone!! ❤️🧡💛💚💙💜🤎🖤\\n\\nWelcome to the Classics But Make It Queer. Have a favourite classic you wish was queer? Even better, know a retelling? Best of all, dying to talk about how a respectable masterpiece of the literary canon was actually gay af?\\n\\nWe're here for all the recs and wishing the others into existence! Give us all your queer Lizzie Bennetts and Moby Dicks (heh sorry) 🐳\", 'url': 'https://www.reddit.com/r/RomanceBooks/comments/13yej4v/focus_friday_pride_and_prejudice/', 'created_utc': '2023-06-02T14:37:27Z', 'num_comments': 34, 'upvotes': 39, 'subreddit': 'RomanceBooks', 'category': 'Romance', 'book': 'Pride and Prejudice', 'TYPE': 'POST', '_version_': 1796045871460122626}, {'id': '13o0s8b', 'title': ['Does \"Pride and Prejudice\" fall under the miscommunication trope?'], 'selftext': 'I talk to so many people lately, who go:\\n\\n\"I hate the miscommunication trope! Immediate DNF! just talk openly to other people.\\n\\n\"The perfect romance book for me? Definitely \\'Pride and Prejudice\\'\"\\n\\nAm I missing something? Isn\\'t most of the conflict and romantic strife in this book based on miscommunication? Or does \"miscommunication trope\" mean something else entirely?', 'url': 'https://www.reddit.com/r/RomanceBooks/comments/13o0s8b/does_pride_and_prejudice_fall_under_the/', 'created_utc': '2023-05-21T17:24:44Z', 'num_comments': 22, 'upvotes': 41, 'subreddit': 'RomanceBooks', 'category': 'Romance', 'book': 'Pride and Prejudice', 'TYPE': 'POST', '_version_': 1796045871460122627}]}, 'stats': {'stats_fields': {'upvotes': {'min': 0.0, 'max': 40709.0, 'count': 1957, 'missing': 0, 'sum': 482039.0, 'sumOfSquares': 5331986157.0, 'mean': 246.31527848748084, 'stddev': 1632.5630335531052}}}}\n"
     ]
    }
   ],
   "source": [
    "GetStats()"
   ]
  },
  {
   "cell_type": "code",
   "execution_count": 11,
   "metadata": {},
   "outputs": [
    {
     "data": {
      "text/html": [
       "<div>\n",
       "<style scoped>\n",
       "    .dataframe tbody tr th:only-of-type {\n",
       "        vertical-align: middle;\n",
       "    }\n",
       "\n",
       "    .dataframe tbody tr th {\n",
       "        vertical-align: top;\n",
       "    }\n",
       "\n",
       "    .dataframe thead th {\n",
       "        text-align: right;\n",
       "    }\n",
       "</style>\n",
       "<table border=\"1\" class=\"dataframe\">\n",
       "  <thead>\n",
       "    <tr style=\"text-align: right;\">\n",
       "      <th></th>\n",
       "      <th>id</th>\n",
       "      <th>book_title</th>\n",
       "      <th>book_author</th>\n",
       "      <th>publication_date</th>\n",
       "      <th>description</th>\n",
       "      <th>cover_path</th>\n",
       "      <th>category</th>\n",
       "    </tr>\n",
       "  </thead>\n",
       "  <tbody>\n",
       "    <tr>\n",
       "      <th>0</th>\n",
       "      <td>hj1d1_10</td>\n",
       "      <td>Pride and Prejudice</td>\n",
       "      <td>Jane Austen</td>\n",
       "      <td>1813-01-28T00:00:00Z</td>\n",
       "      <td>Pride and Prejudice follows the turbulent rela...</td>\n",
       "      <td>./Book_Covers/pride_and_prejudice</td>\n",
       "      <td>Romance</td>\n",
       "    </tr>\n",
       "    <tr>\n",
       "      <th>1</th>\n",
       "      <td>hj1d1_11</td>\n",
       "      <td>Frankenstein</td>\n",
       "      <td>Mary Shelley</td>\n",
       "      <td>1818-01-01T00:00:00Z</td>\n",
       "      <td>Frankenstein tells the story of gifted scienti...</td>\n",
       "      <td>./Book_Covers/frankenstein</td>\n",
       "      <td>Horror</td>\n",
       "    </tr>\n",
       "  </tbody>\n",
       "</table>\n",
       "</div>"
      ],
      "text/plain": [
       "         id           book_title   book_author      publication_date  \\\n",
       "0  hj1d1_10  Pride and Prejudice   Jane Austen  1813-01-28T00:00:00Z   \n",
       "1  hj1d1_11         Frankenstein  Mary Shelley  1818-01-01T00:00:00Z   \n",
       "\n",
       "                                         description  \\\n",
       "0  Pride and Prejudice follows the turbulent rela...   \n",
       "1  Frankenstein tells the story of gifted scienti...   \n",
       "\n",
       "                          cover_path category  \n",
       "0  ./Book_Covers/pride_and_prejudice  Romance  \n",
       "1         ./Book_Covers/frankenstein   Horror  "
      ]
     },
     "execution_count": 11,
     "metadata": {},
     "output_type": "execute_result"
    }
   ],
   "source": [
    "book_data = pd.read_csv(\"./Data/book_data_old.csv\")\n",
    "book_data"
   ]
  },
  {
   "cell_type": "code",
   "execution_count": 12,
   "metadata": {},
   "outputs": [],
   "source": [
    "book_data.to_csv(\"book_data_processed.csv\",index=False)"
   ]
  },
  {
   "cell_type": "markdown",
   "metadata": {},
   "source": [
    "## Testing timeline search"
   ]
  },
  {
   "cell_type": "code",
   "execution_count": 3,
   "metadata": {},
   "outputs": [
    {
     "name": "stdout",
     "output_type": "stream",
     "text": [
      "{'responseHeader': {'status': 0, 'QTime': 26, 'params': {'q': 'book:\"Harry Potter\"', 'indent': 'true', 'q.op': 'OR', 'fq': 'created_utc:[2022-01-01T00:00:00Z TO 2022-12-31T23:59:59Z]'}}, 'response': {'numFound': 560, 'start': 0, 'numFoundExact': True, 'docs': [{'id': 'ryeord_1', 'post_id': 'ryeord', 'comment_text': 'I remember there being a huge controversy about the casting of Cho Chang in the movies, with some being upset that the actress had a Scottish accent while others were upset that she was of East Asian descent in the first place.\\r\\n\\r\\nMy only thought about the matter: what the fuck did you expect? The movies take place in the UK, and JKR was adamant that every character be from either the UK or Ireland. And were the people upset that she is East Asian in appearance also upset that the Patil twins are Indian in appearance?\\r\\n\\r\\nOf all the Harry Potter controversies, this was easily the most baffling.', 'author': 'jah05r', 'author_s': 'jah05r', 'created_utc': '2022-01-07T21:11:06Z', 'category': 'Fantasy', 'book': 'Harry Potter', 'TYPE': 'COMMENT', 'comment_num': 1, '_version_': 1796213207450255370}, {'id': 'ryeord_2', 'post_id': 'ryeord', 'comment_text': 'I know people complain about her first name, but tbh I only read the Harry Potter books in Mandarin as a kid so I never had that problem. Her Chinese name 張秋 is super pretty and not at all odd (\"Cho\" means autumn).', 'author': 'mathematicats', 'author_s': 'mathematicats', 'created_utc': '2022-01-07T22:20:17Z', 'category': 'Fantasy', 'book': 'Harry Potter', 'TYPE': 'COMMENT', 'comment_num': 2, '_version_': 1796213207450255371}, {'id': 'ryeord_3', 'post_id': 'ryeord', 'comment_text': 'It’s weird how much people are so willing to search for things to bash Rowling on when there already exists a very public reason to bash her.\\r\\n\\r\\nNo, The Harry Potter books aren’t particularly diverse, but Correct me if I’m wrong, but the demographics of Hogwarts didn’t seem ridiculously different from Britain, particularly outside of London. It would have been cool if there was an actual black character of note, but I’m not gonna fight an author over a book series she wrote 20 years ago for the level of representation expected today. She wrote what she knew', 'author': 'Chapea12', 'author_s': 'Chapea12', 'created_utc': '2022-01-07T19:27:14Z', 'category': 'Fantasy', 'book': 'Harry Potter', 'TYPE': 'COMMENT', 'comment_num': 3, '_version_': 1796213207450255372}, {'id': 'ryeord_4', 'post_id': 'ryeord', 'comment_text': \"Race was never a relevant factor within Harry Potter, so the only way for it to be evident that a side character without much physical description text is a particular race is to give them a fairly stereotypical name for that race to have. The racial mirror was always pureblood/mudblood, which is still more of a nobility/class allegory than it is a racial allegory in my opinion.\\r\\n\\r\\nI haven't read the books in a long time but I don't remember low tier side characters getting much if any description of their physical appearance.\", 'author': '123mop', 'author_s': '123mop', 'created_utc': '2022-01-07T21:22:17Z', 'category': 'Fantasy', 'book': 'Harry Potter', 'TYPE': 'COMMENT', 'comment_num': 4, '_version_': 1796213207450255373}, {'id': 'ryeord_5', 'post_id': 'ryeord', 'comment_text': 'This discourse is upsetting me too. Yes she had a very stereotypical Chinese/East Asian name and it could be argued that it\\'s inaccurate (Chinese pinyin would not use \"Cho\", usually first names have 2 parts/syllables, but not always)...but nevertheless, it was a very \"obvious\" East Asian name as you say, one of the only at Hogwarts, and she was Harry Potter (the main main character!!)\\'s first crush, and first kiss. I thought that was a good thing for representation??', 'author': 'm00n5t0n3', 'author_s': 'm00n5t0n3', 'created_utc': '2022-01-07T21:46:20Z', 'category': 'Fantasy', 'book': 'Harry Potter', 'TYPE': 'COMMENT', 'comment_num': 5, '_version_': 1796213207450255374}, {'id': 'ryeord_6', 'post_id': 'ryeord', 'comment_text': \"I think some people need to be told this, but the Harry Potter novels are children's books. If you are able to form a coherent argument, however wrong, for why Cho Chang is racist, or why the goblins are an antiseptic trope, or even why the author is a bigot, you should be adult enough to realise that it's just a massive waste of time. Just put the book down and move on. There are plenty of other series to read. Getting so fixated on this children's tale is mentally unhealthy.\", 'author': '_ondil8libon_', 'author_s': '_ondil8libon_', 'created_utc': '2022-01-07T21:55:10Z', 'category': 'Fantasy', 'book': 'Harry Potter', 'TYPE': 'COMMENT', 'comment_num': 6, '_version_': 1796213207450255375}, {'id': 'ryeord_7', 'post_id': 'ryeord', 'comment_text': \"I completely understand. It's been a trend I've noticed that people, especially starting on Twitter, are going out of there way to find unreasonable ways to vilify Rowling and everything she does, even going so far as to go retroactively and repainting and decontextualizing  things to paint her as ______ whatever the agenda is. First, it was calling her out for making Dumbledore gay after the books came out (wrong; he was always gay, and it was alluded to in the books and the filmmakers knew it as well but wasn't a major plot point in the books because it didn't matter to Harry's story), expanding on stuff on Pottermore, supporting Johnny Depp (we all know now that Heard was the abudedr and Rowling was right to support Depp at the time) etc, and now this (apart from calling her anti-Semitic because she used goblins in her books in the way traditional eastern European folklore shows them).\\r\\n\\r\\nAs an Indian, Padma and Parvati Patil were literally some of the only South Asian characters I'd read in any books (apart from Tolkien making the eastern men evil henchmen of Sauron riding elephants), and it was good to see them being fully realised characters with personalities and purposes in the narrative instead of being caricatures like they are on say The Big Bang Theory (Rajesh Ramayan Kuthrapalli, a north Indian fellow with a south Indian last name who has a lakhpathi father who's an itinerant gynaecologist, doesn't speak Hindi and can't even tell the difference between a random Bollywood film and one with Aishwarya Rai, is a caricature).  And most of the POC characters in the Potter series are like that, actual representations with engaging personalities and lives. Sure, some of the named seem generic but considering the main character is Harry Potter, and the books were intended for growing children they're still better than ninety percent of mainstream books where it's all about certain races only. And these people making a hullabaloo on Twitter completely ignore the characters themselves and try to make her look evil incarnate by associating negative connotations to names without actually taking anything else she's written into consideration. I'm getting sick of it.\", 'author': 'SatynMalanaphy', 'author_s': 'SatynMalanaphy', 'created_utc': '2022-01-07T21:48:39Z', 'category': 'Fantasy', 'book': 'Harry Potter', 'TYPE': 'COMMENT', 'comment_num': 7, '_version_': 1796213207450255376}, {'id': 'ryeord_8', 'post_id': 'ryeord', 'comment_text': 'The criticism with Cho Chang is mainly brought forward with the greater context of Rowling’s attempts to diversify the world of Harry Potter. From Cho Chang to Anthony Goldstein (and the contrast between him and the goblins) and Dumbledore & Grindelwald’s supposed relationship, Rowling only really showed off one note token attempts at meaningful representation. It feeds into the argument that Rowling just comes across as someone who desperately wants to be seen as always having been an open minded and woke individual.', 'author': 'BigBlackGlocks', 'author_s': 'BigBlackGlocks', 'created_utc': '2022-01-07T19:53:23Z', 'category': 'Fantasy', 'book': 'Harry Potter', 'TYPE': 'COMMENT', 'comment_num': 8, '_version_': 1796213207450255377}, {'id': 'ryeord_9', 'post_id': 'ryeord', 'comment_text': 'Maybe I\\'m just weird or \"out of touch\" but I don\\'t really care that much about \"representation\" in fiction books. I don\\'t really see it as a big deal. It\\'s not something I have ever noticed to be honest when reading. If the story is captivating and draws you in, why should the ethnicities or sexualities of a character matter? Would Harry Potter have been better if Harry was black and in a relationship with Ron?\\r\\n\\r\\nSure, its great to have a character we can relate to as they are \"like us\" but god damn. I read fiction books to escape from reality for a bit, not relate to it. The last thing I focus on when I\\'m reading a book is a characters nationality/colour(unless its important) or their sexuality.', 'author': 'PanzerBiscuit', 'author_s': 'PanzerBiscuit', 'created_utc': '2022-01-07T22:54:10Z', 'category': 'Fantasy', 'book': 'Harry Potter', 'TYPE': 'COMMENT', 'comment_num': 9, '_version_': 1796213207450255378}, {'id': 'ryeord_10', 'post_id': 'ryeord', 'comment_text': \"The only reason people are railing on J.K. Rowling's Harry Potter series is because they are angry at her views regarding the trans community.\\r\\n\\r\\nYes, Rowling is wrong to constantly demean a group of people, but it is intellectual bad practice to move your dislike/hate towards an author's personal views to then paint the work of said author. Before the controversy, people had nothing but praise for the Harry Potter series. \\r\\n\\r\\nIs the series perfect? No, but it was an undeniable cultural phenomenon and a major part of many childhoods, and a great written work compared to similar YA books at the time.\", 'author': 'hoenndex', 'author_s': 'hoenndex', 'created_utc': '2022-01-07T22:40:44Z', 'category': 'Fantasy', 'book': 'Harry Potter', 'TYPE': 'COMMENT', 'comment_num': 10, '_version_': 1796213207450255379}]}}\n"
     ]
    }
   ],
   "source": [
    "url = \"http://localhost:8983/solr/new_core/select?indent=true&q.op=OR&q=book%3A%22Harry%20Potter%22&fq=created_utc:[2022-01-01T00:00:00Z TO 2022-12-31T23:59:59Z]\"\n",
    "response = requests.get(url)\n",
    "print(response.json())"
   ]
  },
  {
   "cell_type": "code",
   "execution_count": null,
   "metadata": {},
   "outputs": [],
   "source": []
  }
 ],
 "metadata": {
  "kernelspec": {
   "display_name": "Python 3",
   "language": "python",
   "name": "python3"
  },
  "language_info": {
   "codemirror_mode": {
    "name": "ipython",
    "version": 3
   },
   "file_extension": ".py",
   "mimetype": "text/x-python",
   "name": "python",
   "nbconvert_exporter": "python",
   "pygments_lexer": "ipython3",
   "version": "3.11.1"
  }
 },
 "nbformat": 4,
 "nbformat_minor": 2
}
