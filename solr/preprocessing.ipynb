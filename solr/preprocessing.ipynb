{
 "cells": [
  {
   "cell_type": "code",
   "execution_count": 30,
   "metadata": {},
   "outputs": [],
   "source": [
    "import requests\n",
    "import pandas as pd"
   ]
  },
  {
   "cell_type": "markdown",
   "metadata": {},
   "source": [
    "### Example URL request"
   ]
  },
  {
   "cell_type": "code",
   "execution_count": 2,
   "metadata": {},
   "outputs": [],
   "source": [
    "url = \"http://localhost:8983/solr/tech_products/select?indent=true&q.op=OR&q=viewsonic&rows=20&useParams=\""
   ]
  },
  {
   "cell_type": "code",
   "execution_count": 3,
   "metadata": {},
   "outputs": [],
   "source": [
    "response = requests.get(url)"
   ]
  },
  {
   "cell_type": "code",
   "execution_count": 4,
   "metadata": {},
   "outputs": [
    {
     "name": "stdout",
     "output_type": "stream",
     "text": [
      "{'responseHeader': {'status': 0, 'QTime': 0, 'params': {'q': 'viewsonic', 'indent': 'true', 'q.op': 'OR', 'rows': '20', 'useParams': ''}}, 'response': {'numFound': 1, 'start': 0, 'numFoundExact': True, 'docs': [{'id': 'VA902B', 'name': 'ViewSonic VA902B - flat panel display - TFT - 19\"', 'manu': 'ViewSonic Corp.', 'manu_id_s': 'viewsonic', 'cat': ['electronics and stuff2'], 'features': ['19\" TFT active matrix LCD, 8ms response time, 1280 x 1024 native resolution'], 'weight': 190.4, 'price': 279.95, 'price_c': '279.95,USD', 'popularity': 6, 'inStock': True, 'store': '45.18814,-93.88541', '_version_': 1795237645975027712, 'manu_exact': 'ViewSonic Corp.', 'price_c____l_ns': 27995, 'name_exact': 'ViewSonic VA902B - flat panel display - TFT - 19\"'}]}}\n"
     ]
    }
   ],
   "source": [
    "response_json = response.json()\n",
    "print(response_json)"
   ]
  },
  {
   "cell_type": "markdown",
   "metadata": {},
   "source": [
    "### Read excel sheet"
   ]
  },
  {
   "cell_type": "code",
   "execution_count": 31,
   "metadata": {},
   "outputs": [],
   "source": [
    "info = pd.ExcelFile(\"Info.xlsx\")\n",
    "sheet_names = info.sheet_names"
   ]
  },
  {
   "cell_type": "markdown",
   "metadata": {},
   "source": [
    "## Process data"
   ]
  },
  {
   "cell_type": "markdown",
   "metadata": {},
   "source": [
    "### Process the first two sheets"
   ]
  },
  {
   "cell_type": "code",
   "execution_count": 32,
   "metadata": {},
   "outputs": [],
   "source": [
    "post_dataframe = pd.read_excel(info, sheet_names[0])\n",
    "comment_dataframe = pd.read_excel(info, sheet_names[1])\n",
    "# add the book name\n",
    "bk_name_0 = sheet_names[0].split('(')[0]\n",
    "bk_name_1 = sheet_names[1].split('(')[0]\n",
    "if (bk_name_0[-1] == ' '):\n",
    "    bk_name_0 = bk_name_0[:-1]\n",
    "if (bk_name_1[-1] == ' '):\n",
    "    bk_name_1 = bk_name_1[:-1]\n",
    "bk_name_0 = pd.Series([bk_name_0] * len(post_dataframe.index))\n",
    "bk_name_1 = pd.Series([bk_name_1] * len(comment_dataframe.index))\n",
    "post_dataframe[\"book\"] = bk_name_0\n",
    "comment_dataframe[\"book\"] = bk_name_1"
   ]
  },
  {
   "cell_type": "markdown",
   "metadata": {},
   "source": [
    "### Process the remaining sheets and add them to the first two sheets"
   ]
  },
  {
   "cell_type": "code",
   "execution_count": 33,
   "metadata": {},
   "outputs": [],
   "source": [
    "for i in range(2, len(sheet_names)):\n",
    "    raw_dataframe = pd.read_excel(info, sheet_names[i])\n",
    "\n",
    "    # add book name\n",
    "    bk_name = sheet_names[i].split('(')[0]\n",
    "    # remove empty space at the back if any\n",
    "    if (bk_name[-1] == ' '):\n",
    "        bk_name = bk_name[:-1]\n",
    "    if (bk_name == 'GoT'):\n",
    "        bk_name = \"Game Of Thrones\"\n",
    "    elif (bk_name == 'LotR'):\n",
    "        bk_name = \"Lord of the Rings\"\n",
    "\n",
    "    bk_name = pd.Series([bk_name] * len(raw_dataframe.index))\n",
    "    raw_dataframe[\"book\"] = bk_name\n",
    "    # Every even-indexed sheet is a POST sheet\n",
    "    if (i%2 == 0):\n",
    "        post_dataframe = pd.concat([post_dataframe, raw_dataframe])\n",
    "    else:\n",
    "        comment_dataframe = pd.concat([comment_dataframe, raw_dataframe])"
   ]
  },
  {
   "cell_type": "markdown",
   "metadata": {},
   "source": [
    "### Label the dataframes as either POST or COMMENT"
   ]
  },
  {
   "cell_type": "code",
   "execution_count": 34,
   "metadata": {},
   "outputs": [],
   "source": [
    "# label all posts in the dataframe as such for filtering when querying\n",
    "title = pd.Series([\"POST\"] * len(post_dataframe.index))\n",
    "post_dataframe[\"TYPE\"] = title\n",
    "comment_title = pd.Series([\"COMMENT\"] * len(comment_dataframe.index))\n",
    "comment_dataframe[\"TYPE\"] = comment_title"
   ]
  },
  {
   "cell_type": "markdown",
   "metadata": {},
   "source": [
    "# Convert dates to DatePointField format"
   ]
  },
  {
   "cell_type": "code",
   "execution_count": 35,
   "metadata": {},
   "outputs": [],
   "source": [
    "def convert_time(x): \n",
    "    solr_date = x.strftime('%Y-%m-%dT%H:%M:%SZ')\n",
    "    return solr_date"
   ]
  },
  {
   "cell_type": "code",
   "execution_count": 36,
   "metadata": {},
   "outputs": [],
   "source": [
    "post_created_utc = post_dataframe['created_utc']\n",
    "post_created_utc = post_created_utc.apply(convert_time)\n",
    "post_dataframe['created_utc'] = post_created_utc\n",
    "\n",
    "comment_created_utc = comment_dataframe['created_utc']\n",
    "comment_created_utc = comment_created_utc.apply(convert_time)\n",
    "comment_dataframe['created_utc'] = comment_created_utc"
   ]
  },
  {
   "cell_type": "code",
   "execution_count": 15,
   "metadata": {},
   "outputs": [],
   "source": []
  },
  {
   "cell_type": "markdown",
   "metadata": {},
   "source": [
    "### Save to csv"
   ]
  },
  {
   "cell_type": "code",
   "execution_count": 37,
   "metadata": {},
   "outputs": [],
   "source": [
    "post_dataframe.to_csv(\"posts.csv\", index=False)\n",
    "comment_dataframe.to_csv(\"comments.csv\", index=False)\n",
    "\n"
   ]
  },
  {
   "cell_type": "markdown",
   "metadata": {},
   "source": [
    "## Add unique ID to comments"
   ]
  },
  {
   "cell_type": "code",
   "execution_count": 40,
   "metadata": {},
   "outputs": [
    {
     "data": {
      "text/html": [
       "<div>\n",
       "<style scoped>\n",
       "    .dataframe tbody tr th:only-of-type {\n",
       "        vertical-align: middle;\n",
       "    }\n",
       "\n",
       "    .dataframe tbody tr th {\n",
       "        vertical-align: top;\n",
       "    }\n",
       "\n",
       "    .dataframe thead th {\n",
       "        text-align: right;\n",
       "    }\n",
       "</style>\n",
       "<table border=\"1\" class=\"dataframe\">\n",
       "  <thead>\n",
       "    <tr style=\"text-align: right;\">\n",
       "      <th></th>\n",
       "      <th>post_id</th>\n",
       "      <th>comment_num</th>\n",
       "      <th>comment_text</th>\n",
       "      <th>author</th>\n",
       "      <th>created_utc</th>\n",
       "      <th>book</th>\n",
       "      <th>TYPE</th>\n",
       "    </tr>\n",
       "  </thead>\n",
       "  <tbody>\n",
       "    <tr>\n",
       "      <th>0</th>\n",
       "      <td>1b5u291</td>\n",
       "      <td>1</td>\n",
       "      <td>And all the Pride and Prejudice fans with stun...</td>\n",
       "      <td>nydevon</td>\n",
       "      <td>2024-03-03T22:29:50Z</td>\n",
       "      <td>Pride and Prejudice</td>\n",
       "      <td>COMMENT</td>\n",
       "    </tr>\n",
       "    <tr>\n",
       "      <th>1</th>\n",
       "      <td>1b5u291</td>\n",
       "      <td>2</td>\n",
       "      <td>I think the 2005 pride and prejudice is just o...</td>\n",
       "      <td>catyfun19</td>\n",
       "      <td>2024-03-04T01:02:36Z</td>\n",
       "      <td>Pride and Prejudice</td>\n",
       "      <td>COMMENT</td>\n",
       "    </tr>\n",
       "    <tr>\n",
       "      <th>2</th>\n",
       "      <td>1b5u291</td>\n",
       "      <td>3</td>\n",
       "      <td>I will just say it took me a minute to underst...</td>\n",
       "      <td>aurynorange5</td>\n",
       "      <td>2024-03-04T02:55:02Z</td>\n",
       "      <td>Pride and Prejudice</td>\n",
       "      <td>COMMENT</td>\n",
       "    </tr>\n",
       "    <tr>\n",
       "      <th>3</th>\n",
       "      <td>1b5u291</td>\n",
       "      <td>4</td>\n",
       "      <td>I feel this way often. I think for me, a lot o...</td>\n",
       "      <td>SwadlingSwine</td>\n",
       "      <td>2024-03-04T01:22:00Z</td>\n",
       "      <td>Pride and Prejudice</td>\n",
       "      <td>COMMENT</td>\n",
       "    </tr>\n",
       "    <tr>\n",
       "      <th>4</th>\n",
       "      <td>1b5u291</td>\n",
       "      <td>5</td>\n",
       "      <td>So my sis and I love pride and prejudice and o...</td>\n",
       "      <td>AdInside1346</td>\n",
       "      <td>2024-03-04T06:30:07Z</td>\n",
       "      <td>Pride and Prejudice</td>\n",
       "      <td>COMMENT</td>\n",
       "    </tr>\n",
       "    <tr>\n",
       "      <th>...</th>\n",
       "      <td>...</td>\n",
       "      <td>...</td>\n",
       "      <td>...</td>\n",
       "      <td>...</td>\n",
       "      <td>...</td>\n",
       "      <td>...</td>\n",
       "      <td>...</td>\n",
       "    </tr>\n",
       "    <tr>\n",
       "      <th>11536</th>\n",
       "      <td>4pvpea</td>\n",
       "      <td>4</td>\n",
       "      <td>The books of Taylor Caldwell.  In my childhood...</td>\n",
       "      <td>corathus59</td>\n",
       "      <td>2016-06-26T14:48:52Z</td>\n",
       "      <td>Harry Potter</td>\n",
       "      <td>COMMENT</td>\n",
       "    </tr>\n",
       "    <tr>\n",
       "      <th>11537</th>\n",
       "      <td>4pvpea</td>\n",
       "      <td>5</td>\n",
       "      <td>Stephen King is probably the most prolific aut...</td>\n",
       "      <td>Isles86</td>\n",
       "      <td>2016-06-26T20:14:27Z</td>\n",
       "      <td>Harry Potter</td>\n",
       "      <td>COMMENT</td>\n",
       "    </tr>\n",
       "    <tr>\n",
       "      <th>11538</th>\n",
       "      <td>4pvpea</td>\n",
       "      <td>6</td>\n",
       "      <td>**The Bible** -- over 6 billion copies are in ...</td>\n",
       "      <td>NaN</td>\n",
       "      <td>2016-06-26T02:49:36Z</td>\n",
       "      <td>Harry Potter</td>\n",
       "      <td>COMMENT</td>\n",
       "    </tr>\n",
       "    <tr>\n",
       "      <th>11539</th>\n",
       "      <td>4pvpea</td>\n",
       "      <td>7</td>\n",
       "      <td>Well, I'd like to start out with that I have n...</td>\n",
       "      <td>60_Percent_Dad</td>\n",
       "      <td>2016-06-26T08:03:00Z</td>\n",
       "      <td>Harry Potter</td>\n",
       "      <td>COMMENT</td>\n",
       "    </tr>\n",
       "    <tr>\n",
       "      <th>11540</th>\n",
       "      <td>4pvpea</td>\n",
       "      <td>8</td>\n",
       "      <td>It's not a very good answer to this question. ...</td>\n",
       "      <td>C_Me</td>\n",
       "      <td>2016-06-26T03:32:57Z</td>\n",
       "      <td>Harry Potter</td>\n",
       "      <td>COMMENT</td>\n",
       "    </tr>\n",
       "  </tbody>\n",
       "</table>\n",
       "<p>11541 rows × 7 columns</p>\n",
       "</div>"
      ],
      "text/plain": [
       "       post_id  comment_num  \\\n",
       "0      1b5u291            1   \n",
       "1      1b5u291            2   \n",
       "2      1b5u291            3   \n",
       "3      1b5u291            4   \n",
       "4      1b5u291            5   \n",
       "...        ...          ...   \n",
       "11536   4pvpea            4   \n",
       "11537   4pvpea            5   \n",
       "11538   4pvpea            6   \n",
       "11539   4pvpea            7   \n",
       "11540   4pvpea            8   \n",
       "\n",
       "                                            comment_text          author  \\\n",
       "0      And all the Pride and Prejudice fans with stun...         nydevon   \n",
       "1      I think the 2005 pride and prejudice is just o...       catyfun19   \n",
       "2      I will just say it took me a minute to underst...    aurynorange5   \n",
       "3      I feel this way often. I think for me, a lot o...   SwadlingSwine   \n",
       "4      So my sis and I love pride and prejudice and o...    AdInside1346   \n",
       "...                                                  ...             ...   \n",
       "11536  The books of Taylor Caldwell.  In my childhood...      corathus59   \n",
       "11537  Stephen King is probably the most prolific aut...         Isles86   \n",
       "11538  **The Bible** -- over 6 billion copies are in ...             NaN   \n",
       "11539  Well, I'd like to start out with that I have n...  60_Percent_Dad   \n",
       "11540  It's not a very good answer to this question. ...            C_Me   \n",
       "\n",
       "                created_utc                 book     TYPE  \n",
       "0      2024-03-03T22:29:50Z  Pride and Prejudice  COMMENT  \n",
       "1      2024-03-04T01:02:36Z  Pride and Prejudice  COMMENT  \n",
       "2      2024-03-04T02:55:02Z  Pride and Prejudice  COMMENT  \n",
       "3      2024-03-04T01:22:00Z  Pride and Prejudice  COMMENT  \n",
       "4      2024-03-04T06:30:07Z  Pride and Prejudice  COMMENT  \n",
       "...                     ...                  ...      ...  \n",
       "11536  2016-06-26T14:48:52Z         Harry Potter  COMMENT  \n",
       "11537  2016-06-26T20:14:27Z         Harry Potter  COMMENT  \n",
       "11538  2016-06-26T02:49:36Z         Harry Potter  COMMENT  \n",
       "11539  2016-06-26T08:03:00Z         Harry Potter  COMMENT  \n",
       "11540  2016-06-26T03:32:57Z         Harry Potter  COMMENT  \n",
       "\n",
       "[11541 rows x 7 columns]"
      ]
     },
     "execution_count": 40,
     "metadata": {},
     "output_type": "execute_result"
    }
   ],
   "source": [
    "comment_csv = pd.read_csv(\"comments.csv\")\n",
    "comment_csv"
   ]
  },
  {
   "cell_type": "markdown",
   "metadata": {},
   "source": [
    "### Note: Need to manually add comment_num column in csv\n",
    "Set cell B2 to be 1\n",
    "\n",
    "Set formula for cell b3 to be: =IF(A3<>A2,1,B2+1)\n",
    "\n",
    "Drag and fill remaining cells in column"
   ]
  },
  {
   "cell_type": "code",
   "execution_count": 41,
   "metadata": {},
   "outputs": [],
   "source": [
    "comment_csv['id'] = comment_csv['post_id'].astype(str) + \"_\" + comment_csv['comment_num'].astype(str)"
   ]
  },
  {
   "cell_type": "markdown",
   "metadata": {},
   "source": [
    "### Bring column 'id' to the front"
   ]
  },
  {
   "cell_type": "code",
   "execution_count": 42,
   "metadata": {},
   "outputs": [
    {
     "data": {
      "text/plain": [
       "['id',\n",
       " 'post_id',\n",
       " 'comment_num',\n",
       " 'comment_text',\n",
       " 'author',\n",
       " 'created_utc',\n",
       " 'book',\n",
       " 'TYPE']"
      ]
     },
     "execution_count": 42,
     "metadata": {},
     "output_type": "execute_result"
    }
   ],
   "source": [
    "cols = comment_csv.columns.tolist()\n",
    "cols = cols[-1:] + cols[:-1]\n",
    "cols"
   ]
  },
  {
   "cell_type": "code",
   "execution_count": 43,
   "metadata": {},
   "outputs": [],
   "source": [
    "comment_csv = comment_csv[cols]"
   ]
  },
  {
   "cell_type": "code",
   "execution_count": 44,
   "metadata": {},
   "outputs": [],
   "source": [
    "comment_csv.to_csv(\"comments.csv\",index=False)"
   ]
  },
  {
   "cell_type": "code",
   "execution_count": null,
   "metadata": {},
   "outputs": [],
   "source": []
  }
 ],
 "metadata": {
  "kernelspec": {
   "display_name": "Python 3",
   "language": "python",
   "name": "python3"
  },
  "language_info": {
   "codemirror_mode": {
    "name": "ipython",
    "version": 3
   },
   "file_extension": ".py",
   "mimetype": "text/x-python",
   "name": "python",
   "nbconvert_exporter": "python",
   "pygments_lexer": "ipython3",
   "version": "3.10.6"
  }
 },
 "nbformat": 4,
 "nbformat_minor": 2
}
