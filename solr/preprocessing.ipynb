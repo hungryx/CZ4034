{
 "cells": [
  {
   "cell_type": "code",
   "execution_count": 1,
   "metadata": {},
   "outputs": [],
   "source": [
    "import requests\n",
    "import pandas as pd"
   ]
  },
  {
   "cell_type": "markdown",
   "metadata": {},
   "source": [
    "### Example URL request"
   ]
  },
  {
   "cell_type": "code",
   "execution_count": 2,
   "metadata": {},
   "outputs": [],
   "source": [
    "url = \"http://localhost:8983/solr/tech_products/select?indent=true&q.op=OR&q=viewsonic&rows=20&useParams=\""
   ]
  },
  {
   "cell_type": "code",
   "execution_count": 3,
   "metadata": {},
   "outputs": [],
   "source": [
    "response = requests.get(url)"
   ]
  },
  {
   "cell_type": "code",
   "execution_count": 4,
   "metadata": {},
   "outputs": [
    {
     "name": "stdout",
     "output_type": "stream",
     "text": [
      "{'responseHeader': {'status': 0, 'QTime': 0, 'params': {'q': 'viewsonic', 'indent': 'true', 'q.op': 'OR', 'rows': '20', 'useParams': ''}}, 'response': {'numFound': 1, 'start': 0, 'numFoundExact': True, 'docs': [{'id': 'VA902B', 'name': 'ViewSonic VA902B - flat panel display - TFT - 19\"', 'manu': 'ViewSonic Corp.', 'manu_id_s': 'viewsonic', 'cat': ['electronics and stuff2'], 'features': ['19\" TFT active matrix LCD, 8ms response time, 1280 x 1024 native resolution'], 'weight': 190.4, 'price': 279.95, 'price_c': '279.95,USD', 'popularity': 6, 'inStock': True, 'store': '45.18814,-93.88541', '_version_': 1795237645975027712, 'manu_exact': 'ViewSonic Corp.', 'price_c____l_ns': 27995, 'name_exact': 'ViewSonic VA902B - flat panel display - TFT - 19\"'}]}}\n"
     ]
    }
   ],
   "source": [
    "response_json = response.json()\n",
    "print(response_json)"
   ]
  },
  {
   "cell_type": "markdown",
   "metadata": {},
   "source": [
    "### Read excel sheet"
   ]
  },
  {
   "cell_type": "code",
   "execution_count": 4,
   "metadata": {},
   "outputs": [],
   "source": [
    "info = pd.ExcelFile(\"Info.xlsx\")\n",
    "sheet_names = info.sheet_names"
   ]
  },
  {
   "cell_type": "markdown",
   "metadata": {},
   "source": [
    "### Process the first two sheets"
   ]
  },
  {
   "cell_type": "code",
   "execution_count": 30,
   "metadata": {},
   "outputs": [],
   "source": [
    "post_id_dictionary = {}"
   ]
  },
  {
   "cell_type": "code",
   "execution_count": 43,
   "metadata": {},
   "outputs": [],
   "source": [
    "\n",
    "\n",
    "def convert_time(x):\n",
    "    temp = x \n",
    "    if (isinstance(x,str)):\n",
    "        temp = pd.to_datetime(temp,format= '%Y-%m-%d %H:%M:%S')\n",
    "    solr_date = temp.strftime('%Y-%m-%dT%H:%M:%SZ')\n",
    "    return solr_date\n",
    "\n",
    "def ProcessSheetName(sheet_name):\n",
    "    bk_name = sheet_name.split('(')[0]\n",
    "    # remove empty space at the back if any\n",
    "    if (bk_name[-1] == ' '):\n",
    "        bk_name = bk_name[:-1]\n",
    "    if (bk_name == 'GoT'):\n",
    "        bk_name = \"Game Of Thrones\"\n",
    "    elif (bk_name == 'LotR'):\n",
    "        bk_name = \"Lord of the Rings\"\n",
    "\n",
    "    return bk_name\n",
    "\n",
    "def AddIDforComments(df):\n",
    "    # df: comments dataframe\n",
    "    # Add a new ID column to comments dataframe as required by Solr\n",
    "    ### Note: Need to manually add comment_num column in csv\n",
    "    # Set cell B2 to be 1\n",
    "    # Set formula for cell b3 to be: =IF(A3<>A2,1,B2+1)\n",
    "    # Drag and fill remaining cells in column\n",
    "    df['id'] = df['post_id'].astype(str) + \"_\" + df['comment_num'].astype(str)\n",
    "\n",
    "    # bring column id to the front\n",
    "    cols = df.columns.tolist()\n",
    "    cols = cols[-1:] + cols[:-1]\n",
    "\n",
    "    df = df[cols]\n",
    "    return df\n",
    "\n",
    "def ProcessData(info_name):\n",
    "    # info_name: Excel workbook name\n",
    "    # post_csv_name: name of the csv file containing the posts of the books\n",
    "    # comment_csv_name: name of the csv file containing the comments\n",
    "    info = pd.ExcelFile(info_name)\n",
    "    sheet_names = info.sheet_names\n",
    "    post_dataframe = pd.read_excel(info, sheet_names[0])\n",
    "    comment_dataframe = pd.read_excel(info, sheet_names[1])\n",
    "    # add the book name\n",
    "    bk_name_0 = ProcessSheetName(sheet_names[0])\n",
    "    bk_name_1 = ProcessSheetName(sheet_names[1])\n",
    "    bk_name_0 = pd.Series([bk_name_0] * len(post_dataframe.index))\n",
    "    bk_name_1 = pd.Series([bk_name_1] * len(comment_dataframe.index))\n",
    "    post_dataframe[\"book\"] = bk_name_0\n",
    "    comment_dataframe[\"book\"] = bk_name_1\n",
    "\n",
    "    for i in range(2, len(sheet_names)):\n",
    "        raw_dataframe = pd.read_excel(info, sheet_names[i])\n",
    "\n",
    "        # add book name\n",
    "        bk_name = ProcessSheetName(sheet_names[i])\n",
    "\n",
    "        bk_name = pd.Series([bk_name] * len(raw_dataframe.index))\n",
    "        raw_dataframe[\"book\"] = bk_name\n",
    "        # Every even-indexed sheet is a POST sheet\n",
    "        if (i%2 == 0):\n",
    "            post_dataframe = pd.concat([post_dataframe, raw_dataframe])\n",
    "        else:\n",
    "            comment_dataframe = pd.concat([comment_dataframe, raw_dataframe])\n",
    "\n",
    "    # label rows in the dataframe as POST or COMMENT for filtering when querying\n",
    "    title = pd.Series([\"POST\"] * len(post_dataframe.index))\n",
    "    post_dataframe[\"TYPE\"] = title\n",
    "    comment_title = pd.Series([\"COMMENT\"] * len(comment_dataframe.index))\n",
    "    comment_dataframe[\"TYPE\"] = comment_title\n",
    "\n",
    "    # Convert time into pdate format as required by Solr\n",
    "    post_created_utc = post_dataframe['created_utc']\n",
    "    post_created_utc = post_created_utc.apply(convert_time)\n",
    "    post_dataframe['created_utc'] = post_created_utc\n",
    "\n",
    "    comment_created_utc = comment_dataframe['created_utc']\n",
    "    comment_created_utc = comment_created_utc.apply(convert_time)\n",
    "    comment_dataframe['created_utc'] = comment_created_utc\n",
    "\n",
    "\n",
    "\n",
    "    \n",
    "    \n",
    "\n",
    "    return post_dataframe, comment_dataframe\n",
    "\n",
    "\n",
    "def AddCommentID(row):\n",
    "    if (row[\"post_id\"] not in post_id_dictionary.keys()):\n",
    "        post_id_dictionary[row[\"post_id\"]] = 1\n",
    "    else:\n",
    "        post_id_dictionary[row[\"post_id\"]] += 1\n",
    "        \n",
    "    return row[\"post_id\"] + \"_\" + str(post_id_dictionary[row[\"post_id\"]])\n",
    "        \n",
    "def AddCommentNum(row):\n",
    "    if (row[\"post_id\"] not in post_id_dictionary.keys()):\n",
    "        post_id_dictionary[row[\"post_id\"]] = 1\n",
    "    else:\n",
    "        post_id_dictionary[row[\"post_id\"]] += 1\n",
    "        \n",
    "    return post_id_dictionary[row[\"post_id\"]]"
   ]
  },
  {
   "cell_type": "code",
   "execution_count": null,
   "metadata": {},
   "outputs": [],
   "source": []
  },
  {
   "cell_type": "code",
   "execution_count": 28,
   "metadata": {},
   "outputs": [],
   "source": [
    "data_dir = \"./Book Data/\"\n",
    "excel_names = [\"Action Books.xlsx\", \"Comedy Books.xlsx\", \"Fantasy Books.xlsx\", \"Horror Books.xlsx\", \"Mystery Books.xlsx\"]\n",
    "comment_names = []\n",
    "\n",
    "first_post_dataframe, first_comment_dataframe = ProcessData(data_dir+excel_names[0])\n",
    "first_post_dataframe.to_csv(excel_names[0].split()[0] + \"_post.csv\", index=False)\n",
    "first_comment_dataframe.to_csv(excel_names[0].split()[0] + \"_comment.csv\", index=False)\n",
    "comment_names.append(excel_names[0].split()[0] + \"_comment\")\n",
    "for i in excel_names[1:]:\n",
    "    post_df, comment_df = ProcessData(data_dir+i)\n",
    "    post_df.to_csv(i.split()[0] + \"_post.csv\", index=False)\n",
    "    comment_df.to_csv(i.split()[0] + \"_comment.csv\", index=False)\n",
    "    comment_names.append(i.split()[0] + \"_comment\")\n",
    "    # first_post_dataframe = pd.concat([first_post_dataframe, post_df])\n",
    "    # first_comment_dataframe = pd.concat([first_comment_dataframe, comment_df])\n",
    "\n",
    "# first_post_dataframe.to_csv(\"new_posts.csv\", index=False)\n",
    "# first_comment_dataframe.to_csv(\"new_comments.csv\", index=False)"
   ]
  },
  {
   "cell_type": "code",
   "execution_count": 44,
   "metadata": {},
   "outputs": [],
   "source": [
    "post_id_dictionary = {}\n",
    "for i in comment_names:\n",
    "    post_id_dictionary = {}\n",
    "    comment_df = pd.read_csv(i + \".csv\")\n",
    "    comment_df[\"id\"] = comment_df.apply(AddCommentID, axis=1)\n",
    "    cols = comment_df.columns.tolist()\n",
    "    cols = cols[-1:] + cols[:-1]\n",
    "    comment_df = comment_df[cols]\n",
    "    post_id_dictionary = {}\n",
    "    comment_df[\"comment_num\"] = comment_df.apply(AddCommentNum, axis=1)\n",
    "    comment_df.to_csv(i + \"_process.csv\",index=False)"
   ]
  },
  {
   "cell_type": "code",
   "execution_count": null,
   "metadata": {},
   "outputs": [],
   "source": []
  }
 ],
 "metadata": {
  "kernelspec": {
   "display_name": "Python 3",
   "language": "python",
   "name": "python3"
  },
  "language_info": {
   "codemirror_mode": {
    "name": "ipython",
    "version": 3
   },
   "file_extension": ".py",
   "mimetype": "text/x-python",
   "name": "python",
   "nbconvert_exporter": "python",
   "pygments_lexer": "ipython3",
   "version": "3.10.6"
  }
 },
 "nbformat": 4,
 "nbformat_minor": 2
}
