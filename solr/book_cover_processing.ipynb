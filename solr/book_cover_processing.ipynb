{
 "cells": [
  {
   "cell_type": "code",
   "execution_count": 1,
   "metadata": {},
   "outputs": [],
   "source": [
    "import pandas as pd\n",
    "import os\n",
    "import hashlib"
   ]
  },
  {
   "cell_type": "code",
   "execution_count": 2,
   "metadata": {},
   "outputs": [
    {
     "data": {
      "text/plain": [
       "['Action', 'Comedy', 'Fantasy', 'Horror', 'Mystery', 'Misc']"
      ]
     },
     "execution_count": 2,
     "metadata": {},
     "output_type": "execute_result"
    }
   ],
   "source": [
    "book_info = pd.ExcelFile(\"./Book Covers/Book Descrips.xlsx\")\n",
    "sheet_names = book_info.sheet_names\n",
    "sheet_names"
   ]
  },
  {
   "cell_type": "code",
   "execution_count": 3,
   "metadata": {},
   "outputs": [],
   "source": [
    "def LabelImagePath(row):\n",
    "    book_name = row[\"Book Title\"]\n",
    "    return \"./Book_Covers/\" + book_name + \".jpg\"\n",
    "\n",
    "def GenerateID(row):\n",
    "    book_name = str(row[\"Book Title\"])\n",
    "    book_name = book_name.encode()\n",
    "    m = hashlib.md5()\n",
    "    m.update(book_name)\n",
    "    x = str(int(m.hexdigest(), 16))[0:6]\n",
    "    print(x)\n",
    "    return x"
   ]
  },
  {
   "cell_type": "code",
   "execution_count": 4,
   "metadata": {},
   "outputs": [
    {
     "name": "stdout",
     "output_type": "stream",
     "text": [
      "440739\n",
      "197194\n",
      "206214\n",
      "269110\n",
      "552248\n",
      "410400\n",
      "278087\n",
      "302606\n",
      "226725\n",
      "120104\n",
      "332190\n",
      "263635\n",
      "129140\n",
      "248706\n",
      "319560\n",
      "259130\n",
      "156978\n",
      "200790\n",
      "259267\n",
      "868817\n",
      "806526\n",
      "153283\n",
      "553385\n",
      "129151\n",
      "120104\n",
      "242798\n",
      "606928\n",
      "248571\n",
      "381162\n",
      "110509\n",
      "250565\n",
      "315262\n",
      "274467\n",
      "175835\n",
      "143421\n",
      "338332\n",
      "282568\n",
      "977605\n",
      "910029\n",
      "268353\n",
      "185449\n",
      "192995\n",
      "771514\n",
      "245600\n",
      "318214\n",
      "934827\n",
      "287139\n",
      "181375\n",
      "163241\n",
      "522708\n",
      "105167\n",
      "620945\n",
      "300641\n",
      "129007\n",
      "102570\n",
      "203921\n",
      "208363\n",
      "235278\n",
      "495623\n",
      "152100\n",
      "782662\n",
      "155423\n",
      "163244\n",
      "135484\n",
      "236155\n",
      "134489\n",
      "155863\n",
      "201314\n",
      "364266\n",
      "152450\n",
      "301511\n",
      "214528\n",
      "147123\n",
      "251682\n",
      "327172\n",
      "274958\n",
      "264429\n",
      "158279\n",
      "328322\n",
      "314912\n",
      "232530\n",
      "250381\n",
      "521289\n",
      "235538\n",
      "599759\n",
      "365920\n",
      "284198\n",
      "232512\n",
      "241154\n"
     ]
    }
   ],
   "source": [
    "for i in sheet_names:\n",
    "    df = pd.read_excel(book_info, i)\n",
    "    df[\"Image\"] = df.apply(LabelImagePath, axis=1)\n",
    "    df[\"id\"] = df.apply(GenerateID, axis=1)\n",
    "    cols = df.columns.tolist()\n",
    "    cols = cols[-1:] + cols[:-1]\n",
    "    df = df[cols]\n",
    "    df[\"table\"] = pd.Series([\"books\"] * len(df.index))\n",
    "    df = df.rename(\n",
    "        columns={\"Image\":\"cover_path\", \"Book Title\": \"book_title\",\"Author\":\"book_author\",\"Date of Publishing\":\"publication_date\",\"Description\":\"description\"}\n",
    "    )\n",
    "    if (i != \"Misc\"):\n",
    "        df[\"category\"] = pd.Series([i] * len(df.index))\n",
    "    \n",
    "\n",
    "\n",
    "    df.to_csv(\"./Book Covers/Processed_csvs/\" + i + \".csv\", index=False)"
   ]
  },
  {
   "cell_type": "markdown",
   "metadata": {},
   "source": [
    "### Check if all labelled images actually exists in folder"
   ]
  },
  {
   "cell_type": "code",
   "execution_count": 5,
   "metadata": {},
   "outputs": [],
   "source": [
    "def ValidPath(x):\n",
    "    image_dir = \"../frontend\"\n",
    "    return os.path.isfile(image_dir + x[1:])\n",
    "\n",
    "def InvalidPathBook(row):\n",
    "    if not row[\"Valid\"]:\n",
    "        print(row[\"Book Title\"])\n"
   ]
  },
  {
   "cell_type": "code",
   "execution_count": 7,
   "metadata": {},
   "outputs": [
    {
     "name": "stdout",
     "output_type": "stream",
     "text": [
      "True    15\n",
      "Name: Valid, dtype: int64\n",
      "True    15\n",
      "Name: Valid, dtype: int64\n",
      "True    15\n",
      "Name: Valid, dtype: int64\n",
      "True    16\n",
      "Name: Valid, dtype: int64\n",
      "True    14\n",
      "Name: Valid, dtype: int64\n",
      "True    14\n",
      "Name: Valid, dtype: int64\n"
     ]
    }
   ],
   "source": [
    "data_dir = \"./Book Covers/Processed_csvs\"\n",
    "for file in os.listdir(data_dir):\n",
    "    # print(file)\n",
    "    df = pd.read_csv(data_dir + \"/\" + file)\n",
    "    df[\"Valid\"] = df[\"cover_path\"].apply(ValidPath)\n",
    "    print(df.Valid.value_counts())\n",
    "    # df.apply(InvalidPathBook, axis=1)"
   ]
  },
  {
   "cell_type": "code",
   "execution_count": null,
   "metadata": {},
   "outputs": [],
   "source": []
  }
 ],
 "metadata": {
  "kernelspec": {
   "display_name": "Python 3",
   "language": "python",
   "name": "python3"
  },
  "language_info": {
   "codemirror_mode": {
    "name": "ipython",
    "version": 3
   },
   "file_extension": ".py",
   "mimetype": "text/x-python",
   "name": "python",
   "nbconvert_exporter": "python",
   "pygments_lexer": "ipython3",
   "version": "3.11.1"
  }
 },
 "nbformat": 4,
 "nbformat_minor": 2
}
